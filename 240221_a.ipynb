{
 "cells": [
  {
   "cell_type": "markdown",
   "metadata": {},
   "source": [
    "# 강사님이 올려주신거여서 Markdown 정리 안되어있음."
   ]
  },
  {
   "cell_type": "code",
   "execution_count": 4,
   "metadata": {},
   "outputs": [],
   "source": [
    "from selenium import webdriver\n",
    "from selenium.webdriver.common.by import By"
   ]
  },
  {
   "cell_type": "code",
   "execution_count": 78,
   "metadata": {},
   "outputs": [],
   "source": [
    "driver = webdriver.Chrome()"
   ]
  },
  {
   "cell_type": "code",
   "execution_count": 79,
   "metadata": {},
   "outputs": [],
   "source": [
    "url = 'https://www.instagram.com/'\n",
    "driver.get(url)"
   ]
  },
  {
   "cell_type": "code",
   "execution_count": 80,
   "metadata": {},
   "outputs": [],
   "source": [
    "import time\n",
    "\n",
    "email = 'davidmakeworld@gmail.com'\n",
    "input_id = driver.find_elements(By.CSS_SELECTOR, 'input._aa4b')[0]\n",
    "input_id.clear()\n",
    "time.sleep(1)\n",
    "input_id.send_keys(email)\n",
    "\n",
    "pw = 'qaz@2wsxe'\n",
    "input_pw = driver.find_elements(By.CSS_SELECTOR, 'input._aa4b')[1]\n",
    "input_pw.clear()\n",
    "input_pw.send_keys(pw)\n",
    "\n"
   ]
  },
  {
   "cell_type": "code",
   "execution_count": 81,
   "metadata": {},
   "outputs": [],
   "source": [
    "submit_b = driver.find_elements(By.CSS_SELECTOR, 'button._acan._acap._acas._aj1-._ap30')[0]\n",
    "submit_b.click()\n",
    "# len(submit_b)"
   ]
  },
  {
   "cell_type": "code",
   "execution_count": 52,
   "metadata": {},
   "outputs": [],
   "source": [
    "# 검색 URL\n",
    "search_url = 'https://www.instagram.com/explore/tags/제주도닷컴/'  # 원격으로 로그인이 안되서 태그를 검색하는 창으로 바로 접속? \n",
    "driver.get(search_url)"
   ]
  },
  {
   "cell_type": "code",
   "execution_count": 53,
   "metadata": {},
   "outputs": [],
   "source": [
    "# 첫번째 Post선택\n",
    "post_ = driver.find_elements(By.CSS_SELECTOR, 'div > ._aabd._aa8k._al3l')[0]\n",
    "post_.click()"
   ]
  },
  {
   "cell_type": "code",
   "execution_count": 55,
   "metadata": {},
   "outputs": [],
   "source": [
    "# 첫번째 POST html 소스 가져오기\n",
    "from bs4 import BeautifulSoup\n",
    "html = driver.page_source\n",
    "soup = BeautifulSoup(html, 'html.parser')"
   ]
  },
  {
   "cell_type": "code",
   "execution_count": 56,
   "metadata": {},
   "outputs": [
    {
     "data": {
      "text/plain": [
       "1"
      ]
     },
     "execution_count": 56,
     "metadata": {},
     "output_type": "execute_result"
    }
   ],
   "source": [
    "contents_ = soup.select('div._a9zs > h1')\n",
    "len(contents_)"
   ]
  },
  {
   "cell_type": "code",
   "execution_count": 66,
   "metadata": {},
   "outputs": [
    {
     "data": {
      "text/plain": [
       "'초성에 들어갈 단어를 맞춰주세요!🎉🤭👍 제주도닷컴 초성 퀴즈 이벤트 🥴👍🎉제주도닷컴이 8월을 맞이하여 댓글 참여 이벤트를 준비했어요!..❤️ 이벤트 참여 방법 ❤️< STEP.1 >제주도닷컴을 팔로우해 주세요..< STEP. 2 >댓글로 초성 퀴즈의 정답과 함께 자신만의 제주도 여행지를 추천해 주세요!ex) 퀴즈 정답 / 우도, 자전거 타고 힐링하기 너무 좋아요! .< PLUS >※ 댓글로 친구 소환하고, 리그램 할수록 당첨 확률 UP UP!..\\u200b🎉 이벤트 기간 ) 22. 08. 16(화) - 22. 08. 31(수)💛 당첨 발표 날짜 ) 2022년 9월 1일🎁 경품 내용 ) [네네치킨] 양념반후라이드반 + 콜라(1.25L) + 감자(2명) / [\\u200b스타벅스] 아메리카노 Tall (20명) / [배스킨라빈스] 싱글레귤러 아이스크림 (30명)..※ 본 이벤트는 제주도닷컴 블로그와 인스타그램에서 동시에 진행하는 이벤트이며 경품은 블로그, 인스타그램을 통해 이벤트에 참여해 주신 모든 분들 중에 총 52명을 선정하여 보내 드릴 예정입니다....#제주도닷컴 #이벤트 #이벤트그램 #치킨추천 #치킨이벤트 #스타벅스이벤트 #스벅아아 #기프티콘이벤트 #기프티콘증정 #event #댓글이벤트 #참여이벤트 #타미 #8월이벤트 #렌터카 #제주도여행'"
      ]
     },
     "execution_count": 66,
     "metadata": {},
     "output_type": "execute_result"
    }
   ],
   "source": [
    "contents__ = contents_[0].text\n",
    "contents__"
   ]
  },
  {
   "cell_type": "code",
   "execution_count": 65,
   "metadata": {},
   "outputs": [
    {
     "data": {
      "text/plain": [
       "['제주도닷컴',\n",
       " '이벤트',\n",
       " '이벤트그램',\n",
       " '치킨추천',\n",
       " '치킨이벤트',\n",
       " '스타벅스이벤트',\n",
       " '스벅아아',\n",
       " '기프티콘이벤트',\n",
       " '기프티콘증정',\n",
       " 'event',\n",
       " '댓글이벤트',\n",
       " '참여이벤트',\n",
       " '타미',\n",
       " '8월이벤트',\n",
       " '렌터카',\n",
       " '제주도여행']"
      ]
     },
     "execution_count": 65,
     "metadata": {},
     "output_type": "execute_result"
    }
   ],
   "source": [
    "hash_list = contents__.split('#')\n",
    "hash_list = hash_list[1:]\n",
    "hash_list = [item.strip() for item in hash_list]\n",
    "hash_list"
   ]
  },
  {
   "cell_type": "code",
   "execution_count": 86,
   "metadata": {},
   "outputs": [],
   "source": [
    "def insta_search(word):\n",
    "  url = 'https://www.instagram.com/explore/tags/'+word\n",
    "  return url"
   ]
  },
  {
   "cell_type": "code",
   "execution_count": 71,
   "metadata": {},
   "outputs": [],
   "source": [
    "def select_first(driver):\n",
    "  post_ = driver.find_elements(By.CSS_SELECTOR, 'div > ._aabd._aa8k._al3l')[0]\n",
    "  post_.click()\n",
    "  time.sleep(3)"
   ]
  },
  {
   "cell_type": "code",
   "execution_count": 72,
   "metadata": {},
   "outputs": [],
   "source": [
    "def get_content(driver):\n",
    "  html = driver.page_source\n",
    "  soup = BeautifulSoup(html, 'html.parser')\n",
    "  contents_ = soup.select('div._a9zs > h1')\n",
    "  contents__ = contents_[0].text\n",
    "  tags = contents__.split('#')\n",
    "  contents_data = tags[0]\n",
    "  tags = tags[1:]\n",
    "  tags = [item.strip() for item in tags]\n",
    "  data = [contents_data, tags]\n",
    "  return data"
   ]
  },
  {
   "cell_type": "code",
   "execution_count": 67,
   "metadata": {},
   "outputs": [
    {
     "data": {
      "text/plain": [
       "1"
      ]
     },
     "execution_count": 67,
     "metadata": {},
     "output_type": "execute_result"
    }
   ],
   "source": [
    "# next button\n",
    "next_btn = driver.find_elements(By.CSS_SELECTOR, 'div._aaqg._aaqh > button._abl-')\n",
    "len(next_btn)"
   ]
  },
  {
   "cell_type": "code",
   "execution_count": 94,
   "metadata": {},
   "outputs": [],
   "source": [
    "# next click event\n",
    "def move_next(driver):\n",
    "  try:\n",
    "    next_btn = driver.find_elements(By.CSS_SELECTOR, 'div._aaqg._aaqh > button._abl-')[0]\n",
    "    next_btn.click()\n",
    "    time.sleep(3)\n",
    "    return True\n",
    "  except:\n",
    "    return False"
   ]
  },
  {
   "cell_type": "code",
   "execution_count": 105,
   "metadata": {},
   "outputs": [
    {
     "name": "stdout",
     "output_type": "stream",
     "text": [
      "https://www.instagram.com/explore/tags/제주여행\n",
      "['포동포동벨리곰 \\U0001fa77🧸\\U0001fa77보틀종류의 케이크는 예약없이 매장에서 구매가능합니다 \\U0001fa77레터링은 7시 마감되며 그 전에 방문 어려우신분들은 매장으로 전화주시면 예약절차 안내 도와드릴게요 🙂', []]\n",
      "['(협찬) @cafe_the_light_jeju💗제주도에서 가장 핫한 제주카페💗 🐋오션뷰 카페 ✔카페더라이트❝ 성산일출봉과 바다를 한 눈에 볼 수 있는 뷰맛집 ❞………………《 🍮 제주 카페더라이트 》…………………📍 제주 서귀포시 성산읍 한도로 269 카페더라이트 📍⏰ 월~토 9:00 ~ 19:00🚷 매주 일요일 휴무📞 064-784-0080……………………………………………………………………………카페 전면 오션뷰 통창으로바다를 느낄 수 있는 \"오션뷰카페\"우도와 성산일출봉이 보이는 \"루프탑 뷰맛집\"인생샷을 남길 수 있는 포토존까지😍휴양지 느낌 가득 , 제주 느낌 가득한\"야외좌석\"도 있어요❣1층 2층 루프탑까지 넓은 카페만큼넓은 주차장까지👍✔️ 대표 메뉴1 \"시그니처 라이트라떼(땅콩라떼)\"✔️ 대표 메뉴2 \"시그니처 제주아이스티\"✔️ 대표 메뉴3 \"한라봉 에이드\"✔️디저트 ,베이커리 엄마손맛 수제!!웰빙 프리미엄 재료로 제주 특산품 한라봉을 이용한 디저트 !! “한라봉 몽블랑 ” 당근케익 베이커리 등 🎂 커플,친구,가족들과 함께 아름다운 제주를 느끼며소중한 시간을 보낼 수 있는 곳 💕……………………………………………………………………………', ['제주여행', '제주카페', '성산일출봉카페', '제주카페추천', '제주루프탑카페', '제주가볼만한곳', '제주도가볼만한곳', '제주여행코스', '제주도날씨', '제주서귀포카페추천', '제주가볼만한곳', '제주데이트', '제주도카페', '제주도맛집', '성산카페', '제주핫플', '제주핫플레이스', '제주핫플카페', '제주오션뷰카페', '제주카페투어', '제주도']]\n",
      "['꿀팁 저장각...', ['제주꿀팁', '제주도꿀팁', '꿀팁', '제주여행', '여행', '커플', '맛집', '남친', '공항', '존잼', '계획']]\n",
      "['현시각 유채꽃🌼과 매화를 한번에 볼 수 있는 제주 봄스팟💞 제주도민이 추천하는 가장 특별한 곳✨ 지금 예쁘게 피어나고 있다는 소식\\U0001faf6🏻 Magical Flower Paradise in Jeju Island 유채꽃 가득 노란 물결💛과 분홍빛 매화🌸를 한번에👀지금까지 가본 유채꽃 스팟 중 가장 특별한💫현시각 가장 예쁜 제주 봄여행지에요☺️예쁜 봄꽃 속을 걸으며 산책하기도 좋고🌿사진첩 가득 인생사진 남기기도 너무 좋아요💖함께 가기 좋은 여행지도 맛집도 가득하다는 사실\\U0001faf6🏻아름다운 제주의 봄 만나러함께 손잡고 제주여행 떠나고 싶은사랑하는 사람을 태그해보세요💕🌼 더 많은 제주 여행 정보가 궁금하다면? @travely.j 📍엉덩물 계곡, 서귀포시 색달동 3384-4⚠️ 실시간 개화 상태를 꼭 확인하고 가세요!💡 올해부터는 통제되어 데크길로만 통행이 가능하다고 해요!📝 함께 가기 좋은 곳 - 걸매생태공원, 군산오름, 고배기 동산, 안덕계곡, 법환포구, 수모루공원, 소천지🍽 함께 가기 좋은 맛집 - 커뮤니테이블, 물질식육식당, 코우, 아지☕️ 함께 가기 좋은 카페 - 귤꽃다락, 루아앤티그리, 글라스월평, 올디벗구디', ['제주', '제주여행', '제주가볼만한곳 .....', '엉덩물계곡', '서귀포가볼만한곳', '서귀포여행', '유채꽃', '제주살이', '제주도', '제주도여행', '제주도가볼만한곳', '국내여행', '국내여행지', '국내여행추천', '제주도핫플', '제주핫플레이스', '제주여행지', '제주가족여행', '제주여행코스', '제주여행추천', '제주명소', 'jeju', 'jejuisland', 'koreatravel', 'jejutravel']]\n",
      "['누가 매일 이렇게 차려주면 좋겠다아🍽️\\U0001fa75', []]\n",
      "['(협찬) @cafe_the_light_jeju💗제주도에서 가장 핫한 제주카페💗 🐋오션뷰 카페 ✔카페더라이트❝ 성산일출봉과 바다를 한 눈에 볼 수 있는 뷰맛집 ❞………………《 🍮 제주 카페더라이트 》…………………📍 제주 서귀포시 성산읍 한도로 269 카페더라이트 📍⏰ 월~토 9:00 ~ 19:00🚷 매주 일요일 휴무📞 064-784-0080……………………………………………………………………………카페 전면 오션뷰 통창으로바다를 느낄 수 있는 \"오션뷰카페\"우도와 성산일출봉이 보이는 \"루프탑 뷰맛집\"인생샷을 남길 수 있는 포토존까지😍휴양지 느낌 가득 , 제주 느낌 가득한\"야외좌석\"도 있어요❣1층 2층 루프탑까지 넓은 카페만큼넓은 주차장까지👍✔️ 대표 메뉴1 \"시그니처 라이트라떼(땅콩라떼)\"✔️ 대표 메뉴2 \"시그니처 제주아이스티\"✔️ 대표 메뉴3 \"한라봉 에이드\"✔️디저트 ,베이커리 엄마손맛 수제!!웰빙 프리미엄 재료로 제주 특산품 한라봉을 이용한 디저트 !! “한라봉 몽블랑 ” 당근케익 베이커리 등 🎂 커플,친구,가족들과 함께 아름다운 제주를 느끼며소중한 시간을 보낼 수 있는 곳 💕……………………………………………………………………………', ['제주여행', '제주카페', '성산일출봉카페', '제주카페추천', '제주루프탑카페', '제주가볼만한곳', '제주도가볼만한곳', '제주여행코스', '제주도날씨', '제주서귀포카페추천', '제주가볼만한곳', '제주데이트', '제주도카페', '제주도맛집', '성산카페', '제주핫플', '제주핫플레이스', '제주핫플카페', '제주오션뷰카페', '제주카페투어', '제주도']]\n",
      "['(협찬)\\u2063애월해안도로에 위치한 선주가 직접 \\u2063제주앞바다에서 잡은 생물을 사용하여\\u2063질과 양으로 승부하는 진짜 맛집!~\\u2063\\u2063가게명 : 지구상회\\u2063주소 : 애월읍 애월해안로 715 2층\\u2063연락처 : 064-746-9080\\u2063영업시간 : 낮12시~새벽2시 (수요일 휴무)\\u2063\\u2063\\u2063', ['제주맛집', '제주도맛집', '제주술집\\u2063', '제주도술집', '제주여행', '제주도여행\\u2063', '애월카페', '애월가볼만한곳', '제주핫플\\u2063', '제주횟집', '제주도횟집', '애월횟집 \\u2063', '애월맛집', '제주애월맛집', '애월술집']]\n",
      "['(리그램) @yuanjae42 ', ['', '제주숙소', '풀스테이사계', '제주키즈펜션', '제주유아펜션', '가족여행', '제주여행', '풀스테이유안재', '제주숙소예약', '추억여행', '산방산펜션']]\n",
      "['(협찬) @cafe_the_light_jeju💗제주도에서 가장 핫한 제주카페💗 🐋오션뷰 카페 ✔카페더라이트❝ 성산일출봉과 바다를 한 눈에 볼 수 있는 뷰맛집 ❞………………《 🍮 제주 카페더라이트 》…………………📍 제주 서귀포시 성산읍 한도로 269 카페더라이트 📍⏰ 월~토 9:00 ~ 19:00🚷 매주 일요일 휴무📞 064-784-0080……………………………………………………………………………카페 전면 오션뷰 통창으로바다를 느낄 수 있는 \"오션뷰카페\"우도와 성산일출봉이 보이는 \"루프탑 뷰맛집\"인생샷을 남길 수 있는 포토존까지😍휴양지 느낌 가득 , 제주 느낌 가득한\"야외좌석\"도 있어요❣1층 2층 루프탑까지 넓은 카페만큼넓은 주차장까지👍✔️ 대표 메뉴1 \"시그니처 라이트라떼(땅콩라떼)\"✔️ 대표 메뉴2 \"시그니처 제주아이스티\"✔️ 대표 메뉴3 \"한라봉 에이드\"✔️디저트 ,베이커리 엄마손맛 수제!!웰빙 프리미엄 재료로 제주 특산품 한라봉을 이용한 디저트 !! “한라봉 몽블랑 ” 당근케익 베이커리 등 🎂 커플,친구,가족들과 함께 아름다운 제주를 느끼며소중한 시간을 보낼 수 있는 곳 💕……………………………………………………………………………', ['제주여행', '제주카페', '성산일출봉카페', '제주카페추천', '제주루프탑카페', '제주가볼만한곳', '제주도가볼만한곳', '제주여행코스', '제주도날씨', '제주서귀포카페추천', '제주가볼만한곳', '제주데이트', '제주도카페', '제주도맛집', '성산카페', '제주핫플', '제주핫플레이스', '제주핫플카페', '제주오션뷰카페', '제주카페투어', '제주도']]\n",
      "['(리그램) @yuanjae42 ', ['', '제주숙소', '풀스테이사계', '제주키즈펜션', '제주유아펜션', '가족여행', '제주여행', '풀스테이유안재', '제주숙소예약', '추억여행', '산방산펜션']]\n",
      "['(리그램) @jeju864 객실 통창에서 바라보는 산방산뷰가 예쁜 숙소!⠀⠀', ['864펜션', '제주펜션', '제주숙소', '제주감성숙소', '제주풀빌라', '제주여행', '제주가족여행']]\n",
      "['', ['요즘숙소챌린지 주말도 10만 원대 제주 독채🌴가성비 끝판왕 숙소 우진맘이 찾았어요🙆🏻\\u200d♀️저 진짜 금액 보고 놀랬잖아요\\U0001fae2\\U0001fae2\\U0001fae2저 진짜 금액 보고 놀래서..노천탕 추가 요금 없나요..??결제 안내받고 한 번 더 물어봤잖아요🤣🤣🤣진짜 도착하자마자 생각보다 더 좋아서가성비 최고라고 남편이랑 몇 번을 말했는지 몰라요🤣🤣야외노천탕 +바베큐도 즐길 수 있고서귀포에 위치해서 배민 가능한 곳도 많더라구요폴딩도어 열면 탁 트인 푸릇푸릇뷰제주 느낌 물씬 나는 야외 노천탕까지!!야간에 별 보면서 즐기는 노천캉 최고였어요👍👍이렇게 가성비 좋은 숙소는 찾기 힘든 거 아시죠?모르면 손해!! 무조건 저장해두세요✌️@totomoii0211 님의 행복한 순간,', '제주', '화순가옥📍주소 : 제주 서귀포시 안덕면 화순로87번길 31-4📍전화 : 010-2672-9539.....', '요즘숙소_제주', '제주여행', '제주숙소', '제주호텔', '제주가볼만한곳', '제주풀빌라', '제주펜션', '제주도숙소', '제주도호텔', '제주도여행', '제주맛집', '제주카페', '서귀포여행', '서귀포숙소', '서귀포호텔', '서귀포펜션', '서귀포맛집', '서귀포카페', '서귀포가볼만한곳']]\n",
      "['제주의 자연속에서 귀여운 스누피를 만날수 있는곳👆🏻⠀ ⠀⠀⠀⠀⠀ ⠀⠀ ⠀⠀⠀⠀⠀⠀⠀⠀⠀⠀⠀⠀⠀⠀⠀💌스누피가든제주 제주시 구좌읍 금백조로 930⏰09:00 - 18:00화(2/13) 10:00 - 18:00..', ['제주여행', '제주도가볼만한곳', '제주핫플레이스', '제주도여행', '제주동쪽여행', '제주도아이와가볼만한곳', '제주도가족여행', '제주가볼만한곳']]\n",
      "['제주의 자연속에서 귀여운 스누피를 만날수 있는곳👆🏻⠀ ⠀⠀⠀⠀⠀ ⠀⠀ ⠀⠀⠀⠀⠀⠀⠀⠀⠀⠀⠀⠀⠀⠀⠀💌스누피가든제주 제주시 구좌읍 금백조로 930⏰09:00 - 18:00화(2/13) 10:00 - 18:00..제주여행 제주도가볼만한곳 제주핫플레이스 제주도여행 제주동쪽여행 제주도아이와가볼만한곳 제주도가족여행 제주가볼만한곳', []]\n",
      "['[협찬]제주 서귀포 핵존맛 흑돼지 끝판왕 맛집 찾았어요!!연예인들도 자주찾는 찐맛집 ,,,💖제주도에서만 느낄 수 있는 까망돼지라는데><서귀포점, 중문점 2곳에서 만날 수 있고 이곳이 원조 흑돼지맛집 이라네요 ( •̀ ω •́ )✧2주간 숙성된 고기만 사용해서 입안에서 풍미가 가득,,,심지어 숙성되지않은 고기는 사용하시지 않는다구!!!!입맛대로 골라 먹을 수 있는 4가지 소스 제공은덤!!멸치젓갈부터 청양마요소스 , 제주 특제 한라봉소스, 마늘소스까지다양하게 취양대로 즐길수있어 입이즐겁다 💖특히 고사리를 제공해주는데 흑돼지랑 고사리를 싸먹으니 입안에서 고사리향과 흑돼지에 쫄깃함이 환상의조합!! 여긴 나만 알고싶은 맛집 공개하는거니 꼭 가보라규 💖💖* 대표메뉴☑흑돼지 근고기☑진짜제주생갈비☑김치찌개☑된장찌개☑계란찜좋은 재료와 든든한 한끼 맛 볼 수 있는', ['서귀포맛집 까망돼지로 달려가보자구!!🚩까망돼지 서귀포점🚩제주 서귀포시 일주동로 8524운영시간매일11:00 ~ 23:00전화 0507-1312-6542', '제주맛집', '서귀포시맛집', '제주여행', '제주가볼만한곳', '제주핫플', '제주도핫플', '제주도여행', '제주도가볼만한곳', '제주고기집', '제주고깃집', '까망돼지서귀포점', '까망돼지중문점', '중문맛집', '제주흑돼지맛집']]\n",
      "['소중하다 그 누구보다 소중하다ㅡ', ['제주스냅', '0520', '제주스냅_0520']]\n",
      "['헤헤 \\U0001fa75', []]\n",
      "[\"새해를 벨룸에서 맞이한 @rihas____k 님!\\xa0벨룸은 신년을 함께 맞이하기에 최고의 장소입니다. 한라산뷰와 가든뷰 오션뷰까지 멋진 뷰와 함께 신년파티를 즐기셨다면 분명 신년은 편안하고 아름다운 기억으로 가득 찼을테니, 앞으로의 새해도 행복과 기쁨으로 가득하길 바랍니다. 새로운 시작, 즐거운 여행이 더욱 기대되는 시간이 되었을 거에요!@rihas____k welcomed the New Year at Velum!Velum is the best place to welcome the New Year together. If you enjoyed the New Year's party with a beautiful view of Hallasan Mountain, Garden View, and Ocean View, the New Year will surely be filled with comfortable and beautiful memories, so we hope that the coming New Year will also be filled with happiness and joy.\\xa0\\xa0It must have been a time to look forward to a new beginning and a fun trip!\", ['제주도호텔', '제주도독채', '제주도리조트', '제주도숙소', '제주도여행', '제주도풀빌', '제주여행', '제주풀빌라', '제주호텔', '서귀포리조트', '서귀포숙소', '서귀포여행', '서귀포풀빌라', '국내여행', 'jeju', 'jejuislandkorea', 'Velum', 'Velumresort', 'JejuHotel', 'jeju', '제주여행', '가족여행', '겨울여행']]\n",
      "['(협찬) @cafe_the_light_jeju💗제주도에서 가장 핫한 제주카페💗 🐋오션뷰 카페 ✔카페더라이트❝ 성산일출봉과 바다를 한 눈에 볼 수 있는 뷰맛집 ❞………………《 🍮 제주 카페더라이트 》…………………📍 제주 서귀포시 성산읍 한도로 269 카페더라이트 📍⏰ 월~토 9:00 ~ 19:00🚷 매주 일요일 휴무📞 064-784-0080……………………………………………………………………………카페 전면 오션뷰 통창으로바다를 느낄 수 있는 \"오션뷰카페\"우도와 성산일출봉이 보이는 \"루프탑 뷰맛집\"인생샷을 남길 수 있는 포토존까지😍휴양지 느낌 가득 , 제주 느낌 가득한\"야외좌석\"도 있어요❣1층 2층 루프탑까지 넓은 카페만큼넓은 주차장까지👍✔️ 대표 메뉴1 \"시그니처 라이트라떼(땅콩라떼)\"✔️ 대표 메뉴2 \"시그니처 제주아이스티\"✔️ 대표 메뉴3 \"한라봉 에이드\"✔️디저트 ,베이커리 엄마손맛 수제!!웰빙 프리미엄 재료로 제주 특산품 한라봉을 이용한 디저트 !! “한라봉 몽블랑 ” 당근케익 베이커리 등 🎂 커플,친구,가족들과 함께 아름다운 제주를 느끼며소중한 시간을 보낼 수 있는 곳 💕……………………………………………………………………………', ['제주여행', '제주카페', '성산일출봉카페', '제주카페추천', '제주루프탑카페', '제주가볼만한곳', '제주도가볼만한곳', '제주여행코스', '제주도날씨', '제주서귀포카페추천', '제주가볼만한곳', '제주데이트', '제주도카페', '제주도맛집', '성산카페', '제주핫플', '제주핫플레이스', '제주핫플카페', '제주오션뷰카페', '제주카페투어', '제주도']]\n",
      "['제철 생과일로만 가득 ', ['과일샌드', '제주산흑돼지 본연의 맛을 즐기실 수 있는', '흑도새기샌드부드럽게 맛있게 잘 준비해서 브레이크타임 없이 운영중입니다🙆\\u200d♀️전 메뉴 포장 가능하며,도착 30분 전 전화주시면 시간 맞춰 포장 도와드리겠습니다🙃오늘도', '안녕하샌']]\n",
      "['(협찬)\\u2063애월해안도로에 위치한 선주가 직접 \\u2063제주앞바다에서 잡은 생물을 사용하여\\u2063질과 양으로 승부하는 진짜 맛집!~\\u2063\\u2063가게명 : 지구상회\\u2063주소 : 애월읍 애월해안로 715 2층\\u2063연락처 : 064-746-9080\\u2063영업시간 : 낮12시~새벽2시 (수요일 휴무)\\u2063\\u2063', ['제주도맛집', '제주맛집', '애월맛집', '제주애월맛집', '애월술집\\u2063', '제주술집\\u2063', '제주도술집', '제주여행', '제주도여행\\u2063', '애월카페', '애월가볼만한곳', '제주핫플\\u2063', '제주횟집', '제주도횟집', '애월횟집']]\n",
      "['제주 힐링 🌴🤍지나가다 웰컴투 삼달리 촬영지들 🙃', ['웰컴투삼달리', '제주여행']]\n",
      "['(협찬)\\u2063애월해안도로에 위치한 선주가 직접 \\u2063제주앞바다에서 잡은 생물을 사용하여\\u2063질과 양으로 승부하는 진짜 맛집!~\\u2063\\u2063가게명 : 지구상회\\u2063주소 : 애월읍 애월해안로 715 2층\\u2063연락처 : 064-746-9080\\u2063영업시간 : 낮12시~새벽2시 (수요일 휴무)\\u2063\\u2063', ['제주맛집', '애월맛집', '제주애월맛집', '애월술집\\u2063', '제주도맛집', '제주술집\\u2063', '제주도술집', '제주여행', '제주도여행\\u2063', '애월카페', '애월가볼만한곳', '제주핫플\\u2063', '제주횟집', '제주도횟집', '애월횟집']]\n",
      "['', ['제주도여기 🌼🌼🌼지금 제주도에서 유채꽃 뷰가제일 예쁜 카페는 바로 여기 😍앞으로는 용머리해안과 유채꽃이,뒤로는 산방산을 배경으로 진짜제주스러운 풍경을 만끽할 수 있어요. 👍', '소색채본커피와 차, 다양한 디저트가 가득합니다.산방산 근처에 가시면 유책꽃도 보고디저트 타임도 한번 즐겨 보세요. 💕오늘도 제주하세요. 😉\\U0001faf0▪️ 소색채본▪️ 제주 서귀포시 안덕면 사계남로216번길 24-61▪️ 09:00 - 19:00▪️ @sschebon', '봄', '제주', '유채꽃', '산방산', '제주여행', '봄']]\n",
      "['(광고)', ['제주도오션뷰펜션\"천혜의 자연 환상의 섬 제주도 해뜨는 성\"제주 동쪽에 위치한 오션뷰맛집 아름다운', '제주펜션 해뜨는 성☺------------제주 펜션 해뜨는 성---------------☺위치 : 제주 서귀포시 성산읍 한도로 267☺입실 : 15:00 / 퇴 실 : 11:00☺번호 : 010-2695-3380☺14평 / 18평 / 30평-----------------------------------------------', '제주도여행 중 \"해뜨는 성\"에서만 즐길 수 있는 포인트와콘텐츠들을 안내드리겠습니다♥ 넓고 깨끗한 제주 \"가성비 펜션\"☺ \"올레1코스\" 중간지점에 위치 해 \"산책코스\"☺ \"성산일출봉\" 입구까지 300M 객실에서 바로 감상할 수 있는 \"아름다운 일출\"☺ 바다 를 눈 앞에서 느낄 수 있는 \"전 객실 오션 뷰\"☺ 숙소 5분 거리에 조개 잡이 체험장과섭지코지에서의 해상레져, 오름에서 즐기는 승마체험까지!! \"풍부한 주변 볼거리\"☺\\u200d친구,커플,가족들과 함께 아름다운 제주 ♥행복한 추억을 남길 수 있는 곳♥', '제주여행', '제주도', '제주도펜션', '제주도숙소', '제주도가볼만한곳', '성산일출봉펜션', '제주도숙소추천', '제주숙소', '제주숙소추천', '제주펜션추천', '서귀포펜션', '서귀포펜션추천']]\n",
      "['📍제주동백📍오늘처럼 비가 촉촉히 내리던날 담았던제주 동백사진 몇장 올려봅니다.어서 노랑,빨강,파랑 가득한 봄이 왔으면어서 빨리 출사계획 세우며 가슴 설레이는봄이 왔으면 좋겠습니다 🌸🌸🌸', ['제주여행', '제주동백', '제주동박낭', '제주까페', '동박낭', '제주동백꽃']]\n",
      "['끝까지 봐주세요😍', ['제주비', '제주비오는날가볼만한곳', '제주오름제주 비오는데 갈만한 오름 1위', '물영아리오름비오는 날은 안개 가득, 그윽해서 신비로운 숲느낌 만끽😍질퍽질퍽하지 않고 계단이라 좀 난이도 있어도 금방 올라감🙋🏻\\u200d♀️오름 초입부터 한걸음 한걸음이 다 이쁜곳.맑은날은 초임에부터 오름아래 소들이 엄청 많고 사진 찍음 이쁨😍물영아리오름은 습지라서 분화구가 호수처럼 물이 한가득😍맑은날은 개구리가 눈 뻑끔 내놓은것도 보임😍물영아리오름은 습지보호지역이라 멸종위기 야생생물들고 서식하여 교육적으로도 아주 좋다.아이들과 등반 추천😍호수 앞에 한참을 앉아서 힐링타임😍오늘 같이 비오느날 제주여행 이라면 추천추천🙋🏻\\u200d♀️📍물영아리오름 •제주 서귀포시 남원읍 수망리 산188.....', '제주', '제주여행', '제주오름', '오름', '오름투어', '제주비오는날', '제주갈만한곳', '제주오름추천', '제주오름추천', '오름추천', '제주도민', '제주카페', '제주신상카페', '제주가오픈', '제주골프', '제주와인', '제주비', '와인', '낭만적']]\n",
      "['(협찬) @cafe_the_light_jeju💗제주도에서 가장 핫한 제주카페💗 🐋오션뷰 카페 ✔카페더라이트❝ 성산일출봉과 바다를 한 눈에 볼 수 있는 뷰맛집 ❞………………《 🍮 제주 카페더라이트 》…………………📍 제주 서귀포시 성산읍 한도로 269 카페더라이트 📍⏰ 월~토 9:00 ~ 19:00🚷 매주 일요일 휴무📞 064-784-0080……………………………………………………………………………카페 전면 오션뷰 통창으로바다를 느낄 수 있는 \"오션뷰카페\"우도와 성산일출봉이 보이는 \"루프탑 뷰맛집\"인생샷을 남길 수 있는 포토존까지😍휴양지 느낌 가득 , 제주 느낌 가득한\"야외좌석\"도 있어요❣1층 2층 루프탑까지 넓은 카페만큼넓은 주차장까지👍✔️ 대표 메뉴1 \"시그니처 라이트라떼(땅콩라떼)\"✔️ 대표 메뉴2 \"시그니처 제주아이스티\"✔️ 대표 메뉴3 \"한라봉 에이드\"✔️디저트 ,베이커리 엄마손맛 수제!!웰빙 프리미엄 재료로 제주 특산품 한라봉을 이용한 디저트 !! “한라봉 몽블랑 ” 당근케익 베이커리 등 🎂 커플,친구,가족들과 함께 아름다운 제주를 느끼며소중한 시간을 보낼 수 있는 곳 💕……………………………………………………………………………', ['제주여행', '제주카페', '성산일출봉카페', '제주카페추천', '제주루프탑카페', '제주가볼만한곳', '제주도가볼만한곳', '제주여행코스', '제주도날씨', '제주서귀포카페추천', '제주가볼만한곳', '제주데이트', '제주도카페', '제주도맛집', '성산카페', '제주핫플', '제주핫플레이스', '제주핫플카페', '제주오션뷰카페', '제주카페투어', '제주도']]\n"
     ]
    }
   ],
   "source": [
    "# 함수 활용해서 인스타 컨텐츠와 태그를 저장\n",
    "word = '제주여행'\n",
    "url = insta_search(word)\n",
    "\n",
    "print(url)\n",
    "driver.get(url)\n",
    "time.sleep(5)\n",
    "\n",
    "select_first(driver)\n",
    "\n",
    "results = []\n",
    "#수집할 게시글 수를 50개정도로 고정\n",
    "for i in range(100):\n",
    "  data = get_content(driver)\n",
    "  results.append(data)\n",
    "  print(data)\n",
    "  is_next = move_next(driver)\n",
    "  if is_next == False:\n",
    "    break;\n",
    "  "
   ]
  },
  {
   "cell_type": "code",
   "execution_count": null,
   "metadata": {},
   "outputs": [],
   "source": [
    "results[:3]"
   ]
  },
  {
   "cell_type": "code",
   "execution_count": 106,
   "metadata": {},
   "outputs": [
    {
     "name": "stdout",
     "output_type": "stream",
     "text": [
      "<class 'pandas.core.frame.DataFrame'>\n",
      "RangeIndex: 28 entries, 0 to 27\n",
      "Data columns (total 2 columns):\n",
      " #   Column   Non-Null Count  Dtype \n",
      "---  ------   --------------  ----- \n",
      " 0   content  28 non-null     object\n",
      " 1   tags     28 non-null     object\n",
      "dtypes: object(2)\n",
      "memory usage: 576.0+ bytes\n"
     ]
    }
   ],
   "source": [
    "import pandas as pd\n",
    "df = pd.DataFrame(results, columns = ['content', 'tags'])\n",
    "df.info()"
   ]
  },
  {
   "cell_type": "code",
   "execution_count": 107,
   "metadata": {},
   "outputs": [
    {
     "data": {
      "text/html": [
       "<div>\n",
       "<style scoped>\n",
       "    .dataframe tbody tr th:only-of-type {\n",
       "        vertical-align: middle;\n",
       "    }\n",
       "\n",
       "    .dataframe tbody tr th {\n",
       "        vertical-align: top;\n",
       "    }\n",
       "\n",
       "    .dataframe thead th {\n",
       "        text-align: right;\n",
       "    }\n",
       "</style>\n",
       "<table border=\"1\" class=\"dataframe\">\n",
       "  <thead>\n",
       "    <tr style=\"text-align: right;\">\n",
       "      <th></th>\n",
       "      <th>content</th>\n",
       "      <th>tags</th>\n",
       "    </tr>\n",
       "  </thead>\n",
       "  <tbody>\n",
       "    <tr>\n",
       "      <th>0</th>\n",
       "      <td>포동포동벨리곰 🩷🧸🩷보틀종류의 케이크는 예약없이 매장에서 구매가능합니다 🩷레터링은 ...</td>\n",
       "      <td>[]</td>\n",
       "    </tr>\n",
       "    <tr>\n",
       "      <th>1</th>\n",
       "      <td>(협찬) @cafe_the_light_jeju💗제주도에서 가장 핫한 제주카페💗 🐋오...</td>\n",
       "      <td>[제주여행, 제주카페, 성산일출봉카페, 제주카페추천, 제주루프탑카페, 제주가볼만한곳...</td>\n",
       "    </tr>\n",
       "    <tr>\n",
       "      <th>2</th>\n",
       "      <td>꿀팁 저장각...</td>\n",
       "      <td>[제주꿀팁, 제주도꿀팁, 꿀팁, 제주여행, 여행, 커플, 맛집, 남친, 공항, 존잼...</td>\n",
       "    </tr>\n",
       "    <tr>\n",
       "      <th>3</th>\n",
       "      <td>현시각 유채꽃🌼과 매화를 한번에 볼 수 있는 제주 봄스팟💞 제주도민이 추천하는 가장...</td>\n",
       "      <td>[제주, 제주여행, 제주가볼만한곳 ....., 엉덩물계곡, 서귀포가볼만한곳, 서귀포...</td>\n",
       "    </tr>\n",
       "    <tr>\n",
       "      <th>4</th>\n",
       "      <td>누가 매일 이렇게 차려주면 좋겠다아🍽️🩵</td>\n",
       "      <td>[]</td>\n",
       "    </tr>\n",
       "  </tbody>\n",
       "</table>\n",
       "</div>"
      ],
      "text/plain": [
       "                                             content  \\\n",
       "0  포동포동벨리곰 🩷🧸🩷보틀종류의 케이크는 예약없이 매장에서 구매가능합니다 🩷레터링은 ...   \n",
       "1  (협찬) @cafe_the_light_jeju💗제주도에서 가장 핫한 제주카페💗 🐋오...   \n",
       "2                                          꿀팁 저장각...   \n",
       "3  현시각 유채꽃🌼과 매화를 한번에 볼 수 있는 제주 봄스팟💞 제주도민이 추천하는 가장...   \n",
       "4                             누가 매일 이렇게 차려주면 좋겠다아🍽️🩵   \n",
       "\n",
       "                                                tags  \n",
       "0                                                 []  \n",
       "1  [제주여행, 제주카페, 성산일출봉카페, 제주카페추천, 제주루프탑카페, 제주가볼만한곳...  \n",
       "2  [제주꿀팁, 제주도꿀팁, 꿀팁, 제주여행, 여행, 커플, 맛집, 남친, 공항, 존잼...  \n",
       "3  [제주, 제주여행, 제주가볼만한곳 ....., 엉덩물계곡, 서귀포가볼만한곳, 서귀포...  \n",
       "4                                                 []  "
      ]
     },
     "execution_count": 107,
     "metadata": {},
     "output_type": "execute_result"
    }
   ],
   "source": [
    "df.head()"
   ]
  },
  {
   "cell_type": "code",
   "execution_count": 108,
   "metadata": {},
   "outputs": [],
   "source": [
    "df.to_excel('../data/crawing_jajuYeaHang.xlsx', index=False)"
   ]
  },
  {
   "cell_type": "code",
   "execution_count": null,
   "metadata": {},
   "outputs": [],
   "source": [
    "# 3개의 파일을 하나의 데이터프레임으로 통합\n",
    "jeju_insta_df = pd.DataFrame([])\n",
    "f_list = ['../data/crawing_jajuYeaHang.xlsx', '../data/crawing_jajumGwanGwag.xlsx', '../data/crawing_jajumatzip.xlsx']\n",
    "for name in f_list:\n",
    "  temp = pd.read_excel(name)\n",
    "  jeju_insta_df = pd.concat([jeju_insta_df, temp])\n",
    "  \n",
    "jeju_insta_df.tail(50)\n",
    "# jeju_insta_df.columns\n",
    "# jeju_insta_df.info()\n"
   ]
  },
  {
   "cell_type": "code",
   "execution_count": 125,
   "metadata": {},
   "outputs": [
    {
     "data": {
      "text/html": [
       "<div>\n",
       "<style scoped>\n",
       "    .dataframe tbody tr th:only-of-type {\n",
       "        vertical-align: middle;\n",
       "    }\n",
       "\n",
       "    .dataframe tbody tr th {\n",
       "        vertical-align: top;\n",
       "    }\n",
       "\n",
       "    .dataframe thead th {\n",
       "        text-align: right;\n",
       "    }\n",
       "</style>\n",
       "<table border=\"1\" class=\"dataframe\">\n",
       "  <thead>\n",
       "    <tr style=\"text-align: right;\">\n",
       "      <th></th>\n",
       "      <th>index</th>\n",
       "      <th>content</th>\n",
       "      <th>tags</th>\n",
       "    </tr>\n",
       "  </thead>\n",
       "  <tbody>\n",
       "    <tr>\n",
       "      <th>0</th>\n",
       "      <td>0</td>\n",
       "      <td>포동포동벨리곰 🩷🧸🩷보틀종류의 케이크는 예약없이 매장에서 구매가능합니다 🩷레터링은 ...</td>\n",
       "      <td>[]</td>\n",
       "    </tr>\n",
       "    <tr>\n",
       "      <th>1</th>\n",
       "      <td>1</td>\n",
       "      <td>(협찬) @cafe_the_light_jeju💗제주도에서 가장 핫한 제주카페💗 🐋오...</td>\n",
       "      <td>['제주여행', '제주카페', '성산일출봉카페', '제주카페추천', '제주루프탑카페...</td>\n",
       "    </tr>\n",
       "    <tr>\n",
       "      <th>2</th>\n",
       "      <td>2</td>\n",
       "      <td>꿀팁 저장각...</td>\n",
       "      <td>['제주꿀팁', '제주도꿀팁', '꿀팁', '제주여행', '여행', '커플', '맛...</td>\n",
       "    </tr>\n",
       "    <tr>\n",
       "      <th>3</th>\n",
       "      <td>3</td>\n",
       "      <td>현시각 유채꽃🌼과 매화를 한번에 볼 수 있는 제주 봄스팟💞 제주도민이 추천하는 가장...</td>\n",
       "      <td>['제주', '제주여행', '제주가볼만한곳 .....', '엉덩물계곡', '서귀포가...</td>\n",
       "    </tr>\n",
       "    <tr>\n",
       "      <th>4</th>\n",
       "      <td>4</td>\n",
       "      <td>누가 매일 이렇게 차려주면 좋겠다아🍽️🩵</td>\n",
       "      <td>[]</td>\n",
       "    </tr>\n",
       "  </tbody>\n",
       "</table>\n",
       "</div>"
      ],
      "text/plain": [
       "   index                                            content  \\\n",
       "0      0  포동포동벨리곰 🩷🧸🩷보틀종류의 케이크는 예약없이 매장에서 구매가능합니다 🩷레터링은 ...   \n",
       "1      1  (협찬) @cafe_the_light_jeju💗제주도에서 가장 핫한 제주카페💗 🐋오...   \n",
       "2      2                                          꿀팁 저장각...   \n",
       "3      3  현시각 유채꽃🌼과 매화를 한번에 볼 수 있는 제주 봄스팟💞 제주도민이 추천하는 가장...   \n",
       "4      4                             누가 매일 이렇게 차려주면 좋겠다아🍽️🩵   \n",
       "\n",
       "                                                tags  \n",
       "0                                                 []  \n",
       "1  ['제주여행', '제주카페', '성산일출봉카페', '제주카페추천', '제주루프탑카페...  \n",
       "2  ['제주꿀팁', '제주도꿀팁', '꿀팁', '제주여행', '여행', '커플', '맛...  \n",
       "3  ['제주', '제주여행', '제주가볼만한곳 .....', '엉덩물계곡', '서귀포가...  \n",
       "4                                                 []  "
      ]
     },
     "execution_count": 125,
     "metadata": {},
     "output_type": "execute_result"
    }
   ],
   "source": [
    "jeju_insta_df.reset_index(inplace=True)\n",
    "jeju_insta_df.head()\n",
    "# jeju_insta_df.columns = ['contents', 'tags']"
   ]
  },
  {
   "cell_type": "code",
   "execution_count": 126,
   "metadata": {},
   "outputs": [],
   "source": [
    "jeju_insta_df.drop(columns='index', inplace=True)"
   ]
  },
  {
   "cell_type": "code",
   "execution_count": 129,
   "metadata": {},
   "outputs": [
    {
     "name": "stdout",
     "output_type": "stream",
     "text": [
      "<class 'pandas.core.frame.DataFrame'>\n",
      "RangeIndex: 83 entries, 0 to 82\n",
      "Data columns (total 2 columns):\n",
      " #   Column   Non-Null Count  Dtype \n",
      "---  ------   --------------  ----- \n",
      " 0   content  76 non-null     object\n",
      " 1   tags     83 non-null     object\n",
      "dtypes: object(2)\n",
      "memory usage: 1.4+ KB\n"
     ]
    }
   ],
   "source": [
    "jeju_insta_df.head(50)\n",
    "jeju_insta_df.info()"
   ]
  },
  {
   "cell_type": "code",
   "execution_count": null,
   "metadata": {},
   "outputs": [],
   "source": [
    "jeju_insta_df.head(30)"
   ]
  },
  {
   "cell_type": "code",
   "execution_count": 133,
   "metadata": {},
   "outputs": [
    {
     "name": "stdout",
     "output_type": "stream",
     "text": [
      "<class 'pandas.core.frame.DataFrame'>\n",
      "Int64Index: 53 entries, 0 to 68\n",
      "Data columns (total 2 columns):\n",
      " #   Column   Non-Null Count  Dtype \n",
      "---  ------   --------------  ----- \n",
      " 0   content  52 non-null     object\n",
      " 1   tags     53 non-null     object\n",
      "dtypes: object(2)\n",
      "memory usage: 1.2+ KB\n"
     ]
    }
   ],
   "source": [
    "jeju_insta_df.drop_duplicates(subset='content', inplace=True)\n",
    "jeju_insta_df.head(30)\n",
    "jeju_insta_df.info()"
   ]
  },
  {
   "cell_type": "code",
   "execution_count": 134,
   "metadata": {},
   "outputs": [],
   "source": [
    "jeju_insta_df.to_excel('../data/crawing_total.xlsx', index=False)"
   ]
  },
  {
   "cell_type": "markdown",
   "metadata": {},
   "source": [
    "# 여기까지 crawimg_toatal 만드는 과정"
   ]
  }
 ],
 "metadata": {
  "kernelspec": {
   "display_name": "base",
   "language": "python",
   "name": "python3"
  },
  "language_info": {
   "codemirror_mode": {
    "name": "ipython",
    "version": 3
   },
   "file_extension": ".py",
   "mimetype": "text/x-python",
   "name": "python",
   "nbconvert_exporter": "python",
   "pygments_lexer": "ipython3",
   "version": "3.10.9"
  },
  "orig_nbformat": 4
 },
 "nbformat": 4,
 "nbformat_minor": 2
}
