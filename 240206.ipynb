{
 "cells": [
  {
   "cell_type": "markdown",
   "metadata": {},
   "source": [
    "### bool(부울자료형)\n",
    "- True, False\n",
    "- 주로 조건문에서 사용\n",
    "- ==, >, <, ..."
   ]
  },
  {
   "cell_type": "code",
   "execution_count": null,
   "metadata": {},
   "outputs": [
    {
     "data": {
      "text/plain": [
       "True"
      ]
     },
     "execution_count": 1,
     "metadata": {},
     "output_type": "execute_result"
    }
   ],
   "source": [
    "'kim' == 'kim'"
   ]
  },
  {
   "cell_type": "code",
   "execution_count": null,
   "metadata": {},
   "outputs": [
    {
     "data": {
      "text/plain": [
       "True"
      ]
     },
     "execution_count": 2,
     "metadata": {},
     "output_type": "execute_result"
    }
   ],
   "source": [
    "10 < 11"
   ]
  },
  {
   "cell_type": "code",
   "execution_count": null,
   "metadata": {},
   "outputs": [
    {
     "name": "stdout",
     "output_type": "stream",
     "text": [
      "True\n",
      "True\n"
     ]
    },
    {
     "data": {
      "text/plain": [
       "True"
      ]
     },
     "execution_count": 13,
     "metadata": {},
     "output_type": "execute_result"
    }
   ],
   "source": [
    "# 문자열이 있으면 True\n",
    "if 'kim':\n",
    "    print(True)\n",
    "\n",
    "# 리스트가 비어있으면 False\n",
    "if []:\n",
    "    print(True)\n",
    "\n",
    "if 1:\n",
    "    print(True)\n",
    "\n",
    "bool([1,2,3])"
   ]
  },
  {
   "cell_type": "code",
   "execution_count": null,
   "metadata": {},
   "outputs": [
    {
     "name": "stdout",
     "output_type": "stream",
     "text": [
      "하\n",
      "끝내보자\n",
      "승마\n",
      "승마\n",
      "(1, 2, 3, 1, 2, 3, 1, 2, 3, 4, 5, 6, 4, 5, 6)\n",
      "{'name': 'pyo', 'hobby': 'swim'}\n",
      "dict_keys(['name', 'hobby'])\n",
      "dict_values(['pyo', 'swim'])\n"
     ]
    },
    {
     "data": {
      "text/plain": [
       "'swim'"
      ]
     },
     "execution_count": 50,
     "metadata": {},
     "output_type": "execute_result"
    }
   ],
   "source": [
    "sentence = '파이썬 하루만에 끝내보자'\n",
    "\n",
    "# sentence 문자열에서 '하' 문자를 출력\n",
    "print(sentence[4])\n",
    "\n",
    "# sentence 문자열에서 '끝내보자' 문자를 출력\n",
    "print(sentence[9:])\n",
    "\n",
    "## 9 * 9 = 81 출력해보자\n",
    "\n",
    "# 숫자 부분에 % 연산자 포맷팅\n",
    "sentence = \"%d * %d = %d\" % (9, 9, 81) \n",
    "sentence\n",
    "\n",
    "# 숫자 부분에.format 포맷팅\n",
    "sentence = \"{} * {} = {}\".format(9, 9, 81)\n",
    "sentence\n",
    "\n",
    "# f-string\n",
    "n1, n2 = 9, 9\n",
    "n3 = n1 * n2\n",
    "\n",
    "sentence = f'{n1}*{n2}={n3}'\n",
    "sentence\n",
    "myList = [2024, 3, 9*9, ['풋살', ['승마', '수영']]]\n",
    "\n",
    "# myList 리스트에서 인덱싱 이용하여 '승마' 문자 출력\n",
    "print(myList[3][1][-2])\n",
    "print(myList[-1][1][0])\n",
    "\n",
    "# myList 리스트에서 3번째 위치에 \"삽입\" 문자열 삽입\n",
    "myList.insert(3, '삽입')\n",
    "myList\n",
    "\n",
    "myTuple1 = (1,2,3)\n",
    "myTuple2 = (4,5,6)\n",
    "# 1, 2, 3, 1, 2, 3, 1, 2, 3, 4, 5, 6, 4, 5, 6) 결과를 만드시오\n",
    "print(myTuple1*3 + myTuple2*2)\n",
    "\n",
    "# name은 자신의 영어 이름', 'hobby는 자신의 취미로 해서 딕셔너리를 만드시오\n",
    "myDictionary = {\n",
    "    \"name\" : \"pyo\",\n",
    "    \"hobby\" : \"swim\"\n",
    "}\n",
    "print(myDictionary)\n",
    "\n",
    "# 딕셔너리 key와 value를 각각 모두 출력\n",
    "print(myDictionary.keys())\n",
    "print(myDictionary.values())\n",
    "\n",
    "# hobby의 값을 출력\n",
    "myDictionary.get('hobby')"
   ]
  },
  {
   "cell_type": "markdown",
   "metadata": {},
   "source": [
    "### 입력과 출력\n",
    "- input\n",
    "- 사용자의 입력을 받기위해 input() \n",
    "- input()함수는 무조건 문자열 자료형을 리턴"
   ]
  },
  {
   "cell_type": "code",
   "execution_count": null,
   "metadata": {},
   "outputs": [
    {
     "name": "stdout",
     "output_type": "stream",
     "text": [
      " <class 'str'>\n"
     ]
    }
   ],
   "source": [
    "name = input('이름을 입력하세요:')\n",
    "print(name, type(name))"
   ]
  },
  {
   "cell_type": "code",
   "execution_count": null,
   "metadata": {},
   "outputs": [
    {
     "name": "stdout",
     "output_type": "stream",
     "text": [
      "# <class 'str'>\n"
     ]
    }
   ],
   "source": [
    "number = input('숫자를 입력하세요:')\n",
    "print(number, type(number))"
   ]
  },
  {
   "cell_type": "code",
   "execution_count": null,
   "metadata": {},
   "outputs": [
    {
     "name": "stdout",
     "output_type": "stream",
     "text": [
      "12\n",
      "3\n"
     ]
    }
   ],
   "source": [
    "# int() : 정수로 변환\n",
    "# float() : 실수로 변환\n",
    "\n",
    "s1 = input('1. 입력:')\n",
    "s2 = input('2. 입력:')\n",
    "\n",
    "num1 = int(s1)\n",
    "num2 = int(s2)\n",
    "\n",
    "print( s1 + s2 )\n",
    "print( num1 + num2)"
   ]
  },
  {
   "cell_type": "code",
   "execution_count": null,
   "metadata": {},
   "outputs": [
    {
     "name": "stdout",
     "output_type": "stream",
     "text": [
      "1  , 2\n"
     ]
    }
   ],
   "source": [
    "# input을 활용해서 ,로 구분해서 각각 변수에 담아보세요\n",
    "\n",
    "a, b = input('콤마를 구분해서 2개의 숫자를 넣어주세요:').split(',')\n",
    "print(a, b, sep =\" ,\")"
   ]
  },
  {
   "cell_type": "code",
   "execution_count": 135,
   "metadata": {},
   "outputs": [
    {
     "name": "stdout",
     "output_type": "stream",
     "text": [
      "1 2\n"
     ]
    },
    {
     "ename": "TypeError",
     "evalue": "'int' object is not callable",
     "output_type": "error",
     "traceback": [
      "\u001b[1;31m---------------------------------------------------------------------------\u001b[0m",
      "\u001b[1;31mTypeError\u001b[0m                                 Traceback (most recent call last)",
      "Cell \u001b[1;32mIn[135], line 7\u001b[0m\n\u001b[0;32m      3\u001b[0m \u001b[38;5;28mprint\u001b[39m(a, b)\n\u001b[0;32m      5\u001b[0m \u001b[38;5;66;03m# input을 활용해서 ,로 구분해서 숫자를 입력해서 변수로 받으세요\u001b[39;00m\n\u001b[0;32m      6\u001b[0m \u001b[38;5;66;03m# 각각의 변수를 더한 결과를 출력\u001b[39;00m\n\u001b[1;32m----> 7\u001b[0m a, b \u001b[38;5;241m=\u001b[39m \u001b[38;5;28mmap\u001b[39m(\u001b[38;5;28mint\u001b[39m, \u001b[38;5;28minput\u001b[39m(\u001b[38;5;124m'\u001b[39m\u001b[38;5;124m콤마를 구분해서 2개의 숫자를 넣어주세요:\u001b[39m\u001b[38;5;124m'\u001b[39m)\u001b[38;5;241m.\u001b[39msplit(\u001b[38;5;124m'\u001b[39m\u001b[38;5;124m,\u001b[39m\u001b[38;5;124m'\u001b[39m))\n\u001b[0;32m      8\u001b[0m a \u001b[38;5;241m+\u001b[39m b\n",
      "\u001b[1;31mTypeError\u001b[0m: 'int' object is not callable"
     ]
    }
   ],
   "source": [
    "a, b = [1, 2]\n",
    "a, b = (1, 2)\n",
    "print(a, b)\n",
    "\n",
    "# input을 활용해서 ,로 구분해서 숫자를 입력해서 변수로 받으세요\n",
    "# 각각의 변수를 더한 결과를 출력\n",
    "a, b = map(int, input('콤마를 구분해서 2개의 숫자를 넣어주세요:').split(','))\n",
    "a + b"
   ]
  },
  {
   "cell_type": "code",
   "execution_count": null,
   "metadata": {},
   "outputs": [
    {
     "name": "stdout",
     "output_type": "stream",
     "text": [
      "12 <class 'str'>\n"
     ]
    }
   ],
   "source": [
    "# str() : 문자열 반환\n",
    "\n",
    "a = 12 \n",
    "msg = str(a)\n",
    "print(msg, type(msg))"
   ]
  },
  {
   "cell_type": "markdown",
   "metadata": {},
   "source": []
  },
  {
   "cell_type": "markdown",
   "metadata": {},
   "source": [
    "### 파일 입출력\n",
    "\n",
    "[함수]\n",
    "- open \n",
    "- write\n",
    "- read\n",
    "- close\n",
    "\n",
    "[모드]\n",
    "- r : read\n",
    "- w : write\n",
    "- a : append"
   ]
  },
  {
   "cell_type": "code",
   "execution_count": null,
   "metadata": {},
   "outputs": [],
   "source": [
    "my_file = open(\"python.txt\", 'w')\n",
    "my_file.write(\"programming!\")\n",
    "my_file.close()"
   ]
  },
  {
   "cell_type": "code",
   "execution_count": null,
   "metadata": {},
   "outputs": [
    {
     "data": {
      "text/plain": [
       "'programming!'"
      ]
     },
     "execution_count": 56,
     "metadata": {},
     "output_type": "execute_result"
    }
   ],
   "source": [
    "my_file = open('python.txt', 'r')\n",
    "msg = my_file.read()\n",
    "my_file.close()\n",
    "msg"
   ]
  },
  {
   "cell_type": "code",
   "execution_count": null,
   "metadata": {},
   "outputs": [],
   "source": [
    "my_file = open('python2.txt', 'w')\n",
    "my_file.write(\"programming!\\npython\\nwin\")\n",
    "my_file.close()"
   ]
  },
  {
   "cell_type": "code",
   "execution_count": null,
   "metadata": {},
   "outputs": [
    {
     "data": {
      "text/plain": [
       "'programming!\\n'"
      ]
     },
     "execution_count": 79,
     "metadata": {},
     "output_type": "execute_result"
    }
   ],
   "source": [
    "my_file = open('python2.txt', 'r')\n",
    "# readline()\n",
    "my_file.readline()\n"
   ]
  },
  {
   "cell_type": "code",
   "execution_count": null,
   "metadata": {},
   "outputs": [
    {
     "data": {
      "text/plain": [
       "'programming!'"
      ]
     },
     "execution_count": 69,
     "metadata": {},
     "output_type": "execute_result"
    }
   ],
   "source": [
    "text.strip() # 문자열 양끝의 공백, 개행, 탭 등을 삭제\n"
   ]
  },
  {
   "cell_type": "code",
   "execution_count": null,
   "metadata": {},
   "outputs": [
    {
     "data": {
      "text/plain": [
       "'win'"
      ]
     },
     "execution_count": 71,
     "metadata": {},
     "output_type": "execute_result"
    }
   ],
   "source": [
    "my_file1 = open('python3.txt', 'w')\n",
    "my_file.readline().strip()\n"
   ]
  },
  {
   "cell_type": "code",
   "execution_count": null,
   "metadata": {},
   "outputs": [
    {
     "data": {
      "text/plain": [
       "['programming!\\n', 'python\\n', 'win']"
      ]
     },
     "execution_count": 80,
     "metadata": {},
     "output_type": "execute_result"
    }
   ],
   "source": [
    "my_file = open('python2.txt', 'r')\n",
    "lines = my_file.readlines() # 파일의 한줄을 읽어오는 메서드, 파일의 모든 줄을 읽어 lines라는 리스트에 저장\n",
    "lines"
   ]
  },
  {
   "cell_type": "code",
   "execution_count": null,
   "metadata": {},
   "outputs": [
    {
     "data": {
      "text/plain": [
       "['programming!', 'python', 'win']"
      ]
     },
     "execution_count": 38,
     "metadata": {},
     "output_type": "execute_result"
    }
   ],
   "source": [
    "# 개행문자를 없애고 list로 출력하고자 한다면\n",
    "# func1 = lambda str : str.strip()\n",
    "# list(map (func1, lines))\n",
    "[line.strip() for line in lines]\n",
    "# lines에는 my_file에서 읽어온 각 줄이 저장되었고, 각라인 마다 메서드를 적용시켜서 다시 리스트에 저장\n"
   ]
  },
  {
   "cell_type": "code",
   "execution_count": null,
   "metadata": {},
   "outputs": [
    {
     "data": {
      "text/plain": [
       "'programming!\\npython\\nwin'"
      ]
     },
     "execution_count": 11,
     "metadata": {},
     "output_type": "execute_result"
    }
   ],
   "source": [
    "with open('python2.txt', 'r', encoding='utf-8') as file:\n",
    "    read_text = file.read()\n",
    "\n",
    "read_text"
   ]
  },
  {
   "cell_type": "code",
   "execution_count": null,
   "metadata": {},
   "outputs": [
    {
     "data": {
      "text/plain": [
       "'programming! python win'"
      ]
     },
     "execution_count": 25,
     "metadata": {},
     "output_type": "execute_result"
    }
   ],
   "source": [
    "# \\n 을 제거하고 그자리에 ' '으로 변경해보자\n",
    "read_text[: read_text.find('\\n')] # 첫번 째 개행이 나타날 때까지의 부분 문자열 출력\n",
    "read_text.replace('\\n',' ')\n"
   ]
  },
  {
   "cell_type": "markdown",
   "metadata": {},
   "source": [
    "### 조건문\n",
    "조건문은 참과 거짓을 판단하는 문장\n",
    "\n",
    "- if 조건문 :\n",
    "    조건이 참일 때 수행 문장\n",
    "\n",
    "(:)과 들여쓰기 주의\n",
    "\n",
    "if문에 올 수 있는 것들\n",
    "- 관계 연산자 <, >, ==, >=, != \n",
    "- 논리 연산자 and, or, not"
   ]
  },
  {
   "cell_type": "code",
   "execution_count": null,
   "metadata": {},
   "outputs": [
    {
     "name": "stdout",
     "output_type": "stream",
     "text": [
      "True 입니다.\n",
      "go\n",
      "go2\n"
     ]
    }
   ],
   "source": [
    "flag = True\n",
    "\n",
    "# if문에 속한 문장을 들여쓰기가 필수\n",
    "if flag:\n",
    "    print('True 입니다.')\n",
    "    print('go')\n",
    "    print('go2')\n",
    "\n"
   ]
  },
  {
   "cell_type": "markdown",
   "metadata": {},
   "source": [
    "- if 조건문:\n",
    "-    statement\n",
    "- else:\n",
    "-    statement\n"
   ]
  },
  {
   "cell_type": "code",
   "execution_count": null,
   "metadata": {},
   "outputs": [
    {
     "name": "stdout",
     "output_type": "stream",
     "text": [
      "else\n"
     ]
    }
   ],
   "source": [
    "flag = False\n",
    "\n",
    "if flag :\n",
    "    print('True 입니다.')\n",
    "    print('go')\n",
    "    print('go2')\n",
    "else :\n",
    "    print('else')"
   ]
  },
  {
   "cell_type": "code",
   "execution_count": null,
   "metadata": {},
   "outputs": [
    {
     "name": "stdout",
     "output_type": "stream",
     "text": [
      "pass\n"
     ]
    }
   ],
   "source": [
    "score = 90\n",
    "grade = 'A'\n",
    "\n",
    "# score가 90이상이고 학점이 A학점이면 pass\n",
    "# 그렇지 않으면 fail\n",
    "\n",
    "if score >= 90 and grade == 'A':\n",
    "    print('pass')\n",
    "else:\n",
    "    print('fail')"
   ]
  },
  {
   "cell_type": "markdown",
   "metadata": {},
   "source": [
    "### 다중 조건문\n",
    "\n",
    "```python\n",
    " if 조건문:\n",
    "    elif 조건문:\n",
    "    elif 조건문:\n",
    "    elif 조건문:\n",
    "   else\n",
    "```"
   ]
  },
  {
   "cell_type": "code",
   "execution_count": null,
   "metadata": {},
   "outputs": [
    {
     "name": "stdout",
     "output_type": "stream",
     "text": [
      "fail\n"
     ]
    }
   ],
   "source": [
    "score = 'C'\n",
    "if score == 'A':\n",
    "    print('pass')\n",
    "elif score == 'B':\n",
    "    print('pass')\n",
    "else:\n",
    "    print('fail')"
   ]
  },
  {
   "cell_type": "markdown",
   "metadata": {},
   "source": [
    "### in / not in 연산자\n",
    "- 데이터안에 찾고자 하는 것이 있는지 없는지 확인하는 연산자\n"
   ]
  },
  {
   "cell_type": "code",
   "execution_count": null,
   "metadata": {},
   "outputs": [
    {
     "name": "stdout",
     "output_type": "stream",
     "text": [
      "True\n"
     ]
    }
   ],
   "source": [
    "if 'k' in 'korea':\n",
    "    print(True)\n",
    "else:\n",
    "    print('fail')"
   ]
  },
  {
   "cell_type": "code",
   "execution_count": null,
   "metadata": {},
   "outputs": [
    {
     "name": "stdout",
     "output_type": "stream",
     "text": [
      "False\n",
      "True\n"
     ]
    }
   ],
   "source": [
    "list1 = [10, 20, 30]\n",
    "dic1 = {'name': 'kim', 'city': 'seoul'}\n",
    "\n",
    "print(15 in list1)\n",
    "print('name' in dic1.keys())"
   ]
  },
  {
   "cell_type": "markdown",
   "metadata": {},
   "source": [
    "### pass 키워드\n",
    "- 조건은 만족하지만 아무일도 수행하지 않고 싶을 떄\n",
    "- 혹은 프로그램 골격을 잡아놓고자 할 때 추후에 작업"
   ]
  },
  {
   "cell_type": "code",
   "execution_count": null,
   "metadata": {},
   "outputs": [],
   "source": [
    "basket = ['사과', '바나나']\n",
    "if '딸기' not in basket:\n",
    "    pass"
   ]
  },
  {
   "cell_type": "markdown",
   "metadata": {},
   "source": [
    "- 놀이공원에 입장해서 사용자로 부터 키와 나이를 입력받고\n",
    "- 키가 120보다 작으면 입장 불가\n",
    "- 그렇지 않으면 입장 가능\n",
    "- 입장시 티켓가격은\n",
    "- 사용자로 부터 키와 나이를 입력받고\n",
    "- 사진촬영 유무에 따라 최종금액을 산출\n",
    "- 12세 미만은 ticket가격은 5불\n",
    "- 12세 ~ 18세 미만은 7불\n",
    "- 그외는 10불\n",
    "- 입장 후 사진촬영 유무에따라\n",
    "- 촬영 시 3불이 추가"
   ]
  },
  {
   "cell_type": "code",
   "execution_count": 137,
   "metadata": {},
   "outputs": [
    {
     "ename": "TypeError",
     "evalue": "'int' object is not callable",
     "output_type": "error",
     "traceback": [
      "\u001b[1;31m---------------------------------------------------------------------------\u001b[0m",
      "\u001b[1;31mTypeError\u001b[0m                                 Traceback (most recent call last)",
      "Cell \u001b[1;32mIn[137], line 6\u001b[0m\n\u001b[0;32m      4\u001b[0m photo \u001b[38;5;241m=\u001b[39m \u001b[38;5;28minput\u001b[39m(\u001b[38;5;124m'\u001b[39m\u001b[38;5;124m사진 촬영을 하시겠습니까?: 네 or 아니오\u001b[39m\u001b[38;5;124m'\u001b[39m)\n\u001b[0;32m      5\u001b[0m price \u001b[38;5;241m=\u001b[39m \u001b[38;5;241m0\u001b[39m \n\u001b[1;32m----> 6\u001b[0m \u001b[38;5;28;01mif\u001b[39;00m \u001b[38;5;28;43mint\u001b[39;49m\u001b[43m(\u001b[49m\u001b[43mheight\u001b[49m\u001b[43m)\u001b[49m \u001b[38;5;241m<\u001b[39m \u001b[38;5;241m120\u001b[39m:\n\u001b[0;32m      7\u001b[0m     \u001b[38;5;28mprint\u001b[39m(\u001b[38;5;124m'\u001b[39m\u001b[38;5;124m입장 불가\u001b[39m\u001b[38;5;124m'\u001b[39m)\n\u001b[0;32m      8\u001b[0m \u001b[38;5;28;01melse\u001b[39;00m:\n",
      "\u001b[1;31mTypeError\u001b[0m: 'int' object is not callable"
     ]
    }
   ],
   "source": [
    "# 변수 : height -> 키, age -> 나이, photo -> 사진 촬영 유 무, price -> ticket 가격\n",
    "height = input('본인의 신장을 입력하세요: ') # 받아야할 변수들을 묶고 map(), split() 함수를 사용해서 동시에 데이터를 받아오면 줄일 수 있음\n",
    "age = input('본인의 나이를 입력하세요: ')\n",
    "photo = input('사진 촬영을 하시겠습니까?: 네 or 아니오')\n",
    "price = 0 \n",
    "if int(height) < 120:\n",
    "    print('입장 불가')\n",
    "else:\n",
    "    print('입장가능')\n",
    "    if int(age) < 12:\n",
    "        price = 5\n",
    "    elif int(age) >= 12 and int(age) < 18:\n",
    "        price = 7\n",
    "    else:\n",
    "        price = 10\n",
    "if photo == '네':\n",
    "    price += 3\n",
    "    print(f'당신의 비용은 {price} 입니다.') # 다양하게 출력 가능 연습!\n",
    "else:\n",
    "    print(f'당신의 비용은 {price} 입니다.') \n"
   ]
  },
  {
   "cell_type": "markdown",
   "metadata": {},
   "source": [
    "### 반복문 for, while \n",
    "## 리스트나 튜플, 딕셔너리에서 차례로 무언가를 하고 싶을 때\n",
    "- for 반복문\n",
    "```python\n",
    "for 변수 in 리스트(튜플, 문자열):\n",
    "    반복적으로 수행할 문자\n",
    "\n",
    "for 변수 in 반복할 수 있는 것:\n",
    "    반복적으로 수행할 문장\n",
    "```\n",
    "```\n",
    "\n",
    "- while 반복문\n",
    "\n",
    "\n",
    "\n",
    "\n"
   ]
  },
  {
   "cell_type": "code",
   "execution_count": null,
   "metadata": {},
   "outputs": [
    {
     "name": "stdout",
     "output_type": "stream",
     "text": [
      "8\n"
     ]
    }
   ],
   "source": [
    "# 특정 코드를 반복작업 하고 싶을 때\n",
    "for num in range(5):\n",
    "    num += num\n",
    "print(num)"
   ]
  },
  {
   "cell_type": "code",
   "execution_count": null,
   "metadata": {},
   "outputs": [
    {
     "name": "stdout",
     "output_type": "stream",
     "text": [
      "k\n",
      "o\n",
      "r\n",
      "e\n",
      "a\n"
     ]
    }
   ],
   "source": [
    "msg = 'korea'\n",
    "for a in msg:\n",
    "    print(a)"
   ]
  },
  {
   "cell_type": "code",
   "execution_count": null,
   "metadata": {},
   "outputs": [
    {
     "name": "stdout",
     "output_type": "stream",
     "text": [
      "korea\n",
      "usa\n",
      "japen\n"
     ]
    }
   ],
   "source": [
    "my_file = ['korea', 'usa', 'japen']\n",
    "for s in my_file:\n",
    "    print(s)"
   ]
  },
  {
   "cell_type": "markdown",
   "metadata": {},
   "source": [
    "```python\n",
    "for 키변수 in 딕셔너리\n",
    "    문장\n",
    "```"
   ]
  },
  {
   "cell_type": "code",
   "execution_count": null,
   "metadata": {},
   "outputs": [],
   "source": [
    "my_dic = {\n",
    "    'name' : 'kavin',\n",
    "    'job' : 'programmer'\n",
    "}"
   ]
  },
  {
   "cell_type": "code",
   "execution_count": null,
   "metadata": {},
   "outputs": [
    {
     "name": "stdout",
     "output_type": "stream",
     "text": [
      "name = kavin\n",
      "job = programmer\n"
     ]
    }
   ],
   "source": [
    "for key in my_dic:\n",
    "    print(f'{key} = {my_dic.get(key)}') # get 사용 권고"
   ]
  },
  {
   "cell_type": "markdown",
   "metadata": {},
   "source": [
    "### 범위 반복\n",
    "range()\n",
    "\n",
    "- range(A) : 0 ~ A-1\n",
    "- range(A,B) : A ~ B-1\n",
    "- range(A,B,C) : A ~ B-1, C만큼의 숫자 증가\n"
   ]
  },
  {
   "cell_type": "code",
   "execution_count": null,
   "metadata": {},
   "outputs": [
    {
     "name": "stdout",
     "output_type": "stream",
     "text": [
      "range(0, 5)\n"
     ]
    }
   ],
   "source": [
    "print(range(5))"
   ]
  },
  {
   "cell_type": "code",
   "execution_count": null,
   "metadata": {},
   "outputs": [
    {
     "name": "stdout",
     "output_type": "stream",
     "text": [
      "[0, 1, 2, 3, 4]\n",
      "[5, 6, 7, 8, 9]\n",
      "[5, 7, 9]\n"
     ]
    }
   ],
   "source": [
    "print(list(range(5)))\n",
    "print(list(range(5,10)))\n",
    "print(list(range(5,10,2)))"
   ]
  },
  {
   "cell_type": "code",
   "execution_count": null,
   "metadata": {},
   "outputs": [
    {
     "name": "stdout",
     "output_type": "stream",
     "text": [
      "37111519"
     ]
    }
   ],
   "source": [
    "# 3부터 시작해서 20미만의 수를 4간격으로 출력\n",
    "for r in range (3, 20, 4):\n",
    "    print(r, end='')"
   ]
  },
  {
   "cell_type": "code",
   "execution_count": null,
   "metadata": {},
   "outputs": [
    {
     "name": "stdout",
     "output_type": "stream",
     "text": [
      "500500\n",
      "1 * 2 = 2\n",
      "1 * 3 = 3\n",
      "1 * 4 = 4\n",
      "1 * 5 = 5\n",
      "1 * 6 = 6\n",
      "1 * 7 = 7\n",
      "1 * 8 = 8\n",
      "1 * 9 = 9\n",
      "2 * 2 = 4\n",
      "2 * 3 = 6\n",
      "2 * 4 = 8\n",
      "2 * 5 = 10\n",
      "2 * 6 = 12\n",
      "2 * 7 = 14\n",
      "2 * 8 = 16\n",
      "2 * 9 = 18\n",
      "3 * 2 = 6\n",
      "3 * 3 = 9\n",
      "3 * 4 = 12\n",
      "3 * 5 = 15\n",
      "3 * 6 = 18\n",
      "3 * 7 = 21\n",
      "3 * 8 = 24\n",
      "3 * 9 = 27\n",
      "4 * 2 = 8\n",
      "4 * 3 = 12\n",
      "4 * 4 = 16\n",
      "4 * 5 = 20\n",
      "4 * 6 = 24\n",
      "4 * 7 = 28\n",
      "4 * 8 = 32\n",
      "4 * 9 = 36\n",
      "5 * 2 = 10\n",
      "5 * 3 = 15\n",
      "5 * 4 = 20\n",
      "5 * 5 = 25\n",
      "5 * 6 = 30\n",
      "5 * 7 = 35\n",
      "5 * 8 = 40\n",
      "5 * 9 = 45\n",
      "6 * 2 = 12\n",
      "6 * 3 = 18\n",
      "6 * 4 = 24\n",
      "6 * 5 = 30\n",
      "6 * 6 = 36\n",
      "6 * 7 = 42\n",
      "6 * 8 = 48\n",
      "6 * 9 = 54\n",
      "7 * 2 = 14\n",
      "7 * 3 = 21\n",
      "7 * 4 = 28\n",
      "7 * 5 = 35\n",
      "7 * 6 = 42\n",
      "7 * 7 = 49\n",
      "7 * 8 = 56\n",
      "7 * 9 = 63\n",
      "8 * 2 = 16\n",
      "8 * 3 = 24\n",
      "8 * 4 = 32\n",
      "8 * 5 = 40\n",
      "8 * 6 = 48\n",
      "8 * 7 = 56\n",
      "8 * 8 = 64\n",
      "8 * 9 = 72\n",
      "9 * 2 = 18\n",
      "9 * 3 = 27\n",
      "9 * 4 = 36\n",
      "9 * 5 = 45\n",
      "9 * 6 = 54\n",
      "9 * 7 = 63\n",
      "9 * 8 = 72\n",
      "9 * 9 = 81\n"
     ]
    }
   ],
   "source": [
    "# 1 부터 1000까지의 합\n",
    "i = 1\n",
    "sum = 0\n",
    "while i <= 1000:\n",
    "    sum += i\n",
    "    i += 1\n",
    "print(sum)\n",
    "\n",
    "# 구구단을 출력해보자\n",
    "for i in range(1, 10):\n",
    "    for j in range(2, 10):\n",
    "        print(i,'*',j,'=',i*j) # = (f'{i}*{j}={i*j})\n"
   ]
  },
  {
   "cell_type": "code",
   "execution_count": 120,
   "metadata": {},
   "outputs": [
    {
     "name": "stdout",
     "output_type": "stream",
     "text": [
      "1, 2, 3.5, bool type "
     ]
    }
   ],
   "source": [
    "list1 = [\"1\", 2, 3.5, True, 4]\n",
    "for  v in list1:\n",
    "    if type(v) is bool:\n",
    "        print(\"bool type\",end=\" \")\n",
    "        break\n",
    "    else:\n",
    "        print(v, end=\", \")"
   ]
  },
  {
   "cell_type": "code",
   "execution_count": 1,
   "metadata": {},
   "outputs": [
    {
     "name": "stdout",
     "output_type": "stream",
     "text": [
      "1, 2, 3.5, bool type\n"
     ]
    }
   ],
   "source": [
    "list1 = [\"1\", 2, 3.5, True, 4]\n",
    "# 부울타입을 만나면 반복문을 탈출하라.\n",
    "i = 0\n",
    "while list1[i] != '\\0':\n",
    "    if type(list1[i]) is bool:\n",
    "        print('bool type')\n",
    "        break\n",
    "    else:\n",
    "        print(list1[i], end=\", \")\n",
    "        i += 1\n",
    "        "
   ]
  },
  {
   "cell_type": "markdown",
   "metadata": {},
   "source": [
    "### while\n",
    "- 조건을 만족하면 계속 반복\n",
    "- bool표현식이 참인동안 반복\n",
    "\n",
    "```python\n",
    "while 조건:\n",
    "    문장\n",
    "    문장\n",
    "```"
   ]
  },
  {
   "cell_type": "code",
   "execution_count": 6,
   "metadata": {},
   "outputs": [
    {
     "name": "stdout",
     "output_type": "stream",
     "text": [
      "5\n"
     ]
    }
   ],
   "source": [
    "count = 0\n",
    "\n",
    "# count가 5가 될 때까지 반복하여 count 출력\n",
    "# count는 반복할 때마다 1씩 증가한다\n",
    "while count <= 4:\n",
    "    count += 1\n",
    "print(count)\n",
    "\n",
    "a = 10\n",
    "count = 0\n",
    "# a가 3보다 클 때까지 반복을 시켜라\n",
    "# a는 루프를 돌 때마다 1식 증가하고 count도 1씩 증가한다\n",
    "# 루프를 돌 때마다 a와 count 값을 출력\n",
    "# count가 20보다 크면 루프를 종료하고 탈출\n"
   ]
  },
  {
   "cell_type": "code",
   "execution_count": 10,
   "metadata": {},
   "outputs": [
    {
     "name": "stdout",
     "output_type": "stream",
     "text": [
      "2550\n"
     ]
    }
   ],
   "source": [
    "# 1부터 100까지 정수 중 짝수만 더해서 출력 \n",
    "i = 0\n",
    "sum = 0\n",
    "while i <= 100:\n",
    "    if i % 2 == 0:\n",
    "        sum += i\n",
    "        i += 1\n",
    "    else:\n",
    "        i += 1\n",
    "print(sum)\n"
   ]
  },
  {
   "cell_type": "code",
   "execution_count": 11,
   "metadata": {},
   "outputs": [
    {
     "name": "stdout",
     "output_type": "stream",
     "text": [
      "2\n"
     ]
    }
   ],
   "source": [
    "# 1부터 사용자가 입력한 숫자까지 4의 배수인 개수는 몇개인지 출력\n",
    "i = input('숫자를 입력하세요:')\n",
    "a = 1\n",
    "b = int(i)\n",
    "count = 0\n",
    "while a <= b:\n",
    "    if a % 4 == 0:\n",
    "        count += 1\n",
    "        a += 1\n",
    "    else:\n",
    "        a += 1\n",
    "print(count)"
   ]
  },
  {
   "cell_type": "code",
   "execution_count": 138,
   "metadata": {},
   "outputs": [
    {
     "name": "stdout",
     "output_type": "stream",
     "text": [
      "5\n"
     ]
    },
    {
     "ename": "TypeError",
     "evalue": "'int' object is not callable",
     "output_type": "error",
     "traceback": [
      "\u001b[1;31m---------------------------------------------------------------------------\u001b[0m",
      "\u001b[1;31mTypeError\u001b[0m                                 Traceback (most recent call last)",
      "Cell \u001b[1;32mIn[138], line 9\u001b[0m\n\u001b[0;32m      7\u001b[0m i \u001b[38;5;241m=\u001b[39m \u001b[38;5;241m1\u001b[39m\n\u001b[0;32m      8\u001b[0m \u001b[38;5;28;01mwhile\u001b[39;00m i \u001b[38;5;241m<\u001b[39m\u001b[38;5;241m=\u001b[39m \u001b[38;5;241m10\u001b[39m:\n\u001b[1;32m----> 9\u001b[0m     num \u001b[38;5;241m=\u001b[39m \u001b[38;5;28;43mint\u001b[39;49m\u001b[43m(\u001b[49m\u001b[38;5;28;43minput\u001b[39;49m\u001b[43m(\u001b[49m\u001b[38;5;124;43m\"\u001b[39;49m\u001b[38;5;124;43m램덤 수를 넣으세요: \u001b[39;49m\u001b[38;5;124;43m\"\u001b[39;49m\u001b[43m)\u001b[49m\u001b[43m)\u001b[49m\n\u001b[0;32m     10\u001b[0m     i \u001b[38;5;241m+\u001b[39m\u001b[38;5;241m=\u001b[39m \u001b[38;5;241m1\u001b[39m\n\u001b[0;32m     11\u001b[0m     \u001b[38;5;28;01mif\u001b[39;00m num \u001b[38;5;241m==\u001b[39m random_num:\n",
      "\u001b[1;31mTypeError\u001b[0m: 'int' object is not callable"
     ]
    }
   ],
   "source": [
    "# 1부터 100까지 랜덤수를 발생해서\n",
    "# 10번의 기회를 통해 해당 핸덤수를 맞추는 게임을 작성하시오\n",
    "\n",
    "import random\n",
    "random_num = random.randint(1, 10)\n",
    "print(random_num)\n",
    "i = 1\n",
    "while i <= 10:\n",
    "    num = int(input(\"램덤 수를 넣으세요: \"))\n",
    "    i += 1\n",
    "    if num == random_num:\n",
    "        print(\"정답!\")\n",
    "        break\n",
    "    else:\n",
    "        print(\"실패..\")\n",
    "print(f'{i}만에 맞추셨습니다')"
   ]
  },
  {
   "cell_type": "code",
   "execution_count": null,
   "metadata": {},
   "outputs": [],
   "source": []
  },
  {
   "cell_type": "code",
   "execution_count": 94,
   "metadata": {},
   "outputs": [
    {
     "name": "stdout",
     "output_type": "stream",
     "text": [
      "실패.. e\n",
      "성공!\n"
     ]
    }
   ],
   "source": [
    "# 학생들 리스트에서 무작위로 한명 선택해서 마피아를 결정하고\n",
    "# 3번의 기회를 통해 마피아를 찾는 게임을 만드시오\n",
    "# 사용자로부터 찾을 때까지 입력을 받아야 함\n",
    "import random\n",
    "students = [ 'a1','b2','c3','d4','e5']\n",
    "mafia = random.choice(students)\n",
    "i = 1\n",
    "while i <= 3:\n",
    "    guess = input('이름을 입력하세요: ')\n",
    "    if guess == mafia:\n",
    "        print('성공!')\n",
    "        break\n",
    "    else:\n",
    "        print('실패..', mafia[0])\n",
    "    i += 1 "
   ]
  },
  {
   "cell_type": "code",
   "execution_count": 142,
   "metadata": {},
   "outputs": [
    {
     "name": "stdout",
     "output_type": "stream",
     "text": [
      "[1, 2, 3]\n"
     ]
    },
    {
     "name": "stdout",
     "output_type": "stream",
     "text": [
      "당첨\n"
     ]
    }
   ],
   "source": [
    "# 로또 숫자(1~45)를 추출하는 프로그램을 작성하시오\n",
    "\n",
    "import random\n",
    "ball = list(range(1, 4))\n",
    "selected_ball = random.sample(ball, 3)\n",
    "selected_ball.sort()\n",
    "print(selected_ball)\n",
    "\n",
    "\n",
    "ball1 = int(input(\"숫자를 입력하시오: \"))\n",
    "ball2 = int(input(\"숫자를 입력하시오: \"))\n",
    "ball3 = int(input(\"숫자를 입력하시오: \"))\n",
    "\n",
    "if selected_ball[0] == ball1 and selected_ball[1] == ball2 and selected_ball[2] == ball3:\n",
    "    print(\"당첨\")\n",
    "else:\n",
    "    print('실패...')\n",
    "    print(ball1, ball2, ball3)\n"
   ]
  },
  {
   "cell_type": "code",
   "execution_count": 141,
   "metadata": {},
   "outputs": [
    {
     "name": "stdout",
     "output_type": "stream",
     "text": [
      "오늘의 로또넘버는 [17, 41, 45, 33, 27, 10] 입니다.\n",
      "내가 맞춘 개수 = 0\n"
     ]
    }
   ],
   "source": [
    "import random\n",
    "lotto =[]\n",
    "for num in range(6):\n",
    "    ren = random.randint(1, 46)\n",
    "    while ren in lotto:\n",
    "        ren = random.ranont(1, 46)\n",
    "\n",
    "    lotto.append(ren)\n",
    "\n",
    "print(f'오늘의 로또넘버는 {lotto} 입니다.')\n",
    "\n",
    "\n",
    "win_cnt = 0\n",
    "my_lotto = list(map(int, input(\"숫자6개 콤마기준으로 입력하세요\").split(',')))\n",
    "\n",
    "for m in my_lotto:\n",
    "    if m in lotto:\n",
    "        win_cnt += 1\n",
    "print(f'내가 맞춘 개수 = {win_cnt}')\n",
    "                \n"
   ]
  },
  {
   "cell_type": "code",
   "execution_count": 140,
   "metadata": {},
   "outputs": [],
   "source": [
    "del int # 너만 있으면 오케이"
   ]
  }
 ],
 "metadata": {
  "kernelspec": {
   "display_name": "Python 3",
   "language": "python",
   "name": "python3"
  },
  "language_info": {
   "codemirror_mode": {
    "name": "ipython",
    "version": 3
   },
   "file_extension": ".py",
   "mimetype": "text/x-python",
   "name": "python",
   "nbconvert_exporter": "python",
   "pygments_lexer": "ipython3",
   "version": "3.12.1"
  }
 },
 "nbformat": 4,
 "nbformat_minor": 2
}
