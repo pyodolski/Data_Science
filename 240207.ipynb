{
 "cells": [
  {
   "cell_type": "markdown",
   "metadata": {},
   "source": [
    "### function(함수)\n",
    "- 반복적으로 사용가능한 동작들을 정의한 코드블록\n",
    "- 입력 >> 함수 >> 출력 \n",
    "\n",
    "```python\n",
    "def 함수이름(매개변수, , ):\n",
    "    수행할 문장\n",
    "    return 결과 | None\n",
    "```"
   ]
  },
  {
   "cell_type": "code",
   "execution_count": 5,
   "metadata": {},
   "outputs": [
    {
     "name": "stdout",
     "output_type": "stream",
     "text": [
      "3\n"
     ]
    }
   ],
   "source": [
    "# add 함수를 정의\n",
    "# x, y는 매개변수\n",
    "def add(x,y):\n",
    "    return x+y\n",
    "\n",
    "z = add(1,2)\n",
    "print(z)"
   ]
  },
  {
   "cell_type": "markdown",
   "metadata": {},
   "source": [
    "### 디폴트 매개변수\n",
    "```python\n",
    "def 함수이름(매개변수 = 디폴트값):\n",
    "    문장\n",
    "    return 결과\n",
    "```"
   ]
  },
  {
   "cell_type": "code",
   "execution_count": 8,
   "metadata": {},
   "outputs": [
    {
     "name": "stdout",
     "output_type": "stream",
     "text": [
      "10\n"
     ]
    }
   ],
   "source": [
    "def add(x, y=3):\n",
    "    return x+y\n",
    "\n",
    "z = add(7)\n",
    "print(z)"
   ]
  },
  {
   "cell_type": "code",
   "execution_count": 13,
   "metadata": {},
   "outputs": [
    {
     "name": "stdout",
     "output_type": "stream",
     "text": [
      "10 20 30\n"
     ]
    }
   ],
   "source": [
    "def func_mul(x):\n",
    "    y1 = x * 10\n",
    "    y2 = x * 20\n",
    "    y3 = x * 30\n",
    "    return y1, y2, y3\n",
    "\n",
    "x, y, z = func_mul(1)\n",
    "print(x, y, z) "
   ]
  },
  {
   "cell_type": "code",
   "execution_count": 19,
   "metadata": {},
   "outputs": [
    {
     "name": "stdout",
     "output_type": "stream",
     "text": [
      "(100, 200, 300) <class 'tuple'>\n"
     ]
    }
   ],
   "source": [
    "def func_mul(x):\n",
    "    y1 = x * 10\n",
    "    y2 = x * 20\n",
    "    y3 = x * 30\n",
    "    return (y1, y2, y3)\n",
    "\n",
    "t = func_mul(10)\n",
    "print(t, type(t))"
   ]
  },
  {
   "cell_type": "markdown",
   "metadata": {},
   "source": [
    "### 가변 매개변수\n",
    "```python\n",
    "def 함수이름(*매개변수):\n",
    "    문장\n",
    "```\n",
    "\n",
    "- 생성된 가변 매개변수는 리스트처럼 사용이 가능\n",
    "- 제약\n",
    "    - 가변변수 뒤에는 일반 매개변수가 올 수 없다.\n",
    "    - 가변 매개변수는 하나만 사용할 수 있다.\n",
    "\n",
    "- enmerate 객체를 리턴받을 수 있다."
   ]
  },
  {
   "cell_type": "code",
   "execution_count": 23,
   "metadata": {},
   "outputs": [
    {
     "name": "stdout",
     "output_type": "stream",
     "text": [
      "나의 카페 메뉴는? \n",
      "코코아\n",
      "케모마일\n",
      "설녹차\n",
      "에이드\n"
     ]
    }
   ],
   "source": [
    "def menu(*values):\n",
    "    print('나의 카페 메뉴는? ')\n",
    "\n",
    "    for value in values:\n",
    "        print(value)\n",
    "\n",
    "menu('코코아', \"케모마일\" , \"설녹차\", \"에이드\")"
   ]
  },
  {
   "cell_type": "code",
   "execution_count": 27,
   "metadata": {},
   "outputs": [
    {
     "name": "stdout",
     "output_type": "stream",
     "text": [
      "나의 카페 메뉴는? \n",
      "0=코코아\n",
      "1=케모마일\n",
      "2=설녹차\n",
      "3=에이드\n"
     ]
    }
   ],
   "source": [
    "def menu(*values):\n",
    "    print('나의 카페 메뉴는? ')\n",
    "\n",
    "# enumerate객체는 iterable 매개변수를 넣으면 index와 value를 리턴\n",
    "    for i ,v in enumerate(values):\n",
    "        print(f'{i}={v}')\n",
    "\n",
    "menu('코코아', \"케모마일\" , \"설녹차\", \"에이드\")"
   ]
  },
  {
   "cell_type": "code",
   "execution_count": 29,
   "metadata": {},
   "outputs": [
    {
     "name": "stdout",
     "output_type": "stream",
     "text": [
      "0=lee\n",
      "0=lee\n",
      "1=park\n",
      "0=lee\n",
      "1=park\n",
      "2=kim\n"
     ]
    }
   ],
   "source": [
    "def args_func(*args):\n",
    "    for i, v in enumerate(args):\n",
    "        print(f'{i}={v}')\n",
    "\n",
    "args_func('lee')\n",
    "args_func('lee', 'park')\n",
    "args_func('lee', 'park', 'kim')"
   ]
  },
  {
   "cell_type": "markdown",
   "metadata": {},
   "source": [
    "### 딕셔너리형 반복\n",
    "- **kwargs"
   ]
  },
  {
   "cell_type": "code",
   "execution_count": 32,
   "metadata": {},
   "outputs": [
    {
     "name": "stdout",
     "output_type": "stream",
     "text": [
      "name1 is lee\n",
      "name1 is lee\n",
      "name2 is park\n",
      "name1 is lee\n",
      "name2 is park\n",
      "name3 is kim\n"
     ]
    }
   ],
   "source": [
    "def kwargs_func(**kwargs):\n",
    "    for k in kwargs.keys():\n",
    "        print(f'{k} is {kwargs[k]}')\n",
    "\n",
    "kwargs_func(name1 = 'lee')\n",
    "kwargs_func(name1 = 'lee', name2 = 'park')\n",
    "kwargs_func(name1 = 'lee', name2 = 'park', name3 = 'kim')"
   ]
  },
  {
   "cell_type": "code",
   "execution_count": 35,
   "metadata": {},
   "outputs": [
    {
     "name": "stdout",
     "output_type": "stream",
     "text": [
      "lee ('kim',) {'age': 20}\n",
      "10 20 ('lee', 'park', 'kim') {'age': 20, 'age1': 10}\n"
     ]
    }
   ],
   "source": [
    "def exam1(arg1, *arg2, **kwargs):\n",
    "    print(arg1, arg2, kwargs)\n",
    "\n",
    "exam1('lee', 'kim', age = 20)\n",
    "\n",
    "def exam2(arg1, arg2, *arg3, **kwargs):\n",
    "    print(arg1, arg2, arg3, kwargs)\n",
    "\n",
    "exam2(10, 20, 'lee', 'park', \"kim\", age = 20, age1 = 10)"
   ]
  },
  {
   "cell_type": "markdown",
   "metadata": {},
   "source": [
    "### 람다식 : 즉시 실행 함수\n",
    "- 메모리 절약, 가독성 향상, 코드 간결\n"
   ]
  },
  {
   "cell_type": "code",
   "execution_count": 5,
   "metadata": {},
   "outputs": [
    {
     "name": "stdout",
     "output_type": "stream",
     "text": [
      "18\n",
      "18\n"
     ]
    },
    {
     "data": {
      "text/plain": [
       "9"
      ]
     },
     "execution_count": 5,
     "metadata": {},
     "output_type": "execute_result"
    }
   ],
   "source": [
    "def mul(x,y):\n",
    "    return x * y\n",
    "\n",
    "print(mul(3,6))\n",
    "\n",
    "# 람다식 곱셈\n",
    "la_fun = lambda x,y : x*y\n",
    "\n",
    "print(la_fun(3,6)) \n",
    "\n",
    "(lambda x,y : x*y)(3,6)\n",
    "\n",
    "# 람다식 덧셈\n",
    "def hap(x,y):\n",
    "    return x + y\n",
    "\n",
    "(lambda x,y : x+y)(3,6)"
   ]
  },
  {
   "cell_type": "code",
   "execution_count": 7,
   "metadata": {},
   "outputs": [
    {
     "data": {
      "text/plain": [
       "[0, 1, 4, 9, 16]"
      ]
     },
     "execution_count": 7,
     "metadata": {},
     "output_type": "execute_result"
    }
   ],
   "source": [
    "# map(함수, 리스트(자료형)) \n",
    "# 0 ~ 4까지 각각의 제곱근을 리스트로 출력하시오.\n",
    "lambda x : x**2, range(5)\n",
    "list(map(lambda x : x**2, range(5)))"
   ]
  },
  {
   "cell_type": "code",
   "execution_count": 19,
   "metadata": {},
   "outputs": [
    {
     "name": "stdout",
     "output_type": "stream",
     "text": [
      "10\n"
     ]
    },
    {
     "data": {
      "text/plain": [
       "'edcba'"
      ]
     },
     "execution_count": 19,
     "metadata": {},
     "output_type": "execute_result"
    }
   ],
   "source": [
    "# reduce(함수, 시컨스)\n",
    "# 0부터 4까지 각각을 더한 총합을 구하시오\n",
    "sum = 0\n",
    "for num in range(5):\n",
    "    sum += num\n",
    "print(sum)\n",
    "\n",
    "from functools import reduce\n",
    "reduce(lambda x,y: x+y, [0,1,2,3,4,5],100) # 결과 값 누적 ((((1+2)+3)+4)+5)\n",
    "\n",
    "#abcde(reverse)\n",
    "from functools import reduce\n",
    "reduce(lambda x,y : y+x, 'abcde')\n"
   ]
  },
  {
   "cell_type": "code",
   "execution_count": 30,
   "metadata": {},
   "outputs": [
    {
     "data": {
      "text/plain": [
       "115"
      ]
     },
     "execution_count": 30,
     "metadata": {},
     "output_type": "execute_result"
    }
   ],
   "source": [
    "from functools import reduce\n",
    "reduce(lambda x,y: x+y, [0,1,2,3,4,5],100) # 초기값은 세번째에 ) # 결과 값 누적 ((((1+2)+3)+4)+5)\n"
   ]
  },
  {
   "cell_type": "code",
   "execution_count": 38,
   "metadata": {},
   "outputs": [
    {
     "name": "stdout",
     "output_type": "stream",
     "text": [
      "01234"
     ]
    },
    {
     "data": {
      "text/plain": [
       "[1, 3]"
      ]
     },
     "execution_count": 38,
     "metadata": {},
     "output_type": "execute_result"
    }
   ],
   "source": [
    "# 0에서 9까지 5보다 작은 수를 출력\n",
    "\n",
    "for i in range(10):\n",
    "    if i < 5:\n",
    "        print(i, end='')\n",
    "\n",
    "# filter(함수, 리스트)\n",
    "list(filter(lambda x : x<5, range(5)))\n",
    "\n",
    "# 홀수를 돌려주는 필터\n",
    "list(filter(lambda x : x % 2 != 0, range(5))) # x % 2도 사용가능?\n"
   ]
  },
  {
   "cell_type": "code",
   "execution_count": 41,
   "metadata": {},
   "outputs": [
    {
     "name": "stdout",
     "output_type": "stream",
     "text": [
      "이름: ban\n",
      "하한: 140\n",
      "상한: 180\n"
     ]
    }
   ],
   "source": [
    "# 놀이기구에 입장을 한다\n",
    "# 놀이기구의 이름과 상하한선을 입력받고\n",
    "# 아래와 같이 출력하시오\n",
    "\n",
    "# 사용자 입력을 놀이기구이름과 키의 상하한선을 입력받는다.\n",
    "# ex) ban:140cm~180cm\n",
    "\n",
    "# 함수를 활요해주세요\n",
    "\n",
    "# 출력예)\n",
    "# 이름: ban\n",
    "# 하한: 140\n",
    "# 상한: 180\n",
    "\n",
    "\n",
    "def soultion(str):\n",
    "    ban,x,y = input('콤마를 이용해서 이름과 하한 상한을 입력해주세요').split(',')\n",
    "    low= int(x)\n",
    "    high = int(y)\n",
    "    print(f'이름: {ban}')\n",
    "    print(f'하한: {low}')\n",
    "    print(f'상한: {high}')\n",
    "\n",
    "soultion(str)"
   ]
  },
  {
   "cell_type": "code",
   "execution_count": 54,
   "metadata": {},
   "outputs": [
    {
     "name": "stdout",
     "output_type": "stream",
     "text": [
      "이름: pyo\n",
      "하한: 140\n",
      "상한: None\n"
     ]
    }
   ],
   "source": [
    "def read(str):\n",
    "    str = input('입력해주세여')\n",
    "    name, limit = map(lambda str: str.strip(), str.split(':'))\n",
    "    if '~' in limit:\n",
    "        min_, max_= map(lambda x: int(x.replace('cm','')), limit.split('~'))\n",
    "        return name, min_, max_\n",
    "    elif '이상' in limit:\n",
    "        min_ = int(limit.split('cm')[0])\n",
    "        max_ = None\n",
    "        return name, min_, max_\n",
    "    \n",
    "    \n",
    "ridename, min, max = read(str)\n",
    "print(f'이름: {ridename}')\n",
    "print(f'하한: {min}')\n",
    "print(f'상한: {max}')\n"
   ]
  },
  {
   "cell_type": "markdown",
   "metadata": {},
   "source": [
    "### OPP(객체 지향 프로그래밍)\n",
    "- 여러 독립적인 개체를 객체로 명명하고, 객체들을 통해 서로 협력(상호작용) 하는 것\n",
    "\n",
    "\n",
    "- 장점\n",
    "    - 코드 재사용\n",
    "    - 유지보수 용이\n",
    "\n",
    "- 단점\n",
    "    - 실행속도가 상대적으로 느림\n",
    "    - 객체가 많으면 프로그램이 사이즈가 커짐\n",
    "    - 설계시 많은 시간이 소요\n",
    "\n",
    "```python\n",
    "class Jelly:\n",
    "    pass\n",
    "```"
   ]
  },
  {
   "cell_type": "code",
   "execution_count": 57,
   "metadata": {},
   "outputs": [],
   "source": [
    "class Jelly:\n",
    "    pass\n",
    "\n",
    "# 객체와 인스턴스\n",
    "# 실제 그 객체가 가지고 있는 메모리를 참조해서 사용해야 한다."
   ]
  },
  {
   "cell_type": "markdown",
   "metadata": {},
   "source": [
    "### 인스턴스 = 클래스이름()"
   ]
  },
  {
   "cell_type": "code",
   "execution_count": 58,
   "metadata": {},
   "outputs": [
    {
     "name": "stdout",
     "output_type": "stream",
     "text": [
      "2405853025136 2405853033872 2405851049776\n"
     ]
    }
   ],
   "source": [
    "# red_jelly는 jelly class의 instance\n",
    "red_jelly = Jelly() #defalt construtor\n",
    "green_jelly = Jelly()\n",
    "blue_jelly = Jelly()\n",
    "\n",
    "print(id(red_jelly), id(green_jelly), id(blue_jelly))"
   ]
  },
  {
   "cell_type": "markdown",
   "metadata": {},
   "source": [
    "```python\n",
    "class 클래스이름:\n",
    "    # instance화해서 메소드에 접근할 때\n",
    "    # 파이썬은 객체의 메소드를 정의할 때 self를 명시한다.\n",
    "    # 메소드를 사용할 때(불러서 사용할 때) self는 자동으로 전달된다.\n",
    "    # self를 사용함으로써 클래스 내의 정의한 멤버(변수)에 접근이 가능하다.\n",
    "    def 메소드이름(self, 매개변수):\n",
    "        pass\n",
    "```"
   ]
  },
  {
   "cell_type": "code",
   "execution_count": 141,
   "metadata": {},
   "outputs": [
    {
     "name": "stdout",
     "output_type": "stream",
     "text": [
      "good blue\n"
     ]
    }
   ],
   "source": [
    "class BearJelly:\n",
    "\n",
    "    color = str()\n",
    "    \n",
    "    def set_info(self, color, taste):\n",
    "        print(f'id={id(self)}')\n",
    "\n",
    "        self.color = color\n",
    "        self.taste = taste\n",
    "\n",
    "    def print_info(self):\n",
    "        BearJelly.taste = 'good'\n",
    "\n",
    "    def custom_info(self):\n",
    "        BearJelly.color = 'blue'\n",
    "\n",
    "\n",
    "yellow_jelly = BearJelly()\n",
    "# yellow_jelly.set_info('yellow', 'lemon')\n",
    "yellow_jelly.print_info()\n",
    "yellow_jelly.custom_info()\n",
    "\n",
    "print(yellow_jelly.taste,BearJelly.color)\n",
    "\n",
    "\n",
    "\n",
    "# print(id(yellow_jelly))\n",
    "# print(id(BearJelly))\n"
   ]
  },
  {
   "cell_type": "code",
   "execution_count": 142,
   "metadata": {},
   "outputs": [],
   "source": [
    "class candy:\n",
    "\n",
    "    color = str()\n",
    "    \n",
    "    def set_info(self, color, taste):\n",
    "        print(f'id={id(self)}')\n",
    "\n",
    "        self.color = color\n",
    "        self.taste = taste\n",
    "\n",
    "    def print_info(self):\n",
    "        print(\"=\"*50)\n",
    "        print(f'color = {self.color}, taste = {self.taste}')\n",
    "        print('='*50)\n",
    "\n",
    "    def custom_info(self):\n",
    "        candy.color = 'blue'\n"
   ]
  },
  {
   "cell_type": "code",
   "execution_count": 143,
   "metadata": {},
   "outputs": [
    {
     "name": "stdout",
     "output_type": "stream",
     "text": [
      "id=2405853720032\n"
     ]
    }
   ],
   "source": [
    "\n",
    "yellow_candy = candy()\n",
    "yellow_candy.set_info('yellow', 'lemon')\n",
    "yellow_jelly.print_info()\n",
    "yellow_candy.custom_info()"
   ]
  },
  {
   "cell_type": "markdown",
   "metadata": {},
   "source": [
    "\n",
    "- 메소드에 self가 있고 없고에 따라 메모리 저장 영역이 다르다\n",
    "- self가 없는 메소드는 클래스 메소드\n",
    "- self가 있는 메소드는 인스턴스 메소드\n"
   ]
  },
  {
   "cell_type": "markdown",
   "metadata": {},
   "source": [
    "## 생성자 함수\n",
    "- 생성자(constructor)\n",
    "    - 클래스로부터 인스턴스가 생성될 때 자동으로 실행하는 함수\n",
    "    - 클래스가 샐행하면 가장먼저 생성자인 '__init__' 함수가 호출\n",
    "\n",
    "```python\n",
    "def __init__(self, 추가적인 매개변수):\n",
    "    pass\n",
    "```"
   ]
  },
  {
   "cell_type": "code",
   "execution_count": 115,
   "metadata": {},
   "outputs": [],
   "source": [
    "class BearJelly:\n",
    "    def __init__(self, color, taste):\n",
    "        self.color = color\n",
    "        self.taste = taste\n",
    "\n",
    "jelly_list = [\n",
    "    BearJelly('yellow', 'good'),\n",
    "    BearJelly('blue', 'coll'),\n",
    "    BearJelly('red', 'hot')\n",
    "]\n",
    "\n",
    "print(jelly_list[0].color, jelly_list[0].taste)\n",
    "print(jelly_list[1].color, jelly_list[1].taste)\n",
    "print(jelly_list[2].color, jelly_list[2].taste)"
   ]
  },
  {
   "cell_type": "markdown",
   "metadata": {},
   "source": [
    "## 상속\n",
    "- 부모와 자식관계에서 자식은 부모의 재산을 상속할 수 있다.\n",
    "- 상위클래스 (= parent class, super class)\n",
    "- 하위클래스 (= child class, sub class)\n",
    "\n",
    "### 이유\n",
    "- 기존 클래스를 변경하지않고 기능을 추가\n",
    "- 공통기능을 상위클래스에서 구현하고 하위 클래스에서 자신의 기능만 구현해서 유지보수 및 기능개발에 편리\n",
    "\n",
    "## 상속의 선언\n",
    "- 자식클래스를 선언할 때 소괄호로 부모클래스를 명기\n",
    "- 부모클래스의 속성과 메소드(함수)는 자식클래스에서 자동으로 포함\n",
    "\n",
    "### 메소드 오버라이딩\n",
    "- 부모클래스의 메소드를 자식클래스에서 재정의 하는 것\n",
    "\n",
    "### 부모 메소드 호출\n",
    "- super() 키워드를 사용"
   ]
  },
  {
   "cell_type": "code",
   "execution_count": 170,
   "metadata": {},
   "outputs": [],
   "source": [
    "class Jelly:\n",
    "    def __init__(self, color, taste):\n",
    "        self.color = color\n",
    "        self.taste = taste\n",
    "    def set_price(self, price):\n",
    "        self.price = price\n",
    "\n",
    "    # class의 정보 출력 함수\n",
    "    def __str__(self):\n",
    "        return f'Jelly Parent class 가격은 {self.price}, 컬러는  {self.color} and 맛은 {self.taste} 입니다.'"
   ]
  },
  {
   "cell_type": "code",
   "execution_count": 171,
   "metadata": {},
   "outputs": [],
   "source": [
    "class RedJelly(Jelly):\n",
    "    def set_price(self, price): # 메소드 오버라이딩\n",
    "        print(f'RedJelly Child class set_price 함수입니다.')\n",
    "        super().set_price(price) # 부모의 price에도 값 지정\n",
    "        self.price = price\n",
    "\n",
    "    def print_info(self):\n",
    "        print(f'Parent class info = {super().__str__}')\n",
    "        print(f'RedJelly {self.color}, {self.taste}, {self.price}')\n",
    "        "
   ]
  },
  {
   "cell_type": "code",
   "execution_count": 172,
   "metadata": {},
   "outputs": [
    {
     "name": "stdout",
     "output_type": "stream",
     "text": [
      "RedJelly Child class set_price 함수입니다.\n",
      "Parent class info = <bound method Jelly.__str__ of <__main__.RedJelly object at 0x0000023027F510D0>>\n",
      "RedJelly red, hot, 100\n"
     ]
    }
   ],
   "source": [
    "red_jelly = RedJelly('red', 'hot')\n",
    "red_jelly.set_price(100)\n",
    "red_jelly.print_info()\n"
   ]
  },
  {
   "cell_type": "markdown",
   "metadata": {},
   "source": [
    "- 아이폰과 안드로이드가 있다\n",
    "- 둘 다 스마트폰이다\n",
    "- 두 개의 기종 모두 브랜드와 제조사를 가지고 있으며,\n",
    "- 안드로이드는 마이크로USB를 통해 Charge가 가능하고 아이폰은 라이트닝케이블을 통해 충전이 가능하다\n",
    "\n",
    "- 아이폰과 안드로이드 객체를 생성하고\n",
    "- 충전 가능하도록 코딩하시오"
   ]
  },
  {
   "cell_type": "code",
   "execution_count": 179,
   "metadata": {},
   "outputs": [],
   "source": [
    "class smartphone:\n",
    "    def __init__(self, brand, company):\n",
    "        self.brand = brand\n",
    "        self.company = company\n",
    "    \n",
    "    def charge_type(self, charge_type):\n",
    "        self.type = charge_type"
   ]
  },
  {
   "cell_type": "code",
   "execution_count": 184,
   "metadata": {},
   "outputs": [],
   "source": [
    "class android(smartphone):\n",
    "    def charge_type(self, charge_type):\n",
    "        self.charge_type = charge_type\n",
    "    \n",
    "    def print_info(self):\n",
    "        print(f'S23의 브랜드는 {self.brand}이고 제조사는 {self.company}, 충전은 {self.charge_type}로 가능합니다')\n",
    "\n",
    "class ios(smartphone):\n",
    "    def charge_type(self, charge_type):\n",
    "        self.charge_type = charge_type\n",
    "    \n",
    "    def print_info(self):\n",
    "        print(f'Iphone15의 브랜드는 {self.brand}이고 제조사는 {self.company}, 충전은 {self.charge_type}로 가능합니다')"
   ]
  },
  {
   "cell_type": "code",
   "execution_count": 185,
   "metadata": {},
   "outputs": [
    {
     "name": "stdout",
     "output_type": "stream",
     "text": [
      "S23의 브랜드는 android_smartphone이고 제조사는 Samsung, 충전은 microUSB로 가능합니다\n",
      "Iphone15의 브랜드는 ios_smartphone이고 제조사는 Apple, 충전은 Lightening_cable로 가능합니다\n"
     ]
    }
   ],
   "source": [
    "S23 = android('android_smartphone', 'Samsung')\n",
    "S23.charge_type('microUSB')\n",
    "S23.print_info()\n",
    "\n",
    "Iphone15 =ios('ios_smartphone', 'Apple')\n",
    "Iphone15.charge_type('Lightening_cable')\n",
    "Iphone15.print_info()"
   ]
  },
  {
   "cell_type": "code",
   "execution_count": 198,
   "metadata": {},
   "outputs": [],
   "source": [
    "# 강사님 버전\n",
    "class smartphone:\n",
    "    def __init__(self, brand, imformation):\n",
    "        self.brand = brand\n",
    "        self.imformation = imformation\n",
    "\n",
    "    def __str__(self):\n",
    "        return f'{self.brand}, {self.imformation}'\n",
    "    \n",
    "    def charge(self, name):\n",
    "        self.name = name\n",
    "    \n",
    "class cable:\n",
    "    def __init__(self, name):\n",
    "        self.name = name\n",
    "\n",
    "    def __str__(self):\n",
    "        return f'충전 케이블은 {self.name} 입니다'\n",
    "    \n",
    "class android(smartphone):\n",
    "    def get_info(self):\n",
    "        return super().__str__()\n",
    "\n",
    "class Iphone(smartphone):\n",
    "    def get_info(self):\n",
    "        return super().__str__()\n",
    "    \n",
    "android = android('Galaxy', {'maunfacture': 'Samsung', 'price' : 1000})\n",
    "android.get_info()\n",
    "android.charge(cable('MicroUSB'))\n",
    "\n",
    "Iphone = Iphone('Iphone', {'maunfacture': 'Apple', 'price' : 5000})\n",
    "Iphone.get_info()\n",
    "Iphone.charge(cable('Lighting'))"
   ]
  },
  {
   "cell_type": "markdown",
   "metadata": {},
   "source": [
    "- 연필과 지우개가 있다.\n",
    "- 둘 다 기본적으로 가격과 상품이름을 가지고 있으며\n",
    "- 연필은 패키지개수가 12개, 지우개는 5개가 존재한다.\n",
    "- 각각 package가격을 출력해보자."
   ]
  },
  {
   "cell_type": "code",
   "execution_count": 190,
   "metadata": {},
   "outputs": [],
   "source": [
    "class tool:\n",
    "    def __init__(self, price, name):\n",
    "        self.price = price\n",
    "        self.name = name\n",
    "    \n",
    "    def package_cnt(self, package_cnt):\n",
    "        self.package_cnt = package_cnt"
   ]
  },
  {
   "cell_type": "code",
   "execution_count": 209,
   "metadata": {},
   "outputs": [],
   "source": [
    "class pen(tool):\n",
    "    def package_cnt(self):\n",
    "        self.package_cnt = 5 * self.price\n",
    "    \n",
    "    def print_info(self):\n",
    "        print(f'pen의 가격은 {self.price}원이고 상품명는 {self.name}, 패키지 가격은 {self.package_cnt}원 입니다잉.')\n",
    "\n",
    "class eraser(tool):\n",
    "    def package_cnt(self):\n",
    "        self.package_cnt = 12 * self.price\n",
    "    \n",
    "    def print_info(self):\n",
    "        print(f'eraser의 가격은 {self.price}원이고 상품명는 {self.name}, 패키지 가격은 {self.package_cnt}원 입니다잉.')"
   ]
  },
  {
   "cell_type": "code",
   "execution_count": 212,
   "metadata": {},
   "outputs": [
    {
     "name": "stdout",
     "output_type": "stream",
     "text": [
      "pen의 가격은 100원이고 상품명는 good_pen, 패키지 가격은 500원 입니다잉.\n",
      "eraser의 가격은 500원이고 상품명는 good_eraser, 패키지 가격은 6000원 입니다잉.\n"
     ]
    }
   ],
   "source": [
    "goodpen = pen( 100, 'good_pen')\n",
    "goodpen.package_cnt()\n",
    "goodpen.print_info()\n",
    "\n",
    "gooderaser = eraser(500, 'good_eraser')\n",
    "gooderaser.package_cnt()\n",
    "gooderaser.print_info()"
   ]
  }
 ],
 "metadata": {
  "kernelspec": {
   "display_name": "Python 3",
   "language": "python",
   "name": "python3"
  },
  "language_info": {
   "codemirror_mode": {
    "name": "ipython",
    "version": 3
   },
   "file_extension": ".py",
   "mimetype": "text/x-python",
   "name": "python",
   "nbconvert_exporter": "python",
   "pygments_lexer": "ipython3",
   "version": "3.12.1"
  }
 },
 "nbformat": 4,
 "nbformat_minor": 2
}
