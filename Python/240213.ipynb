{
 "cells": [
  {
   "cell_type": "markdown",
   "metadata": {},
   "source": [
    "### numpy (Numerical Python)\n",
    "- Open Source Python 라이브러리\n",
    "- 다차원배열 (ndarray)와 행렬 연산을 수행할 수 있는 구조로 되어있다.\n",
    "\n",
    "#### 넘파이는 넘파이배열(ndarray) 라는 자료구조를 사용.\n",
    "- 벡터나 행렬등의 연산을 쉽게 빠르게 수행. "
   ]
  },
  {
   "cell_type": "code",
   "execution_count": 2,
   "metadata": {},
   "outputs": [
    {
     "name": "stderr",
     "output_type": "stream",
     "text": [
      "pip��(��) ������� �ʾҽ��ϴ�.\n"
     ]
    }
   ],
   "source": [
    "# numpy 설치\n",
    "!(주피터에서 사용) pip install numpy"
   ]
  },
  {
   "cell_type": "code",
   "execution_count": 3,
   "metadata": {},
   "outputs": [
    {
     "name": "stdout",
     "output_type": "stream",
     "text": [
      "[0, 1, 2, 3, 4, 5, 6, 7, 8, 9]\n",
      "[0, 1, 2, 3, 4, 5, 6, 7, 8, 9, 0, 1, 2, 3, 4, 5, 6, 7, 8, 9]\n",
      "[ 0  2  4  6  8 10 12 14 16 18]\n",
      "[-1  3  7 11 15 19 23 27 31 35]\n",
      "[0, 1, 2, 3, 4, 5, 6, 7, 8, 9, 0, 1, 2, 3, 4, 5, 6, 7, 8, 9, 0, 1, 2, 3, 4, 5, 6, 7, 8, 9, 0, 1, 2, 3, 4, 5, 6, 7, 8, 9]\n",
      "<class 'numpy.ndarray'>\n"
     ]
    }
   ],
   "source": [
    "# numpy array는 numpy array끼리 연산이 가능\n",
    "# 0 ~ 9까지 파이썬 리스트를 만들어보자\n",
    "pa = [0, 1, 2, 3, 4, 5, 6, 7, 8, 9] # pa = list(range(10))\n",
    "print(pa)\n",
    "\n",
    "pb = pa\n",
    "print(pa + pb) # list 연산\n",
    "\n",
    "import numpy as np\n",
    "na = np.arange(10) # 리스트 생성\n",
    "na # 1차원 array \n",
    "nb = na\n",
    "\n",
    "# Broadcasting\n",
    "print(na + nb) # list 내 연산\n",
    "print(na * 4 - 1)\n",
    "print(pa * 4) # list 복제\n",
    "\n",
    "print(type(na))"
   ]
  },
  {
   "cell_type": "markdown",
   "metadata": {},
   "source": [
    "## Numpy 배열\n",
    "- 모든 배열의 값이 기본적으로 같은 타입\n",
    "- 각 차원(Dimension)을 축(axis)로 표현"
   ]
  },
  {
   "cell_type": "code",
   "execution_count": 14,
   "metadata": {},
   "outputs": [
    {
     "data": {
      "text/plain": [
       "[[1, 2, 3], [4, 5, 6], [7, 8, 9]]"
      ]
     },
     "execution_count": 14,
     "metadata": {},
     "output_type": "execute_result"
    }
   ],
   "source": [
    "[1,2,3] # 1차원 배열\n",
    "\n",
    "# shape(2,3)형태\n",
    "[[1,2,3],\n",
    " [4,5,6]] # 2차원 배열\n",
    "\n",
    "# shape(3,3)\n",
    "[[1,2,3],\n",
    " [4,5,6],\n",
    " [7,8,9]]"
   ]
  },
  {
   "cell_type": "code",
   "execution_count": 20,
   "metadata": {},
   "outputs": [
    {
     "name": "stdout",
     "output_type": "stream",
     "text": [
      "[[1 2 3]\n",
      " [4 5 6]] <class 'numpy.ndarray'>\n",
      "(2, 3)\n"
     ]
    },
    {
     "data": {
      "text/plain": [
       "6"
      ]
     },
     "execution_count": 20,
     "metadata": {},
     "output_type": "execute_result"
    }
   ],
   "source": [
    "# axis0 = 2 axis1 = 3\n",
    "# shape(2,3)\n",
    "a = [[1,2,3],[4,5,6]]\n",
    "b = np.array(a)\n",
    "print(b, type(b))\n",
    "print(b.shape)\n",
    "b[1,2] # 특정 colum값 추출 "
   ]
  },
  {
   "cell_type": "code",
   "execution_count": 1,
   "metadata": {},
   "outputs": [
    {
     "ename": "NameError",
     "evalue": "name 'np' is not defined",
     "output_type": "error",
     "traceback": [
      "\u001b[1;31m---------------------------------------------------------------------------\u001b[0m",
      "\u001b[1;31mNameError\u001b[0m                                 Traceback (most recent call last)",
      "Cell \u001b[1;32mIn[1], line 1\u001b[0m\n\u001b[1;32m----> 1\u001b[0m a \u001b[38;5;241m=\u001b[39m \u001b[43mnp\u001b[49m\u001b[38;5;241m.\u001b[39marange(\u001b[38;5;241m10\u001b[39m, dtype \u001b[38;5;241m=\u001b[39m np\u001b[38;5;241m.\u001b[39mfloat32)\n\u001b[0;32m      2\u001b[0m \u001b[38;5;28mprint\u001b[39m(a, a\u001b[38;5;241m.\u001b[39mdtype)\n",
      "\u001b[1;31mNameError\u001b[0m: name 'np' is not defined"
     ]
    }
   ],
   "source": [
    "a = np.arange(10, dtype = np.float32)\n",
    "print(a, a.dtype)"
   ]
  },
  {
   "cell_type": "code",
   "execution_count": 5,
   "metadata": {},
   "outputs": [
    {
     "name": "stdout",
     "output_type": "stream",
     "text": [
      "[[ 0  1  2  3  4  5]\n",
      " [ 6  7  8  9 10 11]]\n",
      "[ 0  1  2  3  4  5  6  7  8  9 10 11]\n",
      "[[[ 0  1  2]\n",
      "  [ 3  4  5]]\n",
      "\n",
      " [[ 6  7  8]\n",
      "  [ 9 10 11]]]\n"
     ]
    }
   ],
   "source": [
    "a = np.arange(12)\n",
    "b = a.reshape(2,6)\n",
    "print(b)\n",
    "print(a)\n",
    "c = a.reshape(2,2,3)\n",
    "print(c)"
   ]
  },
  {
   "cell_type": "code",
   "execution_count": 13,
   "metadata": {},
   "outputs": [
    {
     "name": "stdout",
     "output_type": "stream",
     "text": [
      "[[ 0  1  2  3]\n",
      " [ 4  5  6  7]\n",
      " [ 8  9 10 11]]\n"
     ]
    }
   ],
   "source": [
    "a = np.arange(12).reshape(3,4)\n",
    "print(a)\n",
    "\n"
   ]
  },
  {
   "cell_type": "markdown",
   "metadata": {},
   "source": [
    "# numpy 배열 대표 속성 값\n",
    "- shape: 배열의 각축(axis)의 크기\n",
    "- ndim: 축의 개수(차원의 개수)\n",
    "- dtype: 각 요소의 타입\n",
    "- itemsize: 각 요소의 타입의 크기\n",
    "- size: 전체 요소의 개수"
   ]
  },
  {
   "cell_type": "code",
   "execution_count": 15,
   "metadata": {},
   "outputs": [
    {
     "name": "stdout",
     "output_type": "stream",
     "text": [
      "[[ 0  1  2  3]\n",
      " [ 4  5  6  7]\n",
      " [ 8  9 10 11]]\n",
      "\n",
      "(3, 4)\n",
      "\n",
      "2\n",
      "\n",
      "4\n",
      "\n",
      "12\n"
     ]
    }
   ],
   "source": [
    "print(a)\n",
    "print()\n",
    "print(a.shape)\n",
    "print()\n",
    "print(a.ndim) # 배열 앞의 대괄호 개수로 차원 크기 추정 가능\n",
    "print()\n",
    "print(a.itemsize)\n",
    "print()\n",
    "print(a.size)"
   ]
  },
  {
   "cell_type": "markdown",
   "metadata": {},
   "source": [
    "## 넘파이 배열 생성 방법\n",
    "- np.array() 이용하여 tuple이나 list를 통해 ndarray를 생성"
   ]
  },
  {
   "cell_type": "code",
   "execution_count": 20,
   "metadata": {},
   "outputs": [
    {
     "name": "stdout",
     "output_type": "stream",
     "text": [
      "[1 2 3] <class 'numpy.ndarray'>\n",
      "[ 1.2 -3.5  5.1] <class 'numpy.ndarray'> float64\n"
     ]
    }
   ],
   "source": [
    "a = np.array([1,2,3])\n",
    "print(a, type(a))\n",
    "\n",
    "b= np.array([1.2, -3.5, 5.1])\n",
    "print(b, type(b), b.dtype)"
   ]
  },
  {
   "cell_type": "code",
   "execution_count": 28,
   "metadata": {},
   "outputs": [
    {
     "name": "stdout",
     "output_type": "stream",
     "text": [
      "float64\n",
      "int32\n"
     ]
    }
   ],
   "source": [
    "arr = np.array([1,2,3,4,5])\n",
    "arr.dtype\n",
    "\n",
    "# 타입 변경 astype\n",
    "arr_float = arr.astype(np.float64)\n",
    "print(arr_float.dtype)\n",
    "\n",
    "print(arr.dtype) # 원본에는 변경 사항 없음"
   ]
  },
  {
   "cell_type": "code",
   "execution_count": 33,
   "metadata": {},
   "outputs": [
    {
     "name": "stdout",
     "output_type": "stream",
     "text": [
      "[   1.234   -2.29  1000.   ] float64\n",
      "[b'1.234' b'-2.29' b'1000.0'] |S32\n",
      "['1.234' '-2.29' '1000.0'] <class 'numpy.ndarray'> <U6\n"
     ]
    }
   ],
   "source": [
    "num_str = np.array([1.234, -2.29, 1000])\n",
    "print(num_str, num_str.dtype)\n",
    "num_str = num_str.astype(np.string_)\n",
    "print(num_str, num_str.dtype)\n",
    "\n",
    "arr_str = np.array(list(map(lambda x: x.decode(), num_str))) # 데이터 숫자가 많을 때, for문보다 속도가 빠름\n",
    "arr_str = np.array([x.decode() for x in num_str])\n",
    "\n",
    "# decoded_nums = []\n",
    "# for num in num_str:\n",
    "#     decoded_nums.append(num.decode())\n",
    "# np_array = np.array(decoded_nums)\n",
    "\n",
    "print(arr_str, type(arr_str),  arr_str.dtype)"
   ]
  },
  {
   "cell_type": "code",
   "execution_count": 40,
   "metadata": {},
   "outputs": [
    {
     "name": "stdout",
     "output_type": "stream",
     "text": [
      "[[2.12199579e-314 6.36598737e-314 1.06099790e-313]\n",
      " [1.48539705e-313 1.90979621e-313 2.33419537e-313]]\n",
      "(2, 3, 4)\n"
     ]
    },
    {
     "data": {
      "text/plain": [
       "array([[[5, 5, 5, 5],\n",
       "        [5, 5, 5, 5],\n",
       "        [5, 5, 5, 5]],\n",
       "\n",
       "       [[5, 5, 5, 5],\n",
       "        [5, 5, 5, 5],\n",
       "        [5, 5, 5, 5]]])"
      ]
     },
     "execution_count": 40,
     "metadata": {},
     "output_type": "execute_result"
    }
   ],
   "source": [
    "print(np.empty((2,3)))\n",
    "np.full((2,3), 5)\n",
    "a = np.ones((2,3,4))\n",
    "print(a.shape)\n",
    "a = np.full((2,3,4), 5)\n",
    "a"
   ]
  },
  {
   "cell_type": "markdown",
   "metadata": {},
   "source": [
    "- np.arange() : n - 1만큼 숫자 생성\n",
    "- np.linspace() : n등분만큼 숫자 생성"
   ]
  },
  {
   "cell_type": "code",
   "execution_count": 47,
   "metadata": {},
   "outputs": [
    {
     "name": "stdout",
     "output_type": "stream",
     "text": [
      "[10 11 12 13 14 15 16 17 18 19 20 21 22 23 24 25 26 27 28 29]\n",
      "[10 15 20 25]\n",
      "\n",
      "[ 0. 11. 22. 33. 44. 55. 66. 77. 88. 99.]\n"
     ]
    }
   ],
   "source": [
    "print(np.arange(10,30))\n",
    "print(np.arange(10,30,5))\n",
    "\n",
    "print()\n",
    "print(np.linspace(0, 99, 10)) # 10등분으로 나뉘어서 표현\n"
   ]
  },
  {
   "cell_type": "code",
   "execution_count": 56,
   "metadata": {},
   "outputs": [
    {
     "name": "stdout",
     "output_type": "stream",
     "text": [
      "[0.   0.25 0.5  0.75 1.  ]\n",
      "[0.   0.25 0.5  0.75 1.  ]\n"
     ]
    }
   ],
   "source": [
    "# 0부터 1까지 0.25 step으로 출력\n",
    "print(np.arange(0, 1+0.25, 0.25))\n",
    "\n",
    "# 0부터 1까지 5등분으로 출력\n",
    "print(np.linspace(0,1,5))\n"
   ]
  },
  {
   "cell_type": "code",
   "execution_count": 62,
   "metadata": {},
   "outputs": [
    {
     "name": "stdout",
     "output_type": "stream",
     "text": [
      "[ 0  1  2  3  4  5  6  7  8  9 10 11] 1 (12,)\n",
      "[[ 0  1  2]\n",
      " [ 3  4  5]\n",
      " [ 6  7  8]\n",
      " [ 9 10 11]] 2 (4, 3)\n"
     ]
    }
   ],
   "source": [
    "# 0부터 5까지 1차원 array를 생성\n",
    "a = np.arange(12) # 단순 1차원 배열 생성\n",
    "print(a, a.ndim, a.shape)\n",
    "# 4, 3의 shape으로 2차원 배열 출력\n",
    "b = a.reshape(4,3) # shape 변경\n",
    "print(b, b.ndim, b.shape)"
   ]
  },
  {
   "cell_type": "code",
   "execution_count": 64,
   "metadata": {},
   "outputs": [
    {
     "name": "stdout",
     "output_type": "stream",
     "text": [
      "[[[ 0  1  2  3]\n",
      "  [ 4  5  6  7]\n",
      "  [ 8  9 10 11]]\n",
      "\n",
      " [[12 13 14 15]\n",
      "  [16 17 18 19]\n",
      "  [20 21 22 23]]] 3 (2, 3, 4)\n"
     ]
    }
   ],
   "source": [
    "# arange를 활용해서 (2,3,4)의 3차원 배열을 만드시오\n",
    "a = np.arange(24).reshape(2,3,4)\n",
    "print(a, a.ndim, a.shape)\n"
   ]
  },
  {
   "cell_type": "markdown",
   "metadata": {},
   "source": [
    "# Numpy 기본연산\n",
    "- 차원(축=axis)기준으로 행렬 내에 같은 위치에 있는 원소끼리 연산을 하는 방식\n"
   ]
  },
  {
   "cell_type": "code",
   "execution_count": 79,
   "metadata": {},
   "outputs": [
    {
     "name": "stdout",
     "output_type": "stream",
     "text": [
      "[10 20 30 40]\n",
      "[0 1 2 3]\n"
     ]
    }
   ],
   "source": [
    "a = np.array([10,20,30,40])\n",
    "b = np.arange(4)\n",
    "print(a)\n",
    "print(b)"
   ]
  },
  {
   "cell_type": "code",
   "execution_count": 69,
   "metadata": {},
   "outputs": [
    {
     "name": "stdout",
     "output_type": "stream",
     "text": [
      "[10 19 28 37]\n"
     ]
    }
   ],
   "source": [
    "c = a - b\n",
    "print(c)"
   ]
  },
  {
   "cell_type": "code",
   "execution_count": 86,
   "metadata": {},
   "outputs": [
    {
     "name": "stdout",
     "output_type": "stream",
     "text": [
      "[0 1 4 9]\n"
     ]
    }
   ],
   "source": [
    "c = b**2 # 원본은 그대로이기 때문에 따로 저장\n",
    "print(c)"
   ]
  },
  {
   "cell_type": "code",
   "execution_count": 93,
   "metadata": {},
   "outputs": [
    {
     "name": "stdout",
     "output_type": "stream",
     "text": [
      "[10 20 30 40]\n",
      "[30 40]\n"
     ]
    }
   ],
   "source": [
    "c = a < 25 # boolean 결과 값이 표현\n",
    "a[a > 25] # 조건으로 원하는 값만 출력 가능 True는 취하고 False는 버림\n",
    "print(a)\n",
    "print(a[a>25])"
   ]
  },
  {
   "cell_type": "code",
   "execution_count": 110,
   "metadata": {},
   "outputs": [
    {
     "name": "stdout",
     "output_type": "stream",
     "text": [
      "[[ 0  1  2  3]\n",
      " [ 4  5  6  7]\n",
      " [ 8  9 10 11]]\n",
      "['Bob' 'Jeo' 'Bob']\n",
      "[[ 0  1  2  3]\n",
      " [ 8  9 10 11]]\n",
      "[[4 5 6 7]]\n"
     ]
    }
   ],
   "source": [
    "# 3x4 배열을 만들고\n",
    "a = np.arange(12).reshape(3,4)\n",
    "print(a)\n",
    "# [Bob, Jeo, Bob]를 가진 1차원 어레이를 선언\n",
    "a_str = np.array(['Bob', 'Jeo', 'Bob'])\n",
    "print(a_str)\n",
    "# Bob에 해당하는 인덱스만 3X4 어레이에서 출력\n",
    "a[a_str == 'Bob'] # 원본 자체는 변하지 않음\n",
    "b = a[a_str == 'Bob']\n",
    "print(b)\n",
    "c = a[a_str == 'Jeo']\n",
    "print(c)"
   ]
  },
  {
   "cell_type": "code",
   "execution_count": 121,
   "metadata": {},
   "outputs": [
    {
     "name": "stdout",
     "output_type": "stream",
     "text": [
      "[[ 1  2]\n",
      " [ 9 10]]\n"
     ]
    }
   ],
   "source": [
    "d = a[a_str == 'Bob', 1:3]\n",
    "print(d)"
   ]
  },
  {
   "cell_type": "code",
   "execution_count": 139,
   "metadata": {},
   "outputs": [
    {
     "name": "stdout",
     "output_type": "stream",
     "text": [
      "[ 9 10]\n",
      "[ True False  True]\n"
     ]
    },
    {
     "data": {
      "text/plain": [
       "array([[ 0,  1,  2,  3],\n",
       "       [ 8,  9, 10, 11]])"
      ]
     },
     "execution_count": 139,
     "metadata": {},
     "output_type": "execute_result"
    }
   ],
   "source": [
    "# Bob에 해당하는 행에 1행만 출력하고자 한다면\n",
    "e = a[a_str == 'Bob']\n",
    "print(e[1][1:3])\n",
    "names = np.array(['Bob', 'Jeo', 'Wil']) \n",
    "mask = (names == 'Bob') | (names == 'Wil')\n",
    "print(mask)\n",
    "a[mask]"
   ]
  },
  {
   "cell_type": "code",
   "execution_count": 152,
   "metadata": {},
   "outputs": [
    {
     "name": "stdout",
     "output_type": "stream",
     "text": [
      "[[ 0  1  2  3]\n",
      " [ 8  9 10 11]] <class 'numpy.ndarray'>\n"
     ]
    },
    {
     "data": {
      "text/plain": [
       "array([[0, 1, 0, 0],\n",
       "       [8, 9, 0, 0]])"
      ]
     },
     "execution_count": 152,
     "metadata": {},
     "output_type": "execute_result"
    }
   ],
   "source": [
    "# 2,3\n",
    "# 10, 11\n",
    "# 위의 값들을 0으로 변경\n",
    "b = a[mask]\n",
    "print(b, type(b))\n",
    "b[:,2:] = 0\n",
    "b"
   ]
  },
  {
   "cell_type": "code",
   "execution_count": 154,
   "metadata": {},
   "outputs": [
    {
     "data": {
      "text/plain": [
       "(array([[ 0,  1,  2,  3],\n",
       "        [ 4,  5,  6,  7],\n",
       "        [ 8,  9, 10, 11]]),\n",
       " array(['Bob', 'Jeo', 'Wil'], dtype='<U3'))"
      ]
     },
     "execution_count": 154,
     "metadata": {},
     "output_type": "execute_result"
    }
   ],
   "source": [
    "a, names"
   ]
  },
  {
   "cell_type": "code",
   "execution_count": 216,
   "metadata": {},
   "outputs": [
    {
     "name": "stdout",
     "output_type": "stream",
     "text": [
      "7\n"
     ]
    }
   ],
   "source": [
    "a = np.arange(12).reshape(3,4)\n",
    "names = np.array(['Bob', 'Jeo', 'Wil']) \n",
    "b = a[names != 'Bob'] \n",
    "c = b[0, 0:] = 7\n",
    "print(c)\n"
   ]
  },
  {
   "cell_type": "code",
   "execution_count": 167,
   "metadata": {},
   "outputs": [
    {
     "data": {
      "text/plain": [
       "array([[False,  True, False],\n",
       "       [ True, False,  True]])"
      ]
     },
     "execution_count": 167,
     "metadata": {},
     "output_type": "execute_result"
    }
   ],
   "source": [
    "arr1 = np.array([[1.,2.,3.],[4.,5.,6.]])\n",
    "arr2 = np.array([[0.,4.,1.],[7.,2.,12.]])\n",
    "arr1, arr2\n",
    "arr1 < arr2"
   ]
  },
  {
   "cell_type": "code",
   "execution_count": 187,
   "metadata": {},
   "outputs": [
    {
     "name": "stdout",
     "output_type": "stream",
     "text": [
      "[[0. 0. 0. 0.]\n",
      " [1. 1. 1. 1.]\n",
      " [2. 2. 2. 2.]\n",
      " [3. 3. 3. 3.]\n",
      " [4. 4. 4. 4.]\n",
      " [5. 5. 5. 5.]\n",
      " [6. 6. 6. 6.]\n",
      " [7. 7. 7. 7.]]\n",
      "[[4. 4. 4. 4.]\n",
      " [0. 0. 0. 0.]\n",
      " [7. 7. 7. 7.]\n",
      " [1. 1. 1. 1.]\n",
      " [1. 1. 1. 1.]\n",
      " [1. 1. 1. 1.]\n",
      " [1. 1. 1. 1.]\n",
      " [1. 1. 1. 1.]]\n",
      "[[4. 4. 4. 4.]\n",
      " [3. 3. 3. 3.]\n",
      " [2. 2. 2. 2.]]\n"
     ]
    }
   ],
   "source": [
    "\n",
    "# 8x4 빈 배열을 하나 만들고 \n",
    "# 각 행마다 1행에는 0의 값을, 2행에는 1의 값을 ... 넣어보자\n",
    "arr = np.zeros((8,4))\n",
    "\n",
    "for i in range(len(arr)):\n",
    "    arr[i] = i \n",
    "\n",
    "print(arr)\n",
    "print(arr[[4,0,7,1,1,1,1,1]]) # 원하는 행 인덱싱 가능\n",
    "print(arr[[-4, -5, -6]])"
   ]
  },
  {
   "cell_type": "markdown",
   "metadata": {},
   "source": [
    "### 다중 정수배열 인덱싱은 항상 1차원 배열을 리턴"
   ]
  },
  {
   "cell_type": "code",
   "execution_count": 194,
   "metadata": {},
   "outputs": [
    {
     "name": "stdout",
     "output_type": "stream",
     "text": [
      "[[[[[  0   1]\n",
      "    [  2   3]]\n",
      "\n",
      "   [[  4   5]\n",
      "    [  6   7]]]\n",
      "\n",
      "\n",
      "  [[[  8   9]\n",
      "    [ 10  11]]\n",
      "\n",
      "   [[ 12  13]\n",
      "    [ 14  15]]]\n",
      "\n",
      "\n",
      "  [[[ 16  17]\n",
      "    [ 18  19]]\n",
      "\n",
      "   [[ 20  21]\n",
      "    [ 22  23]]]\n",
      "\n",
      "\n",
      "  [[[ 24  25]\n",
      "    [ 26  27]]\n",
      "\n",
      "   [[ 28  29]\n",
      "    [ 30  31]]]]\n",
      "\n",
      "\n",
      "\n",
      " [[[[ 32  33]\n",
      "    [ 34  35]]\n",
      "\n",
      "   [[ 36  37]\n",
      "    [ 38  39]]]\n",
      "\n",
      "\n",
      "  [[[ 40  41]\n",
      "    [ 42  43]]\n",
      "\n",
      "   [[ 44  45]\n",
      "    [ 46  47]]]\n",
      "\n",
      "\n",
      "  [[[ 48  49]\n",
      "    [ 50  51]]\n",
      "\n",
      "   [[ 52  53]\n",
      "    [ 54  55]]]\n",
      "\n",
      "\n",
      "  [[[ 56  57]\n",
      "    [ 58  59]]\n",
      "\n",
      "   [[ 60  61]\n",
      "    [ 62  63]]]]\n",
      "\n",
      "\n",
      "\n",
      " [[[[ 64  65]\n",
      "    [ 66  67]]\n",
      "\n",
      "   [[ 68  69]\n",
      "    [ 70  71]]]\n",
      "\n",
      "\n",
      "  [[[ 72  73]\n",
      "    [ 74  75]]\n",
      "\n",
      "   [[ 76  77]\n",
      "    [ 78  79]]]\n",
      "\n",
      "\n",
      "  [[[ 80  81]\n",
      "    [ 82  83]]\n",
      "\n",
      "   [[ 84  85]\n",
      "    [ 86  87]]]\n",
      "\n",
      "\n",
      "  [[[ 88  89]\n",
      "    [ 90  91]]\n",
      "\n",
      "   [[ 92  93]\n",
      "    [ 94  95]]]]\n",
      "\n",
      "\n",
      "\n",
      " [[[[ 96  97]\n",
      "    [ 98  99]]\n",
      "\n",
      "   [[100 101]\n",
      "    [102 103]]]\n",
      "\n",
      "\n",
      "  [[[104 105]\n",
      "    [106 107]]\n",
      "\n",
      "   [[108 109]\n",
      "    [110 111]]]\n",
      "\n",
      "\n",
      "  [[[112 113]\n",
      "    [114 115]]\n",
      "\n",
      "   [[116 117]\n",
      "    [118 119]]]\n",
      "\n",
      "\n",
      "  [[[120 121]\n",
      "    [122 123]]\n",
      "\n",
      "   [[124 125]\n",
      "    [126 127]]]]\n",
      "\n",
      "\n",
      "\n",
      " [[[[128 129]\n",
      "    [130 131]]\n",
      "\n",
      "   [[132 133]\n",
      "    [134 135]]]\n",
      "\n",
      "\n",
      "  [[[136 137]\n",
      "    [138 139]]\n",
      "\n",
      "   [[140 141]\n",
      "    [142 143]]]\n",
      "\n",
      "\n",
      "  [[[144 145]\n",
      "    [146 147]]\n",
      "\n",
      "   [[148 149]\n",
      "    [150 151]]]\n",
      "\n",
      "\n",
      "  [[[152 153]\n",
      "    [154 155]]\n",
      "\n",
      "   [[156 157]\n",
      "    [158 159]]]]\n",
      "\n",
      "\n",
      "\n",
      " [[[[160 161]\n",
      "    [162 163]]\n",
      "\n",
      "   [[164 165]\n",
      "    [166 167]]]\n",
      "\n",
      "\n",
      "  [[[168 169]\n",
      "    [170 171]]\n",
      "\n",
      "   [[172 173]\n",
      "    [174 175]]]\n",
      "\n",
      "\n",
      "  [[[176 177]\n",
      "    [178 179]]\n",
      "\n",
      "   [[180 181]\n",
      "    [182 183]]]\n",
      "\n",
      "\n",
      "  [[[184 185]\n",
      "    [186 187]]\n",
      "\n",
      "   [[188 189]\n",
      "    [190 191]]]]\n",
      "\n",
      "\n",
      "\n",
      " [[[[192 193]\n",
      "    [194 195]]\n",
      "\n",
      "   [[196 197]\n",
      "    [198 199]]]\n",
      "\n",
      "\n",
      "  [[[200 201]\n",
      "    [202 203]]\n",
      "\n",
      "   [[204 205]\n",
      "    [206 207]]]\n",
      "\n",
      "\n",
      "  [[[208 209]\n",
      "    [210 211]]\n",
      "\n",
      "   [[212 213]\n",
      "    [214 215]]]\n",
      "\n",
      "\n",
      "  [[[216 217]\n",
      "    [218 219]]\n",
      "\n",
      "   [[220 221]\n",
      "    [222 223]]]]\n",
      "\n",
      "\n",
      "\n",
      " [[[[224 225]\n",
      "    [226 227]]\n",
      "\n",
      "   [[228 229]\n",
      "    [230 231]]]\n",
      "\n",
      "\n",
      "  [[[232 233]\n",
      "    [234 235]]\n",
      "\n",
      "   [[236 237]\n",
      "    [238 239]]]\n",
      "\n",
      "\n",
      "  [[[240 241]\n",
      "    [242 243]]\n",
      "\n",
      "   [[244 245]\n",
      "    [246 247]]]\n",
      "\n",
      "\n",
      "  [[[248 249]\n",
      "    [250 251]]\n",
      "\n",
      "   [[252 253]\n",
      "    [254 255]]]]]\n"
     ]
    },
    {
     "data": {
      "text/plain": [
       "array([ 39, 191, 239,  87])"
      ]
     },
     "execution_count": 194,
     "metadata": {},
     "output_type": "execute_result"
    }
   ],
   "source": [
    "arr = np.arange(256).reshape(8,4,2,2,2)\n",
    "print(arr)\n",
    "arr[[1,5,7,2],[0,3,1,2],[1,1,1,1],[1,1,1,1],[1,1,1,1]] # (1,0), (5,3), (7,1), (2,2)"
   ]
  },
  {
   "cell_type": "markdown",
   "metadata": {},
   "source": [
    "### 기본연산\n",
    "- * : 각각 원소끼리 곱셈\n",
    "- @ : 행렬 곱셈\n"
   ]
  },
  {
   "cell_type": "code",
   "execution_count": 211,
   "metadata": {},
   "outputs": [
    {
     "name": "stdout",
     "output_type": "stream",
     "text": [
      "[[0 1]\n",
      " [2 3]]\n",
      "[[0 1]\n",
      " [2 3]]\n",
      "[[0 1]\n",
      " [4 9]]\n",
      "[[ 2  3]\n",
      " [ 6 11]]\n"
     ]
    }
   ],
   "source": [
    "A = np.array(np.arange(4)).reshape(2,2)\n",
    "B = A\n",
    "B\n",
    "print(A)\n",
    "print(B)\n",
    "print(A*B)\n",
    "print(A@B)\n"
   ]
  },
  {
   "cell_type": "code",
   "execution_count": 217,
   "metadata": {},
   "outputs": [
    {
     "data": {
      "text/plain": [
       "(array([1.        , 2.57079633, 4.14159265]), dtype('float64'))"
      ]
     },
     "execution_count": 217,
     "metadata": {},
     "output_type": "execute_result"
    }
   ],
   "source": [
    "a = np.ones(3, dtype = np.int32)\n",
    "b= np.linspace(0, np.pi, 3)\n",
    "b.dtype\n",
    "c = a + b \n",
    "c, c.dtype # 연산을 했을 때 타입형이 큰 것으로 적용 int < float < complex"
   ]
  },
  {
   "cell_type": "markdown",
   "metadata": {},
   "source": [
    "### 집계함수\n",
    "- sum()\n",
    "- min()\n",
    "- max()\n",
    "- argmax() : 모든 요소 중 최대값의 인덱스\n",
    "- cumsum() : 모든 요소의 누적합\n",
    "- mean() : 평균"
   ]
  },
  {
   "cell_type": "code",
   "execution_count": 227,
   "metadata": {},
   "outputs": [
    {
     "name": "stdout",
     "output_type": "stream",
     "text": [
      "[[ 0  1  3]\n",
      " [ 3  7 12]\n",
      " [ 6 13 21]]\n",
      "[[0 1 2]\n",
      " [3 4 5]\n",
      " [6 7 8]]\n"
     ]
    },
    {
     "data": {
      "text/plain": [
       "array([ 9, 12, 15])"
      ]
     },
     "execution_count": 227,
     "metadata": {},
     "output_type": "execute_result"
    }
   ],
   "source": [
    "# 0 ~ 7까지 제곱된 값을 2, 4크기로 출력\n",
    "a = np.arange(8).reshape(2,4)**2 #를 붙여도 가능\n",
    "\n",
    "# print(a)\n",
    "# print(a.sum())\n",
    "# print(a.min())\n",
    "# print(a.argmax())\n",
    "# print(a.argmin())\n",
    "# print(a.cumsum())\n",
    "\n",
    "arr = np.arange(9).reshape(3,3)\n",
    "print(arr.cumsum(axis=1))\n",
    "print(arr)\n",
    "arr.sum(axis=0)"
   ]
  },
  {
   "cell_type": "markdown",
   "metadata": {},
   "source": [
    "### 넘파이 범용함수 (universal function)\n"
   ]
  },
  {
   "cell_type": "code",
   "execution_count": 229,
   "metadata": {},
   "outputs": [
    {
     "data": {
      "text/plain": [
       "array([1., 2., 3.])"
      ]
     },
     "execution_count": 229,
     "metadata": {},
     "output_type": "execute_result"
    }
   ],
   "source": [
    "B = np.array([1,4,9])\n",
    "np.sqrt(B)"
   ]
  },
  {
   "cell_type": "markdown",
   "metadata": {},
   "source": [
    "### Numpy 인덱싱과 슬라이싱"
   ]
  },
  {
   "cell_type": "code",
   "execution_count": 256,
   "metadata": {},
   "outputs": [
    {
     "name": "stdout",
     "output_type": "stream",
     "text": [
      "[ 0  1  4  9 16 25 36 49 64 81]\n",
      "[ 4  9 16]\n",
      "[81 64 49 36 25 16  9  4  1  0]\n",
      "[ 0  4 16]\n",
      "[1000    1 1000    9 1000   25   36   49   64   81]\n",
      "[25 36 49]\n"
     ]
    }
   ],
   "source": [
    "a = np.arange(10)**2\n",
    "print(a)\n",
    "print(a[2:5]) # 슬라이싱\n",
    "print(a[::-1])\n",
    "\n",
    "# 0,4,9를 출력하시오\n",
    "print(a[0:6:2]) # 간격설정 가능\n",
    "a[0:5:2] = 1000\n",
    "print(a)\n",
    "\n",
    "arr = a[5:8]\n",
    "print(arr)"
   ]
  },
  {
   "cell_type": "code",
   "execution_count": 266,
   "metadata": {},
   "outputs": [
    {
     "name": "stdout",
     "output_type": "stream",
     "text": [
      "[  25 1234   49]\n",
      "[1000    1 1000    9 1000   25 1234   49   64   81]\n"
     ]
    }
   ],
   "source": [
    "arr[1] = 1234\n",
    "print(arr)\n",
    "print(a) # 원본 값도 변경 된다."
   ]
  },
  {
   "cell_type": "markdown",
   "metadata": {},
   "source": [
    "- 배열 슬라이스는 새로운 객체를 만드는 것이 아닌 배열에 대한 view를 가진다.\n",
    "- 즉 잘라낸 배열에 값을 변경 시(대입연산자) 원본 값도 변경된다."
   ]
  },
  {
   "cell_type": "code",
   "execution_count": 268,
   "metadata": {},
   "outputs": [
    {
     "data": {
      "text/plain": [
       "array([1000,    1, 1000,    9, 1000,  500,  500,  500,   64,   81])"
      ]
     },
     "execution_count": 268,
     "metadata": {},
     "output_type": "execute_result"
    }
   ],
   "source": [
    "arr[:] = 500\n",
    "a"
   ]
  },
  {
   "cell_type": "code",
   "execution_count": 275,
   "metadata": {},
   "outputs": [
    {
     "name": "stdout",
     "output_type": "stream",
     "text": [
      "[25 36 49]\n",
      "[ 0  1  4  9 16 25 36 49 64 81]\n"
     ]
    }
   ],
   "source": [
    "a = np.arange(10)**2\n",
    "arr = a[5:8].copy() # copy를 해줘야 원본이 유지 됨.\n",
    "print(arr)\n",
    "\n",
    "arr[:] == -100\n",
    "print(a) # 원본 데이터 보존\n"
   ]
  },
  {
   "cell_type": "code",
   "execution_count": 278,
   "metadata": {},
   "outputs": [
    {
     "data": {
      "text/plain": [
       "array([[1, 2, 3],\n",
       "       [4, 5, 6],\n",
       "       [7, 8, 9]])"
      ]
     },
     "execution_count": 278,
     "metadata": {},
     "output_type": "execute_result"
    }
   ],
   "source": [
    "# 1~9까지 3x3 배열을 만들자\n",
    "\n",
    "arr2d = np.arange(1,10).reshape(3,3)\n",
    "arr2d"
   ]
  },
  {
   "cell_type": "code",
   "execution_count": 284,
   "metadata": {},
   "outputs": [
    {
     "name": "stdout",
     "output_type": "stream",
     "text": [
      "2\n",
      "2\n"
     ]
    }
   ],
   "source": [
    "arr2d[0] # 1차원 배열\n",
    "print(arr2d[0][1]) #1\n",
    "print(arr2d[0, 1]) #2"
   ]
  },
  {
   "cell_type": "code",
   "execution_count": 300,
   "metadata": {},
   "outputs": [
    {
     "name": "stdout",
     "output_type": "stream",
     "text": [
      "[[[ 1  2  3]\n",
      "  [ 4  5  6]]\n",
      "\n",
      " [[ 7  8  9]\n",
      "  [10 11 12]]]\n",
      "[4 5 6]\n",
      "[4 5 6]\n",
      "[7 8 9]\n",
      "8\n"
     ]
    }
   ],
   "source": [
    "# 1~12까지 2x2x3 행렬 생성\n",
    "arr3d = np.arange(1,13).reshape(2,2,3)\n",
    "print(arr3d) # 3차원 \n",
    "print(arr3d[0][1]) #1\n",
    "print(arr[0, 1]) #2\n",
    "print(arr[1, 0])\n",
    "print(arr[1, 0, 1])\n"
   ]
  },
  {
   "cell_type": "code",
   "execution_count": 306,
   "metadata": {},
   "outputs": [
    {
     "name": "stdout",
     "output_type": "stream",
     "text": [
      "[[[100 100 100]\n",
      "  [100 100 100]]\n",
      "\n",
      " [[  7   8   9]\n",
      "  [ 10  11  12]]]\n",
      "[10 11]\n",
      "[10 11]\n"
     ]
    }
   ],
   "source": [
    "# 원본 회손없이 첫 번째 2x3행렬에 100으로 변경하고자 한다.\n",
    "old = arr3d.copy()\n",
    "old[0] = 100\n",
    "print(old)\n",
    "\n",
    "# 10 11 출력\n",
    "print(old[1][1][0:2])\n",
    "print(old[1, 1, 0:2])"
   ]
  },
  {
   "cell_type": "code",
   "execution_count": 6,
   "metadata": {},
   "outputs": [
    {
     "data": {
      "text/plain": [
       "array([ 0,  1,  4,  9, 16, 25, 36, 49])"
      ]
     },
     "execution_count": 6,
     "metadata": {},
     "output_type": "execute_result"
    }
   ],
   "source": [
    "a= np.arange(8)**2\n",
    "a"
   ]
  },
  {
   "cell_type": "code",
   "execution_count": 7,
   "metadata": {},
   "outputs": [
    {
     "data": {
      "text/plain": [
       "array([ 1,  1,  9, 25])"
      ]
     },
     "execution_count": 7,
     "metadata": {},
     "output_type": "execute_result"
    }
   ],
   "source": [
    "mask = np.array([1, 1, 3, 5])\n",
    "a[mask]"
   ]
  },
  {
   "cell_type": "code",
   "execution_count": 10,
   "metadata": {},
   "outputs": [
    {
     "data": {
      "text/plain": [
       "array([[3, 4],\n",
       "       [2, 5]])"
      ]
     },
     "execution_count": 10,
     "metadata": {},
     "output_type": "execute_result"
    }
   ],
   "source": [
    "mask2d = np.array([[3,4],[2,5]])\n",
    "mask2d"
   ]
  },
  {
   "cell_type": "code",
   "execution_count": 14,
   "metadata": {},
   "outputs": [
    {
     "data": {
      "text/plain": [
       "(2, 2)"
      ]
     },
     "execution_count": 14,
     "metadata": {},
     "output_type": "execute_result"
    }
   ],
   "source": [
    "a[mask2d].shape"
   ]
  },
  {
   "cell_type": "code",
   "execution_count": 15,
   "metadata": {},
   "outputs": [
    {
     "data": {
      "text/plain": [
       "array([ 5,  6,  7,  8,  9, 10, 11])"
      ]
     },
     "execution_count": 15,
     "metadata": {},
     "output_type": "execute_result"
    }
   ],
   "source": [
    "a = np.arange(12).reshape(3,4)\n",
    "a[a>4]"
   ]
  },
  {
   "cell_type": "code",
   "execution_count": 17,
   "metadata": {},
   "outputs": [
    {
     "data": {
      "text/plain": [
       "array([[0, 1, 2, 3],\n",
       "       [4, 0, 0, 0],\n",
       "       [0, 0, 0, 0]])"
      ]
     },
     "execution_count": 17,
     "metadata": {},
     "output_type": "execute_result"
    }
   ],
   "source": [
    "a[a > 4] = 0 \n",
    "a\n"
   ]
  },
  {
   "cell_type": "markdown",
   "metadata": {},
   "source": [
    "### numpy 크기(차원) 변경\n",
    "reval : 1차원 변경\n",
    "reshape : 지정한 차원으로 변경\n",
    "T : 전치(transpose)"
   ]
  },
  {
   "cell_type": "code",
   "execution_count": 25,
   "metadata": {},
   "outputs": [
    {
     "data": {
      "text/plain": [
       "array([[ 0,  1,  2,  3],\n",
       "       [ 4,  5,  6,  7],\n",
       "       [ 8,  9, 10, 11]])"
      ]
     },
     "execution_count": 25,
     "metadata": {},
     "output_type": "execute_result"
    }
   ],
   "source": [
    "a = np.arange(12).reshape(3,4)\n",
    "a"
   ]
  },
  {
   "cell_type": "code",
   "execution_count": 26,
   "metadata": {},
   "outputs": [
    {
     "data": {
      "text/plain": [
       "array([ 0,  1,  2,  3,  4,  5,  6,  7,  8,  9, 10, 11])"
      ]
     },
     "execution_count": 26,
     "metadata": {},
     "output_type": "execute_result"
    }
   ],
   "source": [
    "a.ravel()"
   ]
  },
  {
   "cell_type": "code",
   "execution_count": 33,
   "metadata": {},
   "outputs": [
    {
     "data": {
      "text/plain": [
       "array([ 0,  1,  2,  3,  4,  5,  6,  7,  8,  9, 10, 11])"
      ]
     },
     "execution_count": 33,
     "metadata": {},
     "output_type": "execute_result"
    }
   ],
   "source": [
    "a.reshape(-1)"
   ]
  },
  {
   "cell_type": "code",
   "execution_count": 28,
   "metadata": {},
   "outputs": [
    {
     "data": {
      "text/plain": [
       "array([[ 0,  4,  8],\n",
       "       [ 1,  5,  9],\n",
       "       [ 2,  6, 10],\n",
       "       [ 3,  7, 11]])"
      ]
     },
     "execution_count": 28,
     "metadata": {},
     "output_type": "execute_result"
    }
   ],
   "source": [
    "a.T #전치 행렬"
   ]
  },
  {
   "cell_type": "code",
   "execution_count": 38,
   "metadata": {},
   "outputs": [],
   "source": [
    "a = a.T"
   ]
  },
  {
   "cell_type": "code",
   "execution_count": 41,
   "metadata": {},
   "outputs": [
    {
     "data": {
      "text/plain": [
       "array([[4, 8],\n",
       "       [5, 9]])"
      ]
     },
     "execution_count": 41,
     "metadata": {},
     "output_type": "execute_result"
    }
   ],
   "source": [
    "a[:2, 1:]"
   ]
  },
  {
   "cell_type": "code",
   "execution_count": 42,
   "metadata": {},
   "outputs": [
    {
     "data": {
      "text/plain": [
       "array([[ 0,  4,  8],\n",
       "       [ 1,  5,  9],\n",
       "       [ 2,  6, 10],\n",
       "       [ 3,  7, 11]])"
      ]
     },
     "execution_count": 42,
     "metadata": {},
     "output_type": "execute_result"
    }
   ],
   "source": [
    "a"
   ]
  },
  {
   "cell_type": "code",
   "execution_count": 63,
   "metadata": {},
   "outputs": [
    {
     "name": "stdout",
     "output_type": "stream",
     "text": [
      "(1, 3)\n",
      "(3,)\n",
      "(4, 2)\n",
      "[1 5]\n"
     ]
    },
    {
     "data": {
      "text/plain": [
       "(1, 2)"
      ]
     },
     "execution_count": 63,
     "metadata": {},
     "output_type": "execute_result"
    }
   ],
   "source": [
    "print(a[3: , : ].shape)\n",
    "print(a[-1].shape)\n",
    "\n",
    "print(a[:,0:2].shape)\n",
    "print(a[1,0:2])\n",
    "a[1:2, :2].shape # 2차원 array"
   ]
  },
  {
   "cell_type": "code",
   "execution_count": 65,
   "metadata": {},
   "outputs": [
    {
     "data": {
      "text/plain": [
       "array([[0, 4, 8],\n",
       "       [1, 5, 9]])"
      ]
     },
     "execution_count": 65,
     "metadata": {},
     "output_type": "execute_result"
    }
   ],
   "source": [
    "a[:2]"
   ]
  },
  {
   "cell_type": "code",
   "execution_count": null,
   "metadata": {},
   "outputs": [],
   "source": [
    "\n"
   ]
  }
 ],
 "metadata": {
  "kernelspec": {
   "display_name": "Python 3",
   "language": "python",
   "name": "python3"
  },
  "language_info": {
   "codemirror_mode": {
    "name": "ipython",
    "version": 3
   },
   "file_extension": ".py",
   "mimetype": "text/x-python",
   "name": "python",
   "nbconvert_exporter": "python",
   "pygments_lexer": "ipython3",
   "version": "3.12.1"
  }
 },
 "nbformat": 4,
 "nbformat_minor": 2
}
