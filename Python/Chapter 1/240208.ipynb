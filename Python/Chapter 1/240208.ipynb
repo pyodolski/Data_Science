{
 "cells": [
  {
   "cell_type": "markdown",
   "metadata": {},
   "source": [
    "# 모듈\n",
    "모듈은 여러 변수와 함수를 가지고 있는 집합  \n",
    "\n",
    "- 내부모듈\n",
    "파이썬 내부에 기본적으로 내장되어있는 모듈\n",
    "\n",
    "```python\n",
    "import 모듈이름\n",
    "\n",
    "```\n",
    "- 외부모듈"
   ]
  },
  {
   "cell_type": "code",
   "execution_count": 2,
   "metadata": {},
   "outputs": [
    {
     "name": "stdout",
     "output_type": "stream",
     "text": [
      "['c:\\\\python\\\\ch_01', 'c:\\\\Users\\\\OWNER\\\\AppData\\\\Local\\\\Programs\\\\Python\\\\Python312\\\\python312.zip', 'c:\\\\Users\\\\OWNER\\\\AppData\\\\Local\\\\Programs\\\\Python\\\\Python312\\\\DLLs', 'c:\\\\Users\\\\OWNER\\\\AppData\\\\Local\\\\Programs\\\\Python\\\\Python312\\\\Lib', 'c:\\\\Users\\\\OWNER\\\\AppData\\\\Local\\\\Programs\\\\Python\\\\Python312', '', 'C:\\\\Users\\\\OWNER\\\\AppData\\\\Roaming\\\\Python\\\\Python312\\\\site-packages', 'C:\\\\Users\\\\OWNER\\\\AppData\\\\Roaming\\\\Python\\\\Python312\\\\site-packages\\\\win32', 'C:\\\\Users\\\\OWNER\\\\AppData\\\\Roaming\\\\Python\\\\Python312\\\\site-packages\\\\win32\\\\lib', 'C:\\\\Users\\\\OWNER\\\\AppData\\\\Roaming\\\\Python\\\\Python312\\\\site-packages\\\\Pythonwin', 'c:\\\\Users\\\\OWNER\\\\AppData\\\\Local\\\\Programs\\\\Python\\\\Python312\\\\Lib\\\\site-packages']\n"
     ]
    }
   ],
   "source": [
    "import sys\n",
    "print(sys.path)"
   ]
  },
  {
   "cell_type": "code",
   "execution_count": 7,
   "metadata": {},
   "outputs": [
    {
     "name": "stdout",
     "output_type": "stream",
     "text": [
      "2.0\n",
      "2\n",
      "1\n"
     ]
    }
   ],
   "source": [
    "import math\n",
    "print(math.sqrt(4))\n",
    "print(math.ceil(1.2))\n",
    "print(math.floor(1.2))"
   ]
  },
  {
   "cell_type": "code",
   "execution_count": 9,
   "metadata": {},
   "outputs": [
    {
     "name": "stdout",
     "output_type": "stream",
     "text": [
      "2024-02-08 10:56:21.114342\n",
      "2023-05-12\n"
     ]
    }
   ],
   "source": [
    "import datetime\n",
    "cucrrent_datetime=datetime.datetime.now()\n",
    "print(cucrrent_datetime)\n",
    "\n",
    "custome_date=datetime.date(2023,5,12)\n",
    "print(custome_date)"
   ]
  },
  {
   "cell_type": "markdown",
   "metadata": {},
   "source": [
    "### from\n",
    "- 모듈 내에서 필요한 것만 골라서 가져올 때 사용\n",
    "```python\n",
    "from 모듈 이름 import 가져오고 싶은 변수 또는 함수\n",
    "```\n",
    "### as\n",
    "- 별칭\n",
    "```python\n",
    "import 모듈이름 as 모듈의 별칭\n",
    "```"
   ]
  },
  {
   "cell_type": "code",
   "execution_count": 15,
   "metadata": {},
   "outputs": [
    {
     "name": "stdout",
     "output_type": "stream",
     "text": [
      "안녕하세요 저는 다히입니다.\n"
     ]
    }
   ],
   "source": [
    "import people as pe\n",
    "\n",
    "dahee=pe.person('다히', 23 , '대구광역시')\n",
    "\n",
    "dahee.print_info()"
   ]
  },
  {
   "cell_type": "code",
   "execution_count": 17,
   "metadata": {},
   "outputs": [
    {
     "name": "stdout",
     "output_type": "stream",
     "text": [
      "안녕하세요 저는 다히입니다.\n"
     ]
    }
   ],
   "source": [
    "from people import person as pe\n",
    "\n",
    "dahee=pe('다히', 23 , '대구광역시')\n",
    "\n",
    "dahee.print_info()"
   ]
  },
  {
   "cell_type": "code",
   "execution_count": 26,
   "metadata": {},
   "outputs": [
    {
     "name": "stdout",
     "output_type": "stream",
     "text": [
      "토끼\n",
      "깡총깡총\n"
     ]
    }
   ],
   "source": [
    "# 토끼와 고양이 변수를 하나 만드록\n",
    "# 토끼와 고양이 점프하는 메소드를 하나씩 만들어서\n",
    "# 모듈로 제공하고\n",
    "# import를 통해 활용\n",
    "\n",
    "import animal\n",
    "\n",
    "print(animal.rabbit)\n",
    "rabbit=animal.rabbit_jump()"
   ]
  },
  {
   "cell_type": "markdown",
   "metadata": {},
   "source": [
    "# 예외처리\n",
    "1. 컴파일 시의 오류(구문오류)\n",
    "- Syntax Error  \n",
    "ex) \n",
    "        ```python\n",
    "        print('갑니다.)\n",
    "        ```\n",
    "2. 런타임 오류 \n",
    "- 실행 중에 발생하는 오류  \n",
    "ex)  \n",
    "        ```python\n",
    "        a=10\n",
    "        b=15\n",
    "        print(c)\n",
    "        ```\n",
    "\n",
    "ex)  \n",
    "        ```python\n",
    "        x=[50,60,70]\n",
    "        x[5]\n",
    "        ```"
   ]
  },
  {
   "cell_type": "markdown",
   "metadata": {},
   "source": [
    "### try-except\n",
    "\n",
    "```python\n",
    "try 예외가 발생할 수 있는 가능성이 있는 코드 삽입  \n",
    "except 문제 발생 시 실행할 코드 삽입\n",
    "```\n",
    "\n",
    "```python\n",
    "try:\n",
    "    pass\n",
    "except:\n",
    "    pass\n",
    "```"
   ]
  },
  {
   "cell_type": "code",
   "execution_count": 28,
   "metadata": {},
   "outputs": [
    {
     "name": "stdout",
     "output_type": "stream",
     "text": [
      "오류발생\n"
     ]
    }
   ],
   "source": [
    "try:\n",
    "    my_list=[1, 2, 3, 4]\n",
    "    my_list[7]\n",
    "except:\n",
    "    print('오류발생')\n",
    "    #pass"
   ]
  },
  {
   "cell_type": "code",
   "execution_count": 31,
   "metadata": {},
   "outputs": [
    {
     "name": "stdout",
     "output_type": "stream",
     "text": [
      "10.0\n"
     ]
    }
   ],
   "source": [
    "y=[10, 20, 30]\n",
    "try:\n",
    "    index, x=map(int, input('인덱스와 나이를 입력하세요').split())\n",
    "    print(y[index]/x)\n",
    "except ZeroDivisionError:\n",
    "    print('숫자를 0으로 나눌 수 없어요.')\n",
    "except IndexError:\n",
    "    print('잘못된 인덱스 입니다.')"
   ]
  },
  {
   "cell_type": "code",
   "execution_count": 33,
   "metadata": {},
   "outputs": [
    {
     "name": "stdout",
     "output_type": "stream",
     "text": [
      "예외발생 list index out of range\n"
     ]
    }
   ],
   "source": [
    "# 모든 에러 출력 (이 케이스가 더 많이 사용된다.)\n",
    "try:\n",
    "    index,x=map(int,input('인덱스와 나이를 입력하세요.').split())\n",
    "    print(y[index]/x)\n",
    "except Exception as e:\n",
    "    print('예외발생',e)"
   ]
  },
  {
   "cell_type": "code",
   "execution_count": 34,
   "metadata": {},
   "outputs": [
    {
     "name": "stdout",
     "output_type": "stream",
     "text": [
      "6\n"
     ]
    }
   ],
   "source": [
    "# 3의 배수가 아니면 오류를 던지겠다.\n",
    "try:\n",
    "    x=int(input('3의 배수를 입력해주세요.'))\n",
    "    if x % 3 != 0:\n",
    "        raise Exception('3의 배수가 아닙니다.') # Exception을 야기시키다. 파라미터: '3의 배수가 아닙니다.'\n",
    "    print(x)\n",
    "except Exception as e:\n",
    "    print('오류발생',e)"
   ]
  },
  {
   "cell_type": "code",
   "execution_count": 39,
   "metadata": {},
   "outputs": [
    {
     "name": "stdout",
     "output_type": "stream",
     "text": [
      "3의 배수가 아닙니다.\n"
     ]
    }
   ],
   "source": [
    "def three_mul():\n",
    "    x=int(input('3의 배수를 입력해주세요.'))\n",
    "    if x % 3 != 0:\n",
    "        raise Exception('3의 배수가 아닙니다.')\n",
    "    print(x)\n",
    "    \n",
    "try:\n",
    "    three_mul()\n",
    "except Exception as e:\n",
    "    print(e)"
   ]
  },
  {
   "cell_type": "code",
   "execution_count": 43,
   "metadata": {},
   "outputs": [
    {
     "name": "stdout",
     "output_type": "stream",
     "text": [
      "함수 내에 예외 발생,  invalid literal for int() with base 10: 'f'\n",
      "invalid literal for int() with base 10: 'f'\n"
     ]
    }
   ],
   "source": [
    "def three_mul():\n",
    "    try:\n",
    "        x=int(input('3의 배수를 입력해주세요.'))\n",
    "        if x % 3 != 0:\n",
    "            raise Exception('3의 배수가 아닙니다.')\n",
    "        print(x)\n",
    "    except Exception as e:\n",
    "        print('함수 내에 예외 발생, ',e)\n",
    "        raise\n",
    "\n",
    "try:\n",
    "    three_mul()\n",
    "except Exception as e:\n",
    "    print(e)"
   ]
  },
  {
   "cell_type": "code",
   "execution_count": 46,
   "metadata": {},
   "outputs": [
    {
     "name": "stdout",
     "output_type": "stream",
     "text": [
      "예외발생\n"
     ]
    }
   ],
   "source": [
    "try:\n",
    "    num=int(input('숫자입력: '))\n",
    "except:\n",
    "    print('예외발생')\n",
    "else:\n",
    "    print(f'입력한 숫자는 {num}입니다.')"
   ]
  },
  {
   "cell_type": "code",
   "execution_count": 49,
   "metadata": {},
   "outputs": [
    {
     "name": "stdout",
     "output_type": "stream",
     "text": [
      "예외발생 invalid literal for int() with base 10: 'd 10'\n",
      "finally: 무조건 실행\n"
     ]
    }
   ],
   "source": [
    "try:\n",
    "    num=int(input('숫자입력: '))\n",
    "    print(f'입력한 숫자는 {num}입니다.')\n",
    "except Exception as e:\n",
    "    print('예외발생',e)\n",
    "finally:      # 무조건 실행\n",
    "    print('finally: 무조건 실행')"
   ]
  },
  {
   "cell_type": "markdown",
   "metadata": {},
   "source": []
  }
 ],
 "metadata": {
  "kernelspec": {
   "display_name": "Python 3",
   "language": "python",
   "name": "python3"
  },
  "language_info": {
   "codemirror_mode": {
    "name": "ipython",
    "version": 3
   },
   "file_extension": ".py",
   "mimetype": "text/x-python",
   "name": "python",
   "nbconvert_exporter": "python",
   "pygments_lexer": "ipython3",
   "version": "3.12.1"
  }
 },
 "nbformat": 4,
 "nbformat_minor": 2
}
