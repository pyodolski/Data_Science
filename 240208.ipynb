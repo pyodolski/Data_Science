{
 "cells": [
  {
   "cell_type": "markdown",
   "metadata": {},
   "source": [
    "- 공통의 생명력 1000이 있다.\n",
    "- 전사와 마법사는 공격을 당하면\n",
    "- 각각 15, 5의 생명이 소모된다.\n",
    "- 기본적으로 공격당하면 10의 생명이 소모된다.\n",
    "- 전사 25 마법사 15 소모?\n",
    "\n",
    "- 공격을 여러번 당했을 때\n",
    "- 각각의 캐릭터별로 각각 공격을 여러번 당했을 때,\n",
    "- 남은 생명력을 출력하는 예제를 객체를 통해 구현해보자."
   ]
  },
  {
   "cell_type": "code",
   "execution_count": 5,
   "metadata": {},
   "outputs": [
    {
     "ename": "AttributeError",
     "evalue": "'super' object has no attribute 'damage'",
     "output_type": "error",
     "traceback": [
      "\u001b[1;31m---------------------------------------------------------------------------\u001b[0m",
      "\u001b[1;31mAttributeError\u001b[0m                            Traceback (most recent call last)",
      "Cell \u001b[1;32mIn[5], line 27\u001b[0m\n\u001b[0;32m     24\u001b[0m         \u001b[38;5;28mprint\u001b[39m(\u001b[38;5;124mf\u001b[39m\u001b[38;5;124m'\u001b[39m\u001b[38;5;124m전사가 공격 받은 횟수는 \u001b[39m\u001b[38;5;132;01m{\u001b[39;00m\u001b[38;5;28mself\u001b[39m\u001b[38;5;241m.\u001b[39mdamage_cnt\u001b[38;5;132;01m}\u001b[39;00m\u001b[38;5;124m이고 남은 생명은 \u001b[39m\u001b[38;5;132;01m{\u001b[39;00m\u001b[38;5;28msuper\u001b[39m()\u001b[38;5;241m.\u001b[39mr_life\u001b[38;5;132;01m}\u001b[39;00m\u001b[38;5;124m'\u001b[39m)\n\u001b[0;32m     26\u001b[0m a \u001b[38;5;241m=\u001b[39m warrior(\u001b[38;5;241m1000\u001b[39m)\n\u001b[1;32m---> 27\u001b[0m \u001b[43ma\u001b[49m\u001b[38;5;241;43m.\u001b[39;49m\u001b[43mdamage\u001b[49m\u001b[43m(\u001b[49m\u001b[38;5;241;43m25\u001b[39;49m\u001b[43m)\u001b[49m\n\u001b[0;32m     28\u001b[0m a\u001b[38;5;241m.\u001b[39mdamage_cnt(\u001b[38;5;241m10\u001b[39m)\n\u001b[0;32m     29\u001b[0m a\u001b[38;5;241m.\u001b[39mprint_info()\n",
      "Cell \u001b[1;32mIn[5], line 16\u001b[0m, in \u001b[0;36mwarrior.damage\u001b[1;34m(self, damage)\u001b[0m\n\u001b[0;32m     15\u001b[0m \u001b[38;5;28;01mdef\u001b[39;00m \u001b[38;5;21mdamage\u001b[39m(\u001b[38;5;28mself\u001b[39m, damage):\n\u001b[1;32m---> 16\u001b[0m     \u001b[38;5;28;43msuper\u001b[39;49m\u001b[43m(\u001b[49m\u001b[43m)\u001b[49m\u001b[38;5;241;43m.\u001b[39;49m\u001b[43mdamage\u001b[49m \u001b[38;5;241m=\u001b[39m damage\n\u001b[0;32m     17\u001b[0m     \u001b[38;5;28mself\u001b[39m\u001b[38;5;241m.\u001b[39mdamage \u001b[38;5;241m=\u001b[39m damage\n",
      "\u001b[1;31mAttributeError\u001b[0m: 'super' object has no attribute 'damage'"
     ]
    }
   ],
   "source": [
    "class character:\n",
    "    def __init__(self, life): # 1000으로 그냥 고정 \n",
    "        self.life = life \n",
    "\n",
    "    def damage_cnt(self, damage_cnt):\n",
    "        self.damage_cnt = damage_cnt\n",
    "\n",
    "    def damage(self, damage):\n",
    "        self.damage = damage\n",
    "    \n",
    "    def r_life(self):\n",
    "        self.r_life -= (self.damage_cnt * self.damage)\n",
    "\n",
    "class warrior(character):\n",
    "    def damage(self, damage):\n",
    "        super().damage = damage\n",
    "        self.damage = damage\n",
    "\n",
    "    def damage_cnt(self, damage_cnt):\n",
    "        super().damage_cnt = damage_cnt\n",
    "        self.damage_cnt = damage_cnt\n",
    "\n",
    "    def print_info(self):\n",
    "        print(f'전사가 공격 받은 횟수는 {self.damage_cnt}이고 남은 생명은 {super().r_life}')\n",
    "\n",
    "a = warrior(1000)\n",
    "a.damage(25)\n",
    "a.damage_cnt(10)\n",
    "a.print_info()\n",
    "       \n",
    "\n"
   ]
  },
  {
   "cell_type": "code",
   "execution_count": 6,
   "metadata": {},
   "outputs": [],
   "source": [
    "class Character:\n",
    "\n",
    "    life = 1000 # 공통 생명력 변수 설정\n",
    "\n",
    "    def __init__(self):\n",
    "\n",
    "        pass\n",
    "\n",
    "    def attacked(self, damage):\n",
    "        Character.life -= (10 + damage)\n",
    "        print(f'공격받음! 생명력={Character.life}')\n",
    "        pass\n",
    "\n",
    "\n",
    "class Warrior(Character):\n",
    "    def __init__(self):\n",
    "        super(). __init__() # 상속받았기 떄문에 생성자 함수 필수! \n",
    "\n",
    "        self.damaged = 15\n",
    "        self.intelligence = 5\n",
    "        pass\n",
    "    \n",
    "    def attacked(self): # 인스턴스 메소드 부모와 같은 것이 아님\n",
    "        return super().attacked(self.damaged)\n",
    "    \n",
    "class Wizard(Character):\n",
    "    def __init__(self):\n",
    "        super(). __init__() \n",
    "        self.damaged = 5\n",
    "        self.intelligence = 15\n",
    "        pass\n",
    "    \n",
    "    def attacked(self): \n",
    "        return super().attacked(self.damaged)"
   ]
  },
  {
   "cell_type": "code",
   "execution_count": 8,
   "metadata": {},
   "outputs": [
    {
     "name": "stdout",
     "output_type": "stream",
     "text": [
      "공격받음! 생명력=910\n",
      "공격받음! 생명력=885\n",
      "공격받음! 생명력=870\n"
     ]
    }
   ],
   "source": [
    "warrior = Warrior()\n",
    "warrior.attacked()\n",
    "warrior.attacked()\n",
    "\n",
    "wizard = Wizard()\n",
    "wizard.attacked()"
   ]
  },
  {
   "cell_type": "markdown",
   "metadata": {},
   "source": [
    "### 모듈\n",
    "- 모듈은 여러변수와 함수를 가지고 있는 집합\n",
    "\n",
    "- 내부 모듈\n",
    "    - 파이썬 내부에 내장되어있는 기본적으로 내장되어있는 모듈\n",
    "\n",
    "    ```python\n",
    "    import 모듈이름\n",
    "    \n",
    "    ```"
   ]
  },
  {
   "cell_type": "code",
   "execution_count": 13,
   "metadata": {},
   "outputs": [
    {
     "name": "stdout",
     "output_type": "stream",
     "text": [
      "['c:\\\\Users\\\\OWNER\\\\Desktop\\\\python\\\\ch_01', 'c:\\\\Users\\\\OWNER\\\\AppData\\\\Local\\\\Programs\\\\Python\\\\Python312\\\\python312.zip', 'c:\\\\Users\\\\OWNER\\\\AppData\\\\Local\\\\Programs\\\\Python\\\\Python312\\\\DLLs', 'c:\\\\Users\\\\OWNER\\\\AppData\\\\Local\\\\Programs\\\\Python\\\\Python312\\\\Lib', 'c:\\\\Users\\\\OWNER\\\\AppData\\\\Local\\\\Programs\\\\Python\\\\Python312', '', 'C:\\\\Users\\\\OWNER\\\\AppData\\\\Roaming\\\\Python\\\\Python312\\\\site-packages', 'C:\\\\Users\\\\OWNER\\\\AppData\\\\Roaming\\\\Python\\\\Python312\\\\site-packages\\\\win32', 'C:\\\\Users\\\\OWNER\\\\AppData\\\\Roaming\\\\Python\\\\Python312\\\\site-packages\\\\win32\\\\lib', 'C:\\\\Users\\\\OWNER\\\\AppData\\\\Roaming\\\\Python\\\\Python312\\\\site-packages\\\\Pythonwin', 'c:\\\\Users\\\\OWNER\\\\AppData\\\\Local\\\\Programs\\\\Python\\\\Python312\\\\Lib\\\\site-packages']\n"
     ]
    }
   ],
   "source": [
    "import sys # system 관련 모듈 사용 가능\n",
    "print(sys.path)"
   ]
  },
  {
   "cell_type": "code",
   "execution_count": 31,
   "metadata": {},
   "outputs": [
    {
     "name": "stdout",
     "output_type": "stream",
     "text": [
      "2\n"
     ]
    },
    {
     "data": {
      "text/plain": [
       "1.7320508075688772"
      ]
     },
     "execution_count": 31,
     "metadata": {},
     "output_type": "execute_result"
    }
   ],
   "source": [
    "import math # math 관련 모듈 사용 가능\n",
    "print(math.ceil(1.2)) # 올림 \n",
    "math.floor(1.2)\n",
    "math.sqrt(3)"
   ]
  },
  {
   "cell_type": "code",
   "execution_count": 34,
   "metadata": {},
   "outputs": [
    {
     "name": "stdout",
     "output_type": "stream",
     "text": [
      "2024-02-08 10:58:45.328633\n",
      "2023-05-12\n"
     ]
    }
   ],
   "source": [
    "import datetime\n",
    "current_datetime = datetime.datetime.now()\n",
    "print(current_datetime)\n",
    "\n",
    "custom_date = datetime.date(2023, 5, 12)\n",
    "print(custom_date)"
   ]
  },
  {
   "cell_type": "markdown",
   "metadata": {},
   "source": [
    "## from\n",
    "- 모듈 내에서 필요한 것만 골라서 가져올 때 사용\n",
    "\n",
    "- from 모듈이름 import 가져오고 싶은 변수 또는 함수\n",
    "\n",
    "## as\n",
    "- 별칭\n",
    "```python \n",
    "import 모듈이름 as 모듈의 별칭\n",
    "```"
   ]
  },
  {
   "cell_type": "code",
   "execution_count": 39,
   "metadata": {},
   "outputs": [
    {
     "name": "stdout",
     "output_type": "stream",
     "text": [
      "안녕하세요 저는 Maria입니다\n"
     ]
    }
   ],
   "source": [
    "import people # people이라는 모듈을 호출하여서 people 내의 클래스 사용 가능\n",
    "maria = people.Person(\"Maria\", \"18\", \"Korea Daegu\")\n",
    "maria.print_info()"
   ]
  },
  {
   "cell_type": "code",
   "execution_count": 41,
   "metadata": {},
   "outputs": [
    {
     "name": "stdout",
     "output_type": "stream",
     "text": [
      "안녕하세요 저는 kavin입니다\n"
     ]
    }
   ],
   "source": [
    "from people import Person # people 모듈에서 특정 Person만 사용하려 할 때\n",
    "kavin = Person(\"kavin\", \"18\", \"korea daegu\")\n",
    "kavin.print_info()"
   ]
  },
  {
   "cell_type": "code",
   "execution_count": 44,
   "metadata": {},
   "outputs": [
    {
     "name": "stdout",
     "output_type": "stream",
     "text": [
      "안녕하세요 저는 pyo입니다\n"
     ]
    }
   ],
   "source": [
    "from people import Person as p # 별칭 사용할 때 사용\n",
    "pyo = p(\"pyo\", \"18\", \"Korea Daegu\")\n",
    "pyo.print_info()"
   ]
  },
  {
   "cell_type": "markdown",
   "metadata": {},
   "source": [
    "- 토기와 고양이 변수를 하나 만들고\n",
    "- 점프하는 메소드를 하나씩 만들어서\n",
    "- 모듈로 제공하고, \n",
    "- import를 통해 활용"
   ]
  },
  {
   "cell_type": "code",
   "execution_count": 51,
   "metadata": {},
   "outputs": [
    {
     "ename": "ImportError",
     "evalue": "cannot import name 'cat' from 'animal' (c:\\Users\\OWNER\\Desktop\\python\\ch_01\\animal.py)",
     "output_type": "error",
     "traceback": [
      "\u001b[1;31m---------------------------------------------------------------------------\u001b[0m",
      "\u001b[1;31mImportError\u001b[0m                               Traceback (most recent call last)",
      "Cell \u001b[1;32mIn[51], line 3\u001b[0m\n\u001b[0;32m      1\u001b[0m \u001b[38;5;28;01mimport\u001b[39;00m \u001b[38;5;21;01manimal\u001b[39;00m\n\u001b[1;32m----> 3\u001b[0m \u001b[38;5;28;01mfrom\u001b[39;00m \u001b[38;5;21;01manimal\u001b[39;00m \u001b[38;5;28;01mimport\u001b[39;00m cat, rabbit_jump\n\u001b[0;32m      4\u001b[0m rabbit_jump()\n\u001b[0;32m      6\u001b[0m \u001b[38;5;28;01mimport\u001b[39;00m \u001b[38;5;21;01manimal\u001b[39;00m \u001b[38;5;28;01mas\u001b[39;00m \u001b[38;5;21;01mani\u001b[39;00m\n",
      "\u001b[1;31mImportError\u001b[0m: cannot import name 'cat' from 'animal' (c:\\Users\\OWNER\\Desktop\\python\\ch_01\\animal.py)"
     ]
    }
   ],
   "source": [
    "import animal\n",
    "\n",
    "from animal import cat, rabbit_jump\n",
    "rabbit_jump()\n",
    "\n",
    "import animal as ani\n",
    "ani.cat_jump()"
   ]
  }
 ],
 "metadata": {
  "kernelspec": {
   "display_name": "Python 3",
   "language": "python",
   "name": "python3"
  },
  "language_info": {
   "codemirror_mode": {
    "name": "ipython",
    "version": 3
   },
   "file_extension": ".py",
   "mimetype": "text/x-python",
   "name": "python",
   "nbconvert_exporter": "python",
   "pygments_lexer": "ipython3",
   "version": "3.12.1"
  }
 },
 "nbformat": 4,
 "nbformat_minor": 2
}
