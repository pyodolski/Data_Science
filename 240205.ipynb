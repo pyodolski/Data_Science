{
 "cells": [
  {
   "cell_type": "markdown",
   "metadata": {},
   "source": [
    "### 변수\n",
    "어떤 값을 저장한기 위한 저장공간\n",
    "\n",
    "\n",
    "### 변수이름의 규칙\n",
    "- 영문자 혹은 _ 시작\n",
    "- 대소문자 구분\n",
    "- 숫자로 시작할 수 없음\n",
    "- 특수문자 사용안됨\n",
    "- 공백안됨\n",
    "- 파이썬 예약어 사용안됨"
   ]
  },
  {
   "cell_type": "code",
   "execution_count": 29,
   "metadata": {},
   "outputs": [
    {
     "name": "stdout",
     "output_type": "stream",
     "text": [
      "5 <class 'int'>\n"
     ]
    }
   ],
   "source": [
    "# 파이썬은 모든 것이 다 객체(class)이다.\n",
    "\n",
    "# a는 변수\n",
    "a = 7\n",
    "b = 5 \n",
    "print(b, type(b))\n",
    "\n",
    "# int : 정수형 타입"
   ]
  },
  {
   "cell_type": "code",
   "execution_count": 34,
   "metadata": {},
   "outputs": [
    {
     "name": "stdout",
     "output_type": "stream",
     "text": [
      "5\n",
      "5\n"
     ]
    }
   ],
   "source": [
    "b = a\n",
    "print(b)\n",
    "\n",
    "# call by reference : 객체가 메모리의 주소를 가진다.\n",
    "a = 5\n",
    "print(a)"
   ]
  },
  {
   "cell_type": "markdown",
   "metadata": {},
   "source": [
    "### 변수선언\n",
    "\n",
    "- 하나의 변수에 하나의 값을 대입\n",
    "- 두개의 변수에 같은 값을 대입\n",
    "- 변수에 변수를 대입"
   ]
  },
  {
   "cell_type": "code",
   "execution_count": 8,
   "metadata": {},
   "outputs": [
    {
     "name": "stdout",
     "output_type": "stream",
     "text": [
      "<class 'str'>\n",
      "<class 'float'>\n",
      "<class 'bool'>\n",
      "<class 'int'>\n",
      "<class 'str'>\n",
      "<class 'list'>\n"
     ]
    }
   ],
   "source": [
    "# 하나의 변수에 하나의 값\n",
    "a = 1 \n",
    "b = 1 \n",
    "\n",
    "# 변수에 값을 할당\n",
    "age = 30 # 정수형\n",
    "name = \"홍길동\"\n",
    "name2 = None # 빈값\n",
    "print(type(name))\n",
    "pi = 3.14 \n",
    "print(type(pi)) # 실수형\n",
    "real = True\n",
    "print(type(real)) # 논리형\n",
    "\n",
    "# 변수의 재할당\n",
    "x = 10\n",
    "print(type(x))\n",
    "x = 'hello'\n",
    "print(type(x))\n",
    "x = [1,2,3]\n",
    "print(type(x))\n"
   ]
  },
  {
   "cell_type": "code",
   "execution_count": 10,
   "metadata": {},
   "outputs": [
    {
     "name": "stdout",
     "output_type": "stream",
     "text": [
      "1 1\n"
     ]
    }
   ],
   "source": [
    "# 두개의 변수에 같은 값을 대입\n",
    "a = b = 1\n",
    "\n",
    "# 변수에 변수를 대입\n",
    "a = 1 \n",
    "b = a \n",
    "\n",
    "print(a, b)"
   ]
  },
  {
   "cell_type": "code",
   "execution_count": 19,
   "metadata": {},
   "outputs": [
    {
     "name": "stdout",
     "output_type": "stream",
     "text": [
      "2000 10\n",
      "<class 'int'>\n",
      "Hello kim!\n"
     ]
    }
   ],
   "source": [
    "# 값을 변경해보자\n",
    "a = 10\n",
    "b = 2000\n",
    "\n",
    "a, b = b, a # swap(a, b)\n",
    "print(a, b)\n",
    "\n",
    "# 변수의 자료형 확인\n",
    "x = 10\n",
    "print(type(x))\n",
    "\n",
    "# 변수의 활용\n",
    "x = 10\n",
    "y = 20 \n",
    "sum = x + y\n",
    "\n",
    "name = 'kim'\n",
    "msg = 'Hello' + ' ' +  name + '!'\n",
    "print(msg)"
   ]
  },
  {
   "cell_type": "code",
   "execution_count": 21,
   "metadata": {},
   "outputs": [
    {
     "name": "stdout",
     "output_type": "stream",
     "text": [
      "10 20\n"
     ]
    }
   ],
   "source": [
    "# 변수의 출력\n",
    "a = 10\n",
    "A = 20 \n",
    "\n",
    "print(a, A)"
   ]
  },
  {
   "cell_type": "code",
   "execution_count": 22,
   "metadata": {},
   "outputs": [],
   "source": [
    "# 변수 선언시 주의할 점\n",
    "\n",
    "# age = 30 name = 'kim'  # 한 라인에 2개의 변수를 선언 불가\n",
    "# 30age = 30 # 변수 이름에 숫자 사용 불가\n",
    "\n",
    "# 변수명은 대소문자를 구분\n",
    "age = 30\n",
    "Age = 30 "
   ]
  },
  {
   "cell_type": "markdown",
   "metadata": {},
   "source": [
    "### data type (자료형)\n",
    "- 프로그램에서 표현하고 저장하는 데이터 유형 (= 메모리의 크기가 결정)\n",
    "\n",
    "1. 순서형 자료형\n",
    " - 숫자(number) : 정수, 실수, 복소수....\n",
    " - 문자(strings) : 문자열\n",
    " - 리스트(list) : 객체의 집합 (= 인덱스가 있다)\n",
    " - 튜플(tuples) : 객체의 집합 (= 인덱스가 있다)\n",
    "\n",
    "2. 비순서형 자료\n",
    " - Dictionary(딕셔너리) : key & value \n",
    " - Set (집합) \n",
    " - bool : True & False "
   ]
  },
  {
   "cell_type": "code",
   "execution_count": 27,
   "metadata": {},
   "outputs": [
    {
     "name": "stdout",
     "output_type": "stream",
     "text": [
      "3\n",
      "-3.2\n",
      "<class 'int'> <class 'float'>\n"
     ]
    }
   ],
   "source": [
    "# number \n",
    "print(3)\n",
    "print(-3.2)\n",
    "print(type(3), type(-3.2))"
   ]
  },
  {
   "cell_type": "code",
   "execution_count": 33,
   "metadata": {},
   "outputs": [
    {
     "name": "stdout",
     "output_type": "stream",
     "text": [
      "7.2 0.7999999999999998 12.8 1.25\n"
     ]
    }
   ],
   "source": [
    "# 연산자\n",
    "# +, -, *, /\n",
    "\n",
    "a = 4\n",
    "b = 3.2\n",
    "c = 2\n",
    "\n",
    "print(a + b, a - b, a * b, a / b)"
   ]
  },
  {
   "cell_type": "code",
   "execution_count": 38,
   "metadata": {},
   "outputs": [
    {
     "name": "stdout",
     "output_type": "stream",
     "text": [
      "0\n",
      "2\n"
     ]
    }
   ],
   "source": [
    "# % : 나머지 연산자\n",
    "# // : 몫 연산자\n",
    "\n",
    "print(a % c)\n",
    "print(a // c)"
   ]
  },
  {
   "cell_type": "code",
   "execution_count": 45,
   "metadata": {},
   "outputs": [
    {
     "name": "stdout",
     "output_type": "stream",
     "text": [
      "16\n"
     ]
    }
   ],
   "source": [
    "# ** : 제곱 연산자 \n",
    "\n",
    "print(a**c)"
   ]
  },
  {
   "cell_type": "code",
   "execution_count": 55,
   "metadata": {},
   "outputs": [
    {
     "name": "stdout",
     "output_type": "stream",
     "text": [
      "6\n",
      "5.0\n",
      "2.2\n",
      "16\n"
     ]
    }
   ],
   "source": [
    "# Python 관련 함수\n",
    "# 내장함수 int, float\n",
    "\n",
    "print(int(6.2))\n",
    "\n",
    "print(float(5))\n",
    "\n",
    "# 절댓값\n",
    "print(abs(-2.2))\n",
    "# 제곱근\n",
    "print(pow(4, 2))"
   ]
  },
  {
   "cell_type": "markdown",
   "metadata": {},
   "source": [
    "### 문자열\n",
    "- 큰따움표 혹은 작은 따움표로 문자열을 만든다.\n",
    "- 문자열 내부에 따옴표가 필요한 경우 '이스케이프(백슬래시)'\\ 문자를 통해 가능"
   ]
  },
  {
   "cell_type": "code",
   "execution_count": 62,
   "metadata": {},
   "outputs": [
    {
     "name": "stdout",
     "output_type": "stream",
     "text": [
      "Hello\n",
      "Hello\n",
      "I'm Smart\n",
      "I'm Smart\n",
      "Kavin는 '파이썬 프로그램' 잘한다.\n"
     ]
    }
   ],
   "source": [
    "# 큰 따움표, 작은 따움표의 활용\n",
    "word = \"Hello\"\n",
    "print(word)\n",
    "\n",
    "print(\"Hello\")\n",
    "\n",
    "# 문자열 내부의 작은 따움표\n",
    "print(\"I'm Smart\")\n",
    "\n",
    "print('I\\'m Smart')\n",
    "print('Kavin는 \\'파이썬 프로그램\\' 잘한다.')"
   ]
  },
  {
   "cell_type": "code",
   "execution_count": 64,
   "metadata": {},
   "outputs": [
    {
     "name": "stdout",
     "output_type": "stream",
     "text": [
      "\n",
      "글을 쓴다. \n",
      "세줄도 된다.\n",
      "네줄도 된다.\n",
      "\n"
     ]
    }
   ],
   "source": [
    "# 여러개의 문자열\n",
    "sentence = \"\"\"\n",
    "글을 쓴다. \n",
    "세줄도 된다.\n",
    "네줄도 된다.\n",
    "\"\"\"\n",
    "\n",
    "print(sentence)"
   ]
  },
  {
   "cell_type": "code",
   "execution_count": 66,
   "metadata": {},
   "outputs": [
    {
     "name": "stdout",
     "output_type": "stream",
     "text": [
      "글을 쓴다. \n",
      "세줄도 된다.\n",
      "네줄도 된다.\n"
     ]
    }
   ],
   "source": [
    "sentence = \"\"\"\\\n",
    "글을 쓴다. \n",
    "세줄도 된다.\n",
    "네줄도 된다.\\\n",
    "\"\"\"\n",
    "\n",
    "print(sentence)"
   ]
  },
  {
   "cell_type": "code",
   "execution_count": 69,
   "metadata": {},
   "outputs": [
    {
     "name": "stdout",
     "output_type": "stream",
     "text": [
      "1\n",
      "2 3\t4 '작은따움표' 출력 \"큰따움표\" 출력\n"
     ]
    }
   ],
   "source": [
    "# 이스케이프 문자\n",
    "# \\n: 줄바꿈, \\t: 탭, \\\\: 역슬래쉬, \\': 작은따움표, \\\": 큰따움표\n",
    "\n",
    "sentence1 = \"1\\n2\"\n",
    "sentence2 = \"3\\t4\"\n",
    "sentence3 = '\\'작은따움표\\' 출력'\n",
    "sentence4 = \"\\\"큰따움표\\\" 출력\"\n",
    "print(sentence1, sentence2, sentence3,sentence4)"
   ]
  },
  {
   "cell_type": "code",
   "execution_count": 72,
   "metadata": {},
   "outputs": [
    {
     "name": "stdout",
     "output_type": "stream",
     "text": [
      "파이썬! programing\n"
     ]
    }
   ],
   "source": [
    "# 문자열 자료형(string)\n",
    "# - 연산자 +, *\n",
    "\n",
    "a = '파이썬! '\n",
    "b = \"programing\"\n",
    "\n",
    "print(a + b)\n"
   ]
  },
  {
   "cell_type": "code",
   "execution_count": 73,
   "metadata": {},
   "outputs": [
    {
     "name": "stdout",
     "output_type": "stream",
     "text": [
      "==============================\n",
      "python!\n",
      "==============================\n"
     ]
    }
   ],
   "source": [
    "# [*]는 문자열 반복 연산자\n",
    "equal = \"=\" * 30\n",
    "sentence = equal + \"\\npython!\\n\" + equal\n",
    "print(sentence)"
   ]
  },
  {
   "cell_type": "markdown",
   "metadata": {},
   "source": [
    "# 문자열 인덱싱과 슬라이싱\n",
    "- 인덱싱\n",
    "  문자열 내부에 문자 하나를 선택하는 연산자 : []\n",
    "  [] 안에 선택할 문자의 위치를 지정 : index는 0부터 시작"
   ]
  },
  {
   "cell_type": "code",
   "execution_count": 83,
   "metadata": {},
   "outputs": [
    {
     "name": "stdout",
     "output_type": "stream",
     "text": [
      "파이썬 프로그래밍\n",
      "프\n",
      "밍\n"
     ]
    }
   ],
   "source": [
    "sentence = '파이썬 프로그래밍'\n",
    "print(sentence)\n",
    "\n",
    "# 순방향 : 0부터 시작\n",
    "# 역방향 : -1부터 시작\n",
    "print(sentence[4])\n",
    "print(sentence[-1])"
   ]
  },
  {
   "cell_type": "markdown",
   "metadata": {},
   "source": [
    "- 슬라이싱\n",
    "  문자열의 특정 범위 선택 : [ : ] \n",
    "  문자열[인덱스1 : 인덱스2] : 인덱스2 포함되지 않는다. \n",
    "  "
   ]
  },
  {
   "cell_type": "code",
   "execution_count": 95,
   "metadata": {},
   "outputs": [
    {
     "name": "stdout",
     "output_type": "stream",
     "text": [
      "프로그래\n",
      "로그래밍\n"
     ]
    }
   ],
   "source": [
    "sentence = \"파이썬 프로그래밍\"\n",
    "print(sentence[4 : 8]) # 4 ~ 7\n",
    "print(sentence[5 : ]) # 뒤의 인덱스를 지정하지 않으면 끝까지 출력"
   ]
  },
  {
   "cell_type": "markdown",
   "metadata": {},
   "source": [
    "- formatting \n",
    "문자열 안에 어떤 값을 삽입하는 방법\n",
    "1. 연산자 포멧팅 : % \n",
    "2. 함수 포멧팅 : .format\n",
    "3. f-string  : f''"
   ]
  },
  {
   "cell_type": "code",
   "execution_count": 98,
   "metadata": {},
   "outputs": [
    {
     "data": {
      "text/plain": [
       "'나는 4호선을 타고 학교를 간다.'"
      ]
     },
     "execution_count": 98,
     "metadata": {},
     "output_type": "execute_result"
    }
   ],
   "source": [
    "# 연산자 포멧팅\n",
    "# %d : 정수, %f : 실수, %s : 문자열\n",
    "\n",
    "sentence = '나는 %d호선을 타고 다닌다.' % 6\n",
    "sentence\n",
    "\n",
    "a = 4\n",
    "b = '학교'\n",
    "sentence = \"나는 %d호선을 타고 %s를 간다.\" %(a, b)\n",
    "sentence"
   ]
  },
  {
   "cell_type": "code",
   "execution_count": 110,
   "metadata": {},
   "outputs": [
    {
     "name": "stdout",
     "output_type": "stream",
     "text": [
      "나는 4호선을 타고 다녀\n",
      "나는 4호선을 타고 학교에 간다.\n"
     ]
    }
   ],
   "source": [
    "# format 함수 포멧팅\n",
    "# {}를 포함한 문자열뒤에 (.)도트를 짝고 format함수를 사용\n",
    "\n",
    "\n",
    "print('나는 {}호선을 타고 다녀'.format(4))\n",
    "print(\"나는 {}호선을 타고 {}에 간다.\".format(4, '학교'))"
   ]
  },
  {
   "cell_type": "code",
   "execution_count": 118,
   "metadata": {},
   "outputs": [
    {
     "data": {
      "text/plain": [
       "'저는 coffee를 좋아한다. 하루에 5잔 마셔요.'"
      ]
     },
     "execution_count": 118,
     "metadata": {},
     "output_type": "execute_result"
    }
   ],
   "source": [
    "# f-string\n",
    "s = 'coffee'\n",
    "n = 5\n",
    "result = f'저는 {s}를 좋아한다. 하루에 {n}잔 마셔요.'\n",
    "result"
   ]
  },
  {
   "cell_type": "markdown",
   "metadata": {},
   "source": [
    "### 문자열 관련 함수\n",
    "- len(x) : 문자열의 길이\n",
    "- split() : 문자열 나누기\n",
    "- count(x) : 문자 개수 세기\n",
    "- replace('a', 'b') : 문자열 바꾸기\n",
    "- upper() : 소문자를 대문자\n",
    "- lower() : 대문자를 소문자\n",
    "- join(x) : 문자열 삽입"
   ]
  },
  {
   "cell_type": "code",
   "execution_count": 119,
   "metadata": {},
   "outputs": [
    {
     "name": "stdout",
     "output_type": "stream",
     "text": [
      "18\n"
     ]
    }
   ],
   "source": [
    "sentence = 'kavin은 파이썬을 좋아합니다.'\n",
    "print(len(sentence))"
   ]
  },
  {
   "cell_type": "code",
   "execution_count": 134,
   "metadata": {},
   "outputs": [
    {
     "name": "stdout",
     "output_type": "stream",
     "text": [
      "<class 'list'>\n"
     ]
    }
   ],
   "source": [
    "print(type(sentence.split())) # 공백기준으로 문자열 분리, class list type"
   ]
  },
  {
   "cell_type": "code",
   "execution_count": 143,
   "metadata": {},
   "outputs": [
    {
     "name": "stdout",
     "output_type": "stream",
     "text": [
      "2\n"
     ]
    }
   ],
   "source": [
    "sentence1 = '나는 샤부샤부를 좋아합니다'\n",
    "print(sentence1.count('샤부'))"
   ]
  },
  {
   "cell_type": "code",
   "execution_count": 160,
   "metadata": {},
   "outputs": [
    {
     "name": "stdout",
     "output_type": "stream",
     "text": [
      "나는 불고기를 좋아합니다\n"
     ]
    },
    {
     "data": {
      "text/plain": [
       "'나는 샤부샤부를 좋아합니다'"
      ]
     },
     "execution_count": 160,
     "metadata": {},
     "output_type": "execute_result"
    }
   ],
   "source": [
    "sentence2 = sentence1.replace('샤부샤부', '불고기')\n",
    "print(sentence2)\n",
    "sentence1 # 원본은 보존\n"
   ]
  },
  {
   "cell_type": "code",
   "execution_count": 166,
   "metadata": {},
   "outputs": [
    {
     "name": "stdout",
     "output_type": "stream",
     "text": [
      "9\n",
      "HAMburger\n"
     ]
    }
   ],
   "source": [
    "# find('a') : 위치 알려주기 \n",
    "file_name = 'HAMburger.jpg'\n",
    "print(file_name.find('.'))\n",
    "\n",
    "dot_idx = file_name.find('.')\n",
    "file_name[dot_idx : ]\n",
    "file_name[-3:]\n",
    "#file_name.split('.')[1]\n",
    "\n",
    "print(file_name[0 : dot_idx])"
   ]
  },
  {
   "cell_type": "code",
   "execution_count": 171,
   "metadata": {},
   "outputs": [
    {
     "data": {
      "text/plain": [
       "'a.b.c.d.e'"
      ]
     },
     "execution_count": 171,
     "metadata": {},
     "output_type": "execute_result"
    }
   ],
   "source": [
    "file_name.upper()\n",
    "file_name.lower()\n",
    "\n",
    "\n",
    "sentence = '.'.join('abcde') # ==\n",
    "sentence\n"
   ]
  },
  {
   "cell_type": "markdown",
   "metadata": {},
   "source": [
    "### List\n",
    "- 인덱싱과 슬라이싱\n",
    "- 리스트 : [index]\n",
    "- 대괄호 안에 들어가는 숫자를 index 라고 한다.\n",
    "- 파이썬은 0부터 시작"
   ]
  },
  {
   "cell_type": "code",
   "execution_count": 173,
   "metadata": {},
   "outputs": [
    {
     "data": {
      "text/plain": [
       "[1, 1.35, 'kavin', [1, 2, [3, 4]]]"
      ]
     },
     "execution_count": 173,
     "metadata": {},
     "output_type": "execute_result"
    }
   ],
   "source": [
    "# 리스트 선언\n",
    "# 여러종류의 타입을 요소로 가질 수 있다.\n",
    "my_list = [1, 1.35, 'kavin', [1,2,[3,4]]] # 리스트 내부에 리스트 존재 가능\n",
    "my_list"
   ]
  },
  {
   "cell_type": "code",
   "execution_count": 219,
   "metadata": {},
   "outputs": [
    {
     "name": "stdout",
     "output_type": "stream",
     "text": [
      "유자\n"
     ]
    }
   ],
   "source": [
    "# 유자 출력\n",
    "my_list = [1, 5.2, 2 * 3, ['커피', '물', ['우롱차', '유자차']]]\n",
    "print(my_list[3][2][1][0 : 2])"
   ]
  },
  {
   "cell_type": "code",
   "execution_count": 227,
   "metadata": {},
   "outputs": [
    {
     "name": "stdout",
     "output_type": "stream",
     "text": [
      "[1, 2, 3, 1, 2, 3, 4, 5, 6]\n",
      "9\n"
     ]
    }
   ],
   "source": [
    "# 연산자 \n",
    "# +, * (반복)\n",
    "\n",
    "list1 = [1, 2, 3]\n",
    "list2 = [4, 5, 6]\n",
    "\n",
    "print(list1 * 2 + list2)\n",
    "print(len(list1 * 2 + list2))\n"
   ]
  },
  {
   "cell_type": "code",
   "execution_count": 235,
   "metadata": {},
   "outputs": [
    {
     "data": {
      "text/plain": [
       "[1, 5.2, ['커피', '물', ['메실차', '우롱차']]]"
      ]
     },
     "execution_count": 235,
     "metadata": {},
     "output_type": "execute_result"
    }
   ],
   "source": [
    "# list의 수정, 삭제\n",
    "list3 = [1, 5.2, 3 * 2, ['커피', '물', ['메실차', \"우롱차\"]]]\n",
    "list3 \n",
    "\n",
    "# 리스트는 수정, 삭제, 삽입이 가능\n",
    "list3[2] = \"변경\"\n",
    "list3 \n",
    "\n",
    "del list3[2]\n",
    "list3 "
   ]
  },
  {
   "cell_type": "markdown",
   "metadata": {},
   "source": [
    "- 관련함수\n",
    "- sort() : 정렬\n",
    "- reverse() : 리스트 뒤집기\n",
    "- append() : 리스트에 요소 추가\n",
    "- expend() : 리스트 확장\n",
    "- insert(a, b) : a번째 위치에 b를 삽입  \n",
    "- remove(x) : x위치의 요소 제거\n",
    "- count(x) : 리스트에 포함된 x의 요소 개수"
   ]
  },
  {
   "cell_type": "code",
   "execution_count": 277,
   "metadata": {},
   "outputs": [
    {
     "data": {
      "text/plain": [
       "['a', 6, 5.2, 2, 2, 'a', 'a']"
      ]
     },
     "execution_count": 277,
     "metadata": {},
     "output_type": "execute_result"
    }
   ],
   "source": [
    "list1 = [1, 5.2, 2, 6, 2]\n",
    "\n",
    "# 앞의 함수들은 원본 리스트를 변경하고 반환 값이 'NONE' 이기 때문에 바로 호출하면 'NONE'이 출력됨.\n",
    "# 앞의 함수들은 계산 후에 호출\n",
    "list1.sort()\n",
    "list1\n",
    "\n",
    "list1.reverse()\n",
    "list1\n",
    "\n",
    "list1.append('a')\n",
    "list1\n",
    "\n",
    "list1.extend('a')\n",
    "list1\n",
    "\n",
    "list1.insert(0,'a')\n",
    "list1\n",
    "\n",
    "list1.remove(1)\n",
    "list1\n"
   ]
  },
  {
   "cell_type": "code",
   "execution_count": 278,
   "metadata": {},
   "outputs": [
    {
     "name": "stdout",
     "output_type": "stream",
     "text": [
      "[1, 3, 4, 5, 8.9]\n"
     ]
    }
   ],
   "source": [
    "list2 = [3, 5, 1, 4, 8.9]\n",
    "list2.sort()\n",
    "b = sorted(list2)\n",
    "b.sort()\n",
    "print(b)\n"
   ]
  },
  {
   "cell_type": "markdown",
   "metadata": {},
   "source": [
    "#### tuple \n",
    "(데이터, 데이터, 데이터,..)\n",
    "만약 값이 한개일지라도\n",
    "(데이터, )\n",
    "\n",
    "값을 추가, 삭제, 수정 할수 없음"
   ]
  },
  {
   "cell_type": "code",
   "execution_count": 280,
   "metadata": {},
   "outputs": [
    {
     "data": {
      "text/plain": [
       "float"
      ]
     },
     "execution_count": 280,
     "metadata": {},
     "output_type": "execute_result"
    }
   ],
   "source": [
    "tuple1 = (2.3, )\n",
    "type(tuple1)\n",
    "\n",
    "float1 = (2.3)\n",
    "type(float1)"
   ]
  },
  {
   "cell_type": "code",
   "execution_count": 282,
   "metadata": {},
   "outputs": [
    {
     "data": {
      "text/plain": [
       "tuple"
      ]
     },
     "execution_count": 282,
     "metadata": {},
     "output_type": "execute_result"
    }
   ],
   "source": [
    "tuple2 = 1, 2, 3, 4, 5\n",
    "type(tuple2)"
   ]
  },
  {
   "cell_type": "code",
   "execution_count": 283,
   "metadata": {},
   "outputs": [
    {
     "data": {
      "text/plain": [
       "(4, 3)"
      ]
     },
     "execution_count": 283,
     "metadata": {},
     "output_type": "execute_result"
    }
   ],
   "source": [
    "# 인덱싱과 슬라이싱\n",
    "# 리스트와 완전 동일\n",
    "\n",
    "tuple2\n",
    "tuple2[1]\n",
    "\n",
    "tuple3 = (5, 4, 3, 2)\n",
    "# 4, 3 튜플로 출력\n",
    "tuple3 [1 : 3]"
   ]
  },
  {
   "cell_type": "code",
   "execution_count": 284,
   "metadata": {},
   "outputs": [],
   "source": [
    "# 연산자 \n",
    "# +, * (반복)\n",
    "# 변경과 삭제는 불가"
   ]
  },
  {
   "cell_type": "code",
   "execution_count": 286,
   "metadata": {},
   "outputs": [
    {
     "name": "stdout",
     "output_type": "stream",
     "text": [
      "(1, 2, 3, 1, 2, 3, 4, 5, 6)\n"
     ]
    }
   ],
   "source": [
    "t1 = (1,2,3)\n",
    "t2 = (4,5,6)\n",
    "print(t1*2 + t2)"
   ]
  },
  {
   "cell_type": "code",
   "execution_count": 292,
   "metadata": {},
   "outputs": [],
   "source": [
    "# t1[0] = 4 튜플은 값을 변경할 수 없다\n",
    "# del t1[0] 튜플은 값을 삭제할 수 없다"
   ]
  },
  {
   "cell_type": "markdown",
   "metadata": {},
   "source": [
    "### 딕셔너리 (dictionary)\n",
    "- 순서가 없는 자료형\n",
    "- 'key' = 'value'\n",
    "\n",
    "- { 'key' : 'value', ..., } : 딕셔너리 값 선언\n",
    "- ['key'] : key를 통해 값을 가져올 수 있다. \n"
   ]
  },
  {
   "cell_type": "code",
   "execution_count": 294,
   "metadata": {},
   "outputs": [
    {
     "data": {
      "text/plain": [
       "dict"
      ]
     },
     "execution_count": 294,
     "metadata": {},
     "output_type": "execute_result"
    }
   ],
   "source": [
    "myDic = {\n",
    "    \"name\" : \"kavin\",\n",
    "    \"job\" : \"IT\"\n",
    "}\n",
    "\n",
    "type(myDic)"
   ]
  },
  {
   "cell_type": "code",
   "execution_count": 300,
   "metadata": {},
   "outputs": [
    {
     "name": "stdout",
     "output_type": "stream",
     "text": [
      "kavin\n"
     ]
    }
   ],
   "source": [
    "print(myDic[\"name\"])"
   ]
  },
  {
   "cell_type": "code",
   "execution_count": 304,
   "metadata": {},
   "outputs": [
    {
     "data": {
      "text/plain": [
       "{'name': 'kavin', 'job': 'IT', 'grade': [98, 100, 88]}"
      ]
     },
     "execution_count": 304,
     "metadata": {},
     "output_type": "execute_result"
    }
   ],
   "source": [
    "# 관련함수\n",
    "# get(): key로 value 언기\n",
    "# in() : 해당키가 dict에 있는지 조사\n",
    "# clear() : key와 value 모두 지우기\n",
    "\n",
    "# 값 추가\n",
    "myDic['grade'] = [98, 100, 88]\n",
    "myDic"
   ]
  },
  {
   "cell_type": "markdown",
   "metadata": {},
   "source": [
    "## 관련함수\n",
    "- keys() : key의 리스트\n",
    "- values() : value의 리스트\n",
    "- items() : key, value 쌍 얻기\n",
    "- get() : key로 value 얻기\n",
    "- in() : 해당키가 있는지 조사\n",
    "- clear() : 초기화"
   ]
  },
  {
   "cell_type": "code",
   "execution_count": 311,
   "metadata": {},
   "outputs": [
    {
     "data": {
      "text/plain": [
       "{'name': 'kavin', 'job': 'IT', 'grade': [98, 100, 88]}"
      ]
     },
     "execution_count": 311,
     "metadata": {},
     "output_type": "execute_result"
    }
   ],
   "source": [
    "myDic"
   ]
  },
  {
   "cell_type": "code",
   "execution_count": 320,
   "metadata": {},
   "outputs": [
    {
     "name": "stdout",
     "output_type": "stream",
     "text": [
      "dict_keys(['name', 'job', 'grade'])\n",
      "dict_values(['kavin', 'IT', [98, 100, 88]])\n"
     ]
    }
   ],
   "source": [
    "print(myDic.keys()) #키 값 확인 \n",
    "print(myDic.values()) # value 값 확인"
   ]
  },
  {
   "cell_type": "code",
   "execution_count": 322,
   "metadata": {},
   "outputs": [
    {
     "name": "stdout",
     "output_type": "stream",
     "text": [
      "dict_items([('name', 'kavin'), ('job', 'IT'), ('grade', [98, 100, 88])])\n"
     ]
    }
   ],
   "source": [
    "print(myDic.items())"
   ]
  },
  {
   "cell_type": "code",
   "execution_count": 332,
   "metadata": {},
   "outputs": [
    {
     "name": "stdout",
     "output_type": "stream",
     "text": [
      "IT\n",
      "None\n"
     ]
    }
   ],
   "source": [
    "print(myDic.get(\"job\"))\n",
    "print(myDic.get(\"age\")) # get은 값이 없어도 NONE이 리턴하도록 구성\n",
    "# myDic['age'] # key값이 없어서 프로그램 오류"
   ]
  },
  {
   "cell_type": "code",
   "execution_count": 342,
   "metadata": {},
   "outputs": [
    {
     "name": "stdout",
     "output_type": "stream",
     "text": [
      "True\n"
     ]
    }
   ],
   "source": [
    "print('grade' in myDic) # 딕셔너리 내에 해당 키값이 있는지 확인"
   ]
  },
  {
   "cell_type": "code",
   "execution_count": 352,
   "metadata": {},
   "outputs": [
    {
     "data": {
      "text/plain": [
       "{}"
      ]
     },
     "execution_count": 352,
     "metadata": {},
     "output_type": "execute_result"
    }
   ],
   "source": [
    "myDic.clear()\n",
    "myDic"
   ]
  },
  {
   "cell_type": "markdown",
   "metadata": {},
   "source": [
    "### Set (집합자료형)\n",
    "비순서형 자료형\n",
    "중복허용하지 않음\n",
    "set([리스트, ...])\n",
    "set(문자열)"
   ]
  },
  {
   "cell_type": "code",
   "execution_count": 353,
   "metadata": {},
   "outputs": [
    {
     "name": "stdout",
     "output_type": "stream",
     "text": [
      "{1, 2, 3} <class 'set'>\n"
     ]
    }
   ],
   "source": [
    "set1 = set([1,2,3])\n",
    "print(set1, type(set1))"
   ]
  },
  {
   "cell_type": "code",
   "execution_count": 357,
   "metadata": {},
   "outputs": [
    {
     "name": "stdout",
     "output_type": "stream",
     "text": [
      "{'a', 'd', 'v', 'i'} <class 'set'>\n"
     ]
    }
   ],
   "source": [
    "set2 = set('david') # 중복을 허용하지 않음\n",
    "print(set2, type(set2))"
   ]
  },
  {
   "cell_type": "code",
   "execution_count": 358,
   "metadata": {},
   "outputs": [
    {
     "name": "stdout",
     "output_type": "stream",
     "text": [
      "{1, 2, 3, 4, 5, 7, 9}\n"
     ]
    }
   ],
   "source": [
    "# set의 자료형\n",
    "# 합집합(|), 교집합(&), 차집합(-)\n",
    "# add(), update() : 여러개의 값을 추가, remove()\n",
    "\n",
    "s1 = {1, 2, 3, 4, 5}\n",
    "s2 = {1, 3, 5, 7, 9}\n",
    "\n",
    "print(s1 | s2)\n"
   ]
  },
  {
   "cell_type": "code",
   "execution_count": 367,
   "metadata": {},
   "outputs": [
    {
     "name": "stdout",
     "output_type": "stream",
     "text": [
      "{1, 3, 5}\n",
      "{2, 4}\n"
     ]
    }
   ],
   "source": [
    "print(s1 & s2)\n",
    "print(s1 - s2)"
   ]
  },
  {
   "cell_type": "code",
   "execution_count": 368,
   "metadata": {},
   "outputs": [
    {
     "data": {
      "text/plain": [
       "{1, 2, 3, 4, 5, 6}"
      ]
     },
     "execution_count": 368,
     "metadata": {},
     "output_type": "execute_result"
    }
   ],
   "source": [
    "s3 = set([1,2,3,4,5])\n",
    "s3.add(6)\n",
    "s3"
   ]
  },
  {
   "cell_type": "code",
   "execution_count": 371,
   "metadata": {},
   "outputs": [
    {
     "data": {
      "text/plain": [
       "{1, 2, 3, 4, 5, 6, 11, 13}"
      ]
     },
     "execution_count": 371,
     "metadata": {},
     "output_type": "execute_result"
    }
   ],
   "source": [
    "s3.update([11,13])\n",
    "s3"
   ]
  },
  {
   "cell_type": "code",
   "execution_count": 372,
   "metadata": {},
   "outputs": [
    {
     "data": {
      "text/plain": [
       "{1, 2, 3, 4, 5, 6, 13}"
      ]
     },
     "execution_count": 372,
     "metadata": {},
     "output_type": "execute_result"
    }
   ],
   "source": [
    "s3.remove(11)\n",
    "s3"
   ]
  }
 ],
 "metadata": {
  "kernelspec": {
   "display_name": "Python 3",
   "language": "python",
   "name": "python3"
  },
  "language_info": {
   "codemirror_mode": {
    "name": "ipython",
    "version": 3
   },
   "file_extension": ".py",
   "mimetype": "text/x-python",
   "name": "python",
   "nbconvert_exporter": "python",
   "pygments_lexer": "ipython3",
   "version": "3.12.1"
  }
 },
 "nbformat": 4,
 "nbformat_minor": 2
}
